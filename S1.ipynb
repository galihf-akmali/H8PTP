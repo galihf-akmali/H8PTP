{
 "cells": [
  {
   "attachments": {
    "Hacktiv8.png": {
     "image/png": "[encoded data removed]"
    }
   },
   "cell_type": "markdown",
   "metadata": {},
   "source": [
    "# Hacktiv8 Python for Data Science Sesi 1\n",
    "![Hacktiv8.png](attachment:Hacktiv8.png)"
   ]
  },
  {
   "cell_type": "markdown",
   "metadata": {},
   "source": [
    "## 1.1 Pengertian Variabel dan Tipe Data\n",
    "\n",
    "Yang dimaksud dengan variabel dan tipe data dalam bahasa python adalah :\n",
    "1. Secara sederhana variabel adalah sebuah kata-kata untuk menyimpan sebuah nilai. Variabel menyimpan data yang dilakukan selama program berjalan, yang nantinya isi dari variabel tersebut dapat diubah oleh operasi - operasi tertentu pada program. Pada saat membuat sebuah variabel, kita ‘memesan’ tempat di dalam memori. Tempat tersebut bisa diisi dengan data atau objek, baik itu bilangan bulat `integer`, pecahan atau bilangan desimal `float`, karakter `string`, dan lain – lain.\n",
    "\n",
    "2. Tipe data adalah jenis data yang tersimpan dalam suatu variabel. Data yang disimpan di memori memiliki tipe yang berbeda – beda. Misalnya untuk panjang, akan disimpan dengan tipe `int`. Nama orang akan disimpan dalam tipe `str`. Suhu akan disimpan dalam bentuk bilangan bulat `int` atau bilangan desimal `float` dan lain sebagainya. \n",
    "\n",
    "Masing – masing tipe data akan memiliki operasi yang berbeda – beda.\n",
    "\n",
    "Python sendiri mempunyai tipe data yang cukup unik bila kita bandingkan dengan bahasa pemrograman yang lain. Python memiliki enam tipe data standar atau paling sering digunakan, yaitu:\n",
    "\n",
    "| Tipe Data | Deskripsi |\n",
    "| :----------- | :----------- |\n",
    "| String | Tipe data yang berupa karakter/kalimat berupa teks, tipe data string biasanya diapit tanda kutip (\"text\") atau ('text'). |\n",
    "| Integer | Tipe data numerik atau angka yang berupa bilangan bulat. |\n",
    "| Float | Tipe data numerik atau angka yang berupa bilangan desimal atau pecahan. |\n",
    "| List | Tipe data yang berisikan nilai atau item berturut - turut, tipe data ini bisa berupa tipe data string, integer, atau float. |\n",
    "| Tuple | Tipe data ini sangat mirip dengan data list, hanya saja perbedaan keduanya pada sifat, untuk tipe data list valuenya bisa diubah sedangkan pada tipe data tuple tidak bisa diubah. |\n",
    "| Dictionary | Tipe data berupa pasangan key dan value. |\n",
    "| Bolean | Tipe data yang menyimpan dua nilai, yaitu True dan False. |"
   ]
  },
  {
   "cell_type": "markdown",
   "metadata": {},
   "source": [
    "### 1.1.1 Variabel\n",
    "\n",
    "Di dalam bahasa Python, sangat mudah untuk mendefinisikan variabel dan menetapkan nilai untuknya. Dalam membuat variabel di Python tidak perlu didekralasikan tipe data tertentu dan variabel Python dapat diubah saat program dijalankan. Deklarasi atau pembuatan variabel terjadi secara otomatis pada saat kita memberi (menugaskan) suatu nilai ke variabel. \n",
    "\n",
    "Tanda sama dengan `=` digunakan untuk memberikan nilai ke variabel.\n",
    "\n",
    "Penulisan variabel Python sendiri juga memiliki aturan tertentu, yaitu :\n",
    "\n",
    "- Karakter pertama harus berupa huruf atau garis bawah/underscore _\n",
    "- Karakter selanjutnya dapat berupa huruf, garis bawah/underscore _ atau angka\n",
    "- Karakter pada nama variabel bersifat sensitif ( case-sensitif ). Artinya huruf kecil dan huruf besar dibedakan. Sebagai contoh, variabel `\"namaDepan\"` dan `\"namadepan\"` adalah variabel yang berbeda.\n",
    "- Nama variabel tidak boleh menggunakan kata kunci yang sudah ada dalam python seperti : (`if`, `while`, `for`, dsb.)\n",
    "- Ketika sebuah variabel tidak dibutuhkan lagi maka kita bisa menghapusnya dengan fungsi `del()` (variabel yang hendak di hapus)\n",
    "\n",
    "Operand di sebelah kiri tanda `=` adalah nama variabel dan di sebelah kanan tanda `=` adalah nilai yang disimpan di dalam variabel. \n",
    "Dibawah ini adalah contoh penggunaan variabel dalam bahasa pemrograman Python :"
   ]
  },
  {
   "cell_type": "code",
   "execution_count": 1,
   "metadata": {},
   "outputs": [
    {
     "name": "stdout",
     "output_type": "stream",
     "text": [
      "chicken pizza\n"
     ]
    }
   ],
   "source": [
    "#contoh variabel data (string)\n",
    "kotakpizza = \"chicken pizza\"\n",
    "\n",
    "#contoh proses mencetak variabel\n",
    "print(kotakpizza)"
   ]
  },
  {
   "cell_type": "code",
   "execution_count": 2,
   "metadata": {},
   "outputs": [
    {
     "name": "stdout",
     "output_type": "stream",
     "text": [
      "pepperoni pizza\n"
     ]
    }
   ],
   "source": [
    "#nilai/value data dalam variabel dapat diubah\n",
    "kotakpizza = \"pepperoni pizza\"\n",
    "\n",
    "print(kotakpizza)"
   ]
  },
  {
   "cell_type": "code",
   "execution_count": 3,
   "metadata": {},
   "outputs": [
    {
     "name": "stdout",
     "output_type": "stream",
     "text": [
      "4\n",
      "6\n"
     ]
    }
   ],
   "source": [
    "#contoh variabel data (integer)\n",
    "jumlahpizza = 4\n",
    "jumlahbrownies = 6\n",
    "\n",
    "#mencetak nilai variabel\n",
    "print(jumlahpizza)\n",
    "print(jumlahbrownies)"
   ]
  },
  {
   "cell_type": "code",
   "execution_count": 4,
   "metadata": {},
   "outputs": [
    {
     "data": {
      "text/plain": [
       "10"
      ]
     },
     "execution_count": 4,
     "metadata": {},
     "output_type": "execute_result"
    }
   ],
   "source": [
    "#contoh operasi matematika sederhana dalam Python (penjumlahan dua variabel)\n",
    "jumlahpizza + jumlahbrownies"
   ]
  },
  {
   "cell_type": "markdown",
   "metadata": {},
   "source": [
    "Pada operasi diatas dikarenakan nilai dari variabel berupa tipe data `int` maka output yang dihasilkan berupa jumlah dari gabungan dua nilai data `int` tersebut. Lain halnya apabila dua variabel tersebut merupakan data `str` maka outputnya akan seperti ini :"
   ]
  },
  {
   "cell_type": "code",
   "execution_count": 5,
   "metadata": {},
   "outputs": [
    {
     "data": {
      "text/plain": [
       "'Hallo Dunia Selamat Pagi'"
      ]
     },
     "execution_count": 5,
     "metadata": {},
     "output_type": "execute_result"
    }
   ],
   "source": [
    "salam = \"Hallo Dunia\"\n",
    "waktu = \" Selamat Pagi\"\n",
    "\n",
    "salam + waktu"
   ]
  },
  {
   "cell_type": "code",
   "execution_count": 6,
   "metadata": {},
   "outputs": [
    {
     "data": {
      "text/plain": [
       "10"
      ]
     },
     "execution_count": 6,
     "metadata": {},
     "output_type": "execute_result"
    }
   ],
   "source": [
    "#contoh proses menggabungkan dua variabel menjadi satu variabel\n",
    "jumlahmakanan = jumlahpizza + jumlahbrownies\n",
    "\n",
    "#mencetak variabel yang telah digabungkan\n",
    "jumlahmakanan"
   ]
  },
  {
   "cell_type": "code",
   "execution_count": 7,
   "metadata": {},
   "outputs": [],
   "source": [
    "#contoh variabel lainnya\n",
    "inivariabel = \"Hallo World\"\n",
    "ini_juga_variabel = \"Hai\"\n",
    "_inivariabeljuga = \"Hi\"\n",
    "inivariabel123 = \"Bye\""
   ]
  },
  {
   "cell_type": "code",
   "execution_count": 8,
   "metadata": {},
   "outputs": [
    {
     "name": "stdout",
     "output_type": "stream",
     "text": [
      "Hallo World\n",
      "Hai\n",
      "Hi\n",
      "Bye\n"
     ]
    }
   ],
   "source": [
    "print(inivariabel)\n",
    "print(ini_juga_variabel)\n",
    "print(_inivariabeljuga)\n",
    "print(inivariabel123)"
   ]
  },
  {
   "cell_type": "code",
   "execution_count": 9,
   "metadata": {},
   "outputs": [
    {
     "name": "stdout",
     "output_type": "stream",
     "text": [
      "50\n",
      "30\n"
     ]
    }
   ],
   "source": [
    "#contoh operasi matematika sederhana dalam python (rumus luas dan keliling persegi panjang)\n",
    "\n",
    "panjang = 10\n",
    "lebar = 5\n",
    "luas = panjang*lebar\n",
    "keliling = 2*(panjang+lebar)\n",
    "\n",
    "print(luas)\n",
    "print(keliling)"
   ]
  },
  {
   "cell_type": "code",
   "execution_count": 10,
   "metadata": {},
   "outputs": [
    {
     "name": "stdout",
     "output_type": "stream",
     "text": [
      "bambang\n"
     ]
    }
   ],
   "source": [
    "#contoh proses menghapus variabel\n",
    "\n",
    "nama = 'bambang'\n",
    "\n",
    "print(nama)"
   ]
  },
  {
   "cell_type": "code",
   "execution_count": 11,
   "metadata": {},
   "outputs": [
    {
     "ename": "NameError",
     "evalue": "name 'nama' is not defined",
     "output_type": "error",
     "traceback": [
      "\u001b[1;31m---------------------------------------------------------------------------\u001b[0m",
      "\u001b[1;31mNameError\u001b[0m                                 Traceback (most recent call last)",
      "\u001b[1;32m<ipython-input-11-bb58006cb52f>\u001b[0m in \u001b[0;36m<module>\u001b[1;34m\u001b[0m\n\u001b[0;32m      1\u001b[0m \u001b[1;32mdel\u001b[0m\u001b[1;33m(\u001b[0m\u001b[0mnama\u001b[0m\u001b[1;33m)\u001b[0m\u001b[1;33m\u001b[0m\u001b[1;33m\u001b[0m\u001b[0m\n\u001b[1;32m----> 2\u001b[1;33m \u001b[0mprint\u001b[0m\u001b[1;33m(\u001b[0m\u001b[0mnama\u001b[0m\u001b[1;33m)\u001b[0m\u001b[1;33m\u001b[0m\u001b[1;33m\u001b[0m\u001b[0m\n\u001b[0m",
      "\u001b[1;31mNameError\u001b[0m: name 'nama' is not defined"
     ]
    }
   ],
   "source": [
    "del(nama)\n",
    "print(nama)"
   ]
  },
  {
   "cell_type": "markdown",
   "metadata": {},
   "source": [
    "Pada perintah terakhir, kita mendapatkan NameError. Artinya variabel tidak ada di dalam memori alias sudah dihapus."
   ]
  },
  {
   "cell_type": "markdown",
   "metadata": {},
   "source": [
    "### 1.1.2 Tipe Data\n",
    "\n",
    "Secara sederhana, tipe data adalah cara kita memberitahu komputer untuk mengelompokkan data berdasarkan apa yang dipahami oleh komputer.\n",
    "\n",
    "Sebagai contoh, misalkan saya memiliki data berupa angka. Agar bisa dipahami oleh interpreter bahasa Python, data ini disimpan ke dalam variabel. Nantinya variabel ini akan diproses sesuai dengan tipe data angka menggunakan operator yang ada dalam python, misalnya bisa ditambah, dikurangi, dibagi, dst.\n",
    "\n",
    "Jika ternyata variabel tersebut berisi teks (string), maka operasi penjumlahan tidak bisa dilakukan. Setiap jenis tipe data akan memiliki sifat dan fitur masing-masing."
   ]
  },
  {
   "cell_type": "code",
   "execution_count": 12,
   "metadata": {},
   "outputs": [
    {
     "name": "stdout",
     "output_type": "stream",
     "text": [
      "Belajar Python di Hacktiv8\n"
     ]
    }
   ],
   "source": [
    "#tipe data string\n",
    "\n",
    "kegiatan = \"Belajar Python di Hacktiv8\"\n",
    "\n",
    "print(kegiatan)"
   ]
  },
  {
   "cell_type": "code",
   "execution_count": 13,
   "metadata": {},
   "outputs": [
    {
     "data": {
      "text/plain": [
       "str"
      ]
     },
     "execution_count": 13,
     "metadata": {},
     "output_type": "execute_result"
    }
   ],
   "source": [
    "type(kegiatan) #mengecek tipe data"
   ]
  },
  {
   "cell_type": "code",
   "execution_count": 14,
   "metadata": {},
   "outputs": [
    {
     "name": "stdout",
     "output_type": "stream",
     "text": [
      "1\n"
     ]
    }
   ],
   "source": [
    "#tipe data integer\n",
    "\n",
    "x = 1\n",
    "\n",
    "print(x)"
   ]
  },
  {
   "cell_type": "code",
   "execution_count": 15,
   "metadata": {},
   "outputs": [
    {
     "data": {
      "text/plain": [
       "int"
      ]
     },
     "execution_count": 15,
     "metadata": {},
     "output_type": "execute_result"
    }
   ],
   "source": [
    "type(x) #mengecek tipe data"
   ]
  },
  {
   "cell_type": "code",
   "execution_count": 16,
   "metadata": {},
   "outputs": [
    {
     "name": "stdout",
     "output_type": "stream",
     "text": [
      "1.0\n"
     ]
    }
   ],
   "source": [
    "#contoh proses mengubah tipe data integer menjadi tipe data float\n",
    "\n",
    "float(x)\n",
    "\n",
    "print(float(x))"
   ]
  },
  {
   "cell_type": "code",
   "execution_count": 17,
   "metadata": {},
   "outputs": [
    {
     "name": "stdout",
     "output_type": "stream",
     "text": [
      "2.5\n"
     ]
    }
   ],
   "source": [
    "#tipe data float\n",
    "\n",
    "y = 2.5\n",
    "\n",
    "print(y)"
   ]
  },
  {
   "cell_type": "code",
   "execution_count": 18,
   "metadata": {},
   "outputs": [
    {
     "data": {
      "text/plain": [
       "float"
      ]
     },
     "execution_count": 18,
     "metadata": {},
     "output_type": "execute_result"
    }
   ],
   "source": [
    "type(y) #mengecek tipe data"
   ]
  },
  {
   "cell_type": "code",
   "execution_count": 19,
   "metadata": {},
   "outputs": [
    {
     "name": "stdout",
     "output_type": "stream",
     "text": [
      "<class 'int'>\n"
     ]
    }
   ],
   "source": [
    "#Fungsi type() berfungsi untuk mengetahui jenis/tipe data dari suatu objek\n",
    "\n",
    "print(type(x))"
   ]
  },
  {
   "cell_type": "code",
   "execution_count": 20,
   "metadata": {},
   "outputs": [
    {
     "name": "stdout",
     "output_type": "stream",
     "text": [
      "[1, 2, 3, 4, 5]\n"
     ]
    }
   ],
   "source": [
    "#tipe data List\n",
    "\n",
    "list1 = [1,2,3,4,5]\n",
    "\n",
    "print(list1)"
   ]
  },
  {
   "cell_type": "code",
   "execution_count": 21,
   "metadata": {},
   "outputs": [
    {
     "data": {
      "text/plain": [
       "list"
      ]
     },
     "execution_count": 21,
     "metadata": {},
     "output_type": "execute_result"
    }
   ],
   "source": [
    "type(list1) #mengecek tipe data"
   ]
  },
  {
   "cell_type": "code",
   "execution_count": 22,
   "metadata": {},
   "outputs": [
    {
     "name": "stdout",
     "output_type": "stream",
     "text": [
      "('senin', 'selasa', 'rabu', 'kamis', \"jum'at\", 'sabtu', 'minggu')\n"
     ]
    }
   ],
   "source": [
    "#tipe data tuple\n",
    "\n",
    "tuples1 = (\"senin\", \"selasa\", \"rabu\", \"kamis\", \"jum'at\", \"sabtu\", \"minggu\")\n",
    "\n",
    "print(tuples1)"
   ]
  },
  {
   "cell_type": "code",
   "execution_count": 23,
   "metadata": {},
   "outputs": [
    {
     "data": {
      "text/plain": [
       "tuple"
      ]
     },
     "execution_count": 23,
     "metadata": {},
     "output_type": "execute_result"
    }
   ],
   "source": [
    "type(tuples1) #mengecek tipe data"
   ]
  },
  {
   "cell_type": "code",
   "execution_count": 24,
   "metadata": {},
   "outputs": [
    {
     "name": "stdout",
     "output_type": "stream",
     "text": [
      "{'nama': 'Galih', 'program hacktiv8': 'Python for Data Science'}\n"
     ]
    }
   ],
   "source": [
    "#tipe data Dictionary\n",
    "\n",
    "dataprofile = {\"nama\":\"Galih\", 'program hacktiv8':\"Python for Data Science\"}\n",
    "\n",
    "print(dataprofile)"
   ]
  },
  {
   "cell_type": "code",
   "execution_count": 25,
   "metadata": {},
   "outputs": [
    {
     "data": {
      "text/plain": [
       "dict"
      ]
     },
     "execution_count": 25,
     "metadata": {},
     "output_type": "execute_result"
    }
   ],
   "source": [
    "type(dataprofile) #mengecek tipe data"
   ]
  },
  {
   "cell_type": "code",
   "execution_count": 26,
   "metadata": {},
   "outputs": [
    {
     "name": "stdout",
     "output_type": "stream",
     "text": [
      "True\n",
      "False\n"
     ]
    }
   ],
   "source": [
    "#tipe data bolean\n",
    "\n",
    "nilai1 = True\n",
    "nilai2 = False\n",
    "\n",
    "print(nilai1)\n",
    "print(nilai2)"
   ]
  },
  {
   "cell_type": "code",
   "execution_count": 27,
   "metadata": {},
   "outputs": [
    {
     "data": {
      "text/plain": [
       "bool"
      ]
     },
     "execution_count": 27,
     "metadata": {},
     "output_type": "execute_result"
    }
   ],
   "source": [
    "type(nilai1) #mengecek tipe data"
   ]
  },
  {
   "cell_type": "markdown",
   "metadata": {},
   "source": [
    "## 1.2 Contoh Pembuatan Tipe Data dalam  Python\n",
    "\n",
    "Tipe-tipe data yang telah disebutkan di atas tidak mutlak, karena ada juga beberapa refrensi yang menggabungkan tipe data Integer dan Float sebagai satu tipe data saja yaitu tipe data Number.\n",
    "\n",
    "Berikut ini adalah contoh penggunaan lebih lanjut tentang masing-masing tipe data."
   ]
  },
  {
   "cell_type": "markdown",
   "metadata": {},
   "source": [
    "### 1.2.1 String\n",
    "\n",
    "Di dalam bahasa Python, terdapat 3 cara untuk membuat tipe data string :\n",
    " - Menggunakan tanda kutip satu (')\n",
    " - Menggunakan tanda kutip dua (\")\n",
    " - Menggunakan tanda kutip satu atau dua sebanyak 3 kali (''') atau (\"\"\")\n",
    "\n",
    "Cara pertama dan kedua tidak ada perbedaan mendasar dan kita bisa memilih menggunakan yang mana saja.\n",
    "\n",
    "Cara pembuatan string menggunakan 3 kali tanda kutip dipakai untuk membuat multiline string, dimana teks yang diinput bisa tersambung ke beberapa baris.\n",
    "\n",
    "Salah satu operasi yang sering dipakai dalam tipe data string adalah proses penyambungan (*string concatenation*). Didalam bahasa Python, operasi ini menggunakan karakter tambah (+). Berikut contohnya :"
   ]
  },
  {
   "cell_type": "code",
   "execution_count": 28,
   "metadata": {},
   "outputs": [
    {
     "name": "stdout",
     "output_type": "stream",
     "text": [
      "chicken pizza\n"
     ]
    }
   ],
   "source": [
    "#penggunaan tanda kutip satu (')\n",
    "\n",
    "kotakpizza1 = 'chicken pizza'\n",
    "\n",
    "print(kotakpizza1)"
   ]
  },
  {
   "cell_type": "code",
   "execution_count": 29,
   "metadata": {},
   "outputs": [
    {
     "name": "stdout",
     "output_type": "stream",
     "text": [
      " dan beef pizza\n"
     ]
    }
   ],
   "source": [
    "#penggunaan tanda kutip dua (\")\n",
    "\n",
    "kotakpizza2 = \" dan beef pizza\"\n",
    "\n",
    "print(kotakpizza2)"
   ]
  },
  {
   "cell_type": "code",
   "execution_count": 30,
   "metadata": {},
   "outputs": [
    {
     "name": "stdout",
     "output_type": "stream",
     "text": [
      "Saya memesan dua jenis pizza\n",
      "yaitu chicken pizza dan beef pizza \n",
      "dari dominos pizza blok M\n",
      "lewat aplikasi gofood\n"
     ]
    }
   ],
   "source": [
    "#penggunaan tanda kutip tiga kali (\"\"\") untuk membuat multiline string\n",
    "\n",
    "pesanan = \"\"\"Saya memesan dua jenis pizza\n",
    "yaitu chicken pizza dan beef pizza \n",
    "dari dominos pizza blok M\n",
    "lewat aplikasi gofood\"\"\"\n",
    "\n",
    "print(pesanan)"
   ]
  },
  {
   "cell_type": "code",
   "execution_count": 31,
   "metadata": {},
   "outputs": [
    {
     "name": "stdout",
     "output_type": "stream",
     "text": [
      "chicken pizza dan beef pizza\n"
     ]
    }
   ],
   "source": [
    "#contoh operasi penggabungan data string (concatenation)\n",
    "\n",
    "kotakpizza1 + kotakpizza2\n",
    "\n",
    "print(kotakpizza1 + kotakpizza2)"
   ]
  },
  {
   "cell_type": "code",
   "execution_count": 32,
   "metadata": {},
   "outputs": [
    {
     "name": "stdout",
     "output_type": "stream",
     "text": [
      "chicken pizza dan beef pizza\n"
     ]
    }
   ],
   "source": [
    "totalpesanan = kotakpizza1 + kotakpizza2\n",
    "\n",
    "print(totalpesanan)"
   ]
  },
  {
   "cell_type": "markdown",
   "metadata": {},
   "source": [
    "**Mengubah Case Text dalam Python**"
   ]
  },
  {
   "cell_type": "code",
   "execution_count": 33,
   "metadata": {},
   "outputs": [
    {
     "data": {
      "text/plain": [
       "'CHICKEN PIZZA'"
      ]
     },
     "execution_count": 33,
     "metadata": {},
     "output_type": "execute_result"
    }
   ],
   "source": [
    "#mengubah case text menjadi huruf besar\n",
    "\n",
    "kotakpizza1.upper()"
   ]
  },
  {
   "cell_type": "code",
   "execution_count": 34,
   "metadata": {},
   "outputs": [
    {
     "data": {
      "text/plain": [
       "'chicken pizza'"
      ]
     },
     "execution_count": 34,
     "metadata": {},
     "output_type": "execute_result"
    }
   ],
   "source": [
    "#mengubah case text menjadi huruf kecil\n",
    "\n",
    "kotakpizza1.lower()"
   ]
  },
  {
   "cell_type": "code",
   "execution_count": 35,
   "metadata": {},
   "outputs": [
    {
     "data": {
      "text/plain": [
       "'Chicken pizza'"
      ]
     },
     "execution_count": 35,
     "metadata": {},
     "output_type": "execute_result"
    }
   ],
   "source": [
    "#mengubah huruf besar pertama menjadi kapital\n",
    "kotakpizza1.capitalize()"
   ]
  },
  {
   "cell_type": "code",
   "execution_count": 36,
   "metadata": {},
   "outputs": [
    {
     "data": {
      "text/plain": [
       "'Chicken Pizza'"
      ]
     },
     "execution_count": 36,
     "metadata": {},
     "output_type": "execute_result"
    }
   ],
   "source": [
    "#mengubah setiap awalan kata menjadi huruf kapital\n",
    "kotakpizza1.title()"
   ]
  },
  {
   "cell_type": "code",
   "execution_count": 37,
   "metadata": {},
   "outputs": [
    {
     "data": {
      "text/plain": [
       "False"
      ]
     },
     "execution_count": 37,
     "metadata": {},
     "output_type": "execute_result"
    }
   ],
   "source": [
    "#Mengembalikan true jika string benar “titlecased” dan false sebaliknya\n",
    "kotakpizza1.istitle()"
   ]
  },
  {
   "cell_type": "code",
   "execution_count": 38,
   "metadata": {},
   "outputs": [
    {
     "data": {
      "text/plain": [
       "13"
      ]
     },
     "execution_count": 38,
     "metadata": {},
     "output_type": "execute_result"
    }
   ],
   "source": [
    "#menghitung jumlah index atau panjang dari suatu data string\n",
    "len(kotakpizza1)"
   ]
  },
  {
   "cell_type": "markdown",
   "metadata": {},
   "source": [
    "Untuk menulis karakter khusus seperti tab atau pindah baris, bisa menggunakan escape character, yaitu karakter backlash ( \\ ) lalu diikuti dengan satu karakter khusus. (cth : untuk karakter tab \\t dan untuk pindah baris bisa menggunakan \\n)"
   ]
  },
  {
   "cell_type": "code",
   "execution_count": 39,
   "metadata": {},
   "outputs": [],
   "source": [
    "tempatngopi = \"Tanamera Coffee\""
   ]
  },
  {
   "cell_type": "code",
   "execution_count": 40,
   "metadata": {},
   "outputs": [
    {
     "name": "stdout",
     "output_type": "stream",
     "text": [
      "Tanamera Coffee\n"
     ]
    }
   ],
   "source": [
    "print(tempatngopi)"
   ]
  },
  {
   "cell_type": "code",
   "execution_count": 41,
   "metadata": {},
   "outputs": [],
   "source": [
    "tempatngopi = \"Tanamera \\nCoffee\""
   ]
  },
  {
   "cell_type": "code",
   "execution_count": 42,
   "metadata": {},
   "outputs": [
    {
     "name": "stdout",
     "output_type": "stream",
     "text": [
      "Tanamera \n",
      "Coffee\n"
     ]
    }
   ],
   "source": [
    "print(tempatngopi)"
   ]
  },
  {
   "cell_type": "code",
   "execution_count": 43,
   "metadata": {},
   "outputs": [],
   "source": [
    "tempatngopi = \"Tanamera \\tCoffee\""
   ]
  },
  {
   "cell_type": "code",
   "execution_count": 44,
   "metadata": {},
   "outputs": [
    {
     "name": "stdout",
     "output_type": "stream",
     "text": [
      "Tanamera \tCoffee\n"
     ]
    }
   ],
   "source": [
    "print(tempatngopi)"
   ]
  },
  {
   "cell_type": "markdown",
   "metadata": {},
   "source": [
    "#### String dalam Python Sebagai Array\n",
    "\n",
    "Mirip seperti kebanyakan bahasa pemrograman, tipe data string dalam Python bisa diproses sebagai array dari karakter.\n",
    "\n",
    "Secara sederhana, array adalah kumpulan tipe data yang saling terhubung. Dengan kata lain, sebuah string adalah huruf yang saling terhubung satu sama lain yang membentuk kata atau kalimat.\n",
    "\n",
    "Misalkan variabel foo berisi string `‘Hacktiv8’`. Untuk merujuk ke huruf pertama dari variabel foo, kita bisa mengaksesnya dengan cara `foo[0]`. \n",
    "\n",
    "Angka 0 adalah nomor index dari array. Untuk karakter kedua bisa diakses dari `foo[1]`, dst."
   ]
  },
  {
   "cell_type": "code",
   "execution_count": 45,
   "metadata": {},
   "outputs": [
    {
     "name": "stdout",
     "output_type": "stream",
     "text": [
      "Hack\n",
      "8\n"
     ]
    }
   ],
   "source": [
    "#contoh pengaksesan index huruf pada sebuah string\n",
    "\n",
    "foo = \"Hacktiv8\"\n",
    "print(foo[0:4])\n",
    "print(foo[7])"
   ]
  },
  {
   "cell_type": "markdown",
   "metadata": {},
   "source": [
    "### 1.2.2 Number\n",
    "\n",
    "Dalam bahasa Python, tipe data number terdiri dari 3 jenis:\n",
    "\n",
    " - Integer (int): Tipe data bilangan bulat, seperti 1, 100, 1000, dst\n",
    " - Float: Tipe data bilangan desimal / pecahan, seperti 0.10, 0.0002, 333.33\n",
    " - Complex Number: Tipe data bilangan kompleks atau bilangan imajiner, seperti 5j, 54j, 1j\n",
    "\n",
    "Dari ketiga tipe data ini, tipe data **Complex Number** adalah tipe data yang cukup unik dan jarang tersedia di bahasa pemrograman lain.\n",
    "\n",
    "\n",
    "Cara penggunaan tipe data Number Python :"
   ]
  },
  {
   "cell_type": "code",
   "execution_count": 46,
   "metadata": {},
   "outputs": [
    {
     "name": "stdout",
     "output_type": "stream",
     "text": [
      "100\n",
      "30.23\n",
      "4j\n"
     ]
    }
   ],
   "source": [
    "foo = 100\n",
    "bar = 30.23\n",
    "baz = 4j\n",
    "\n",
    "print(foo)\n",
    "print(bar)\n",
    "print(baz)"
   ]
  },
  {
   "cell_type": "code",
   "execution_count": 47,
   "metadata": {},
   "outputs": [
    {
     "name": "stdout",
     "output_type": "stream",
     "text": [
      "<class 'int'>\n",
      "<class 'float'>\n",
      "<class 'complex'>\n"
     ]
    }
   ],
   "source": [
    "print(type(foo))\n",
    "print(type(bar))\n",
    "print(type(baz))"
   ]
  },
  {
   "cell_type": "markdown",
   "metadata": {},
   "source": [
    "#### Nilai maksimum untuk tipe data Number\n",
    "\n",
    "Di dalam bahasa Python, nilai maksimum integer (angka bulat) hanya dibatasi dengan jumlah memory. Berikut contohnya :\n"
   ]
  },
  {
   "cell_type": "code",
   "execution_count": 48,
   "metadata": {},
   "outputs": [
    {
     "name": "stdout",
     "output_type": "stream",
     "text": [
      "999\n",
      "-99999\n",
      "99999999999999999999\n"
     ]
    }
   ],
   "source": [
    "foo = 999\n",
    "bar = -99999\n",
    "baz = 99999999999999999999\n",
    "\n",
    "print(foo)\n",
    "print(bar)\n",
    "print(baz)"
   ]
  },
  {
   "cell_type": "markdown",
   "metadata": {},
   "source": [
    "Untuk tipe data float, nilai maksimumnya sama seperti tipe data double dalam bahasa C dan C++, yakni 1.7976931348623157e+308."
   ]
  },
  {
   "cell_type": "markdown",
   "metadata": {},
   "source": [
    "#### Penulisan notasi ilmiah (*Scientific Notation*)\n",
    "\n",
    "Untuk tipe data float, kita bisa menulisnya menggunakan notasi ilmiah atau dalam bahasa inggris disebut sebagai *scientific notation*.\n",
    "\n",
    "Dalam matematika, notasi ilmiah harus dinyatakan dalam 1 angka di depan koma. Angka 125 jika kita tulis dalam bentuk notasi ilmiah menjadi 1,25 x 10<sup>2</sup>.\n",
    "\n",
    "Di dalam bahasa Python (dan sebagian besar bahasa pemrograman lain), pangkat 10 ini diganti dengan huruf e atau E. Sebagai contoh 1,2 x 10<sup>2</sup> bisa ditulis sebagai 1.2e2 atau 1.2E2.\n",
    "\n",
    "Berikut contoh penggunaannya:"
   ]
  },
  {
   "cell_type": "code",
   "execution_count": 49,
   "metadata": {},
   "outputs": [
    {
     "name": "stdout",
     "output_type": "stream",
     "text": [
      "300.0\n",
      "0.03\n",
      "134000.0\n"
     ]
    }
   ],
   "source": [
    "foo = 3e2\n",
    "bar = 3e-2\n",
    "baz = 1.34E5\n",
    "\n",
    "print(foo)\n",
    "print(bar)\n",
    "print(baz)"
   ]
  },
  {
   "cell_type": "markdown",
   "metadata": {},
   "source": [
    "Pada variabel foo. di input angka 3e2 yang berarti 3 x 10<sup>2</sup> atau angka 300. Meskipun 300 ini terlihat seperti integer, namun karena ditulis menggunakan notasi ilmiah, maka akan dianggap sebagai tipe data float, yakni 300.0"
   ]
  },
  {
   "cell_type": "markdown",
   "metadata": {},
   "source": [
    "### 1.2.3 List\n",
    "\n",
    "Secara sederhana, tipe data List adalah sebuah array, yakni tipe data yang berisi kumpulan tipe data lain. Namun berbeda seperti array dalam bahasa pemrograman lain, List bisa diisi dengan berbagai jenis data, tidak harus tipe data yang sama.\n",
    "\n",
    "Tipe data array di Python terdiri dari 4 jenis, yakni List, Tuple, Set dan Dictionary. Ke empat tipe data ini mirip satu sama lain dengan sedikit perbedaan.\n",
    "\n",
    "Tipe data list ditandai dengan penggunaan tanda kurung siku `[ ]` , dimana nilai semua item dari list ditempatkan didalam kurung siku. Anggota tipe list ini boleh berisi satu tipe data ataupun boleh berisi campuran. \n",
    "\n",
    "Contoh penulisan tipe data list :"
   ]
  },
  {
   "cell_type": "code",
   "execution_count": 50,
   "metadata": {},
   "outputs": [
    {
     "name": "stdout",
     "output_type": "stream",
     "text": [
      "['Belajar', 'Python', 'di', 'Hacktiv8']\n",
      "[100, 200, 300, 400]\n",
      "['Python', 200, 6.99, True]\n",
      "[2, 3.5, 'Galih']\n"
     ]
    }
   ],
   "source": [
    "foo = [\"Belajar\", \"Python\", \"di\", \"Hacktiv8\"]\n",
    "bar = [100, 200, 300, 400]\n",
    "baz = [\"Python\", 200, 6.99, True]\n",
    "contohlist = [2, 3.5, 'Galih']\n",
    "\n",
    "print(foo)\n",
    "print(bar)\n",
    "print(baz)\n",
    "print(contohlist)"
   ]
  },
  {
   "cell_type": "code",
   "execution_count": 51,
   "metadata": {},
   "outputs": [
    {
     "name": "stdout",
     "output_type": "stream",
     "text": [
      "<class 'list'>\n",
      "<class 'list'>\n",
      "<class 'list'>\n",
      "<class 'list'>\n"
     ]
    }
   ],
   "source": [
    "print(type(foo))\n",
    "print(type(bar))\n",
    "print(type(baz))\n",
    "print(type(contohlist))"
   ]
  },
  {
   "cell_type": "markdown",
   "metadata": {},
   "source": [
    "#### Indexing, Slicing dan Matrix Pada List Python\n",
    "\n",
    "Karena list adalah urutan, pengindeksan dan pengiris bekerja dengan cara yang sama untuk list seperti yang mereka lakukan untuk String.\n",
    "Untuk mengakses nilai individu dari tipe data list sama dengan cara untuk mengakses karakter individu pada tipe data string, gunakan penomoran index. Data pertama bernomor index 0, data kedua bernomor index 1, dst.\n",
    "\n",
    "Nomor index ini ditulis di dalam tanda kurung siku `[]`:"
   ]
  },
  {
   "cell_type": "code",
   "execution_count": 52,
   "metadata": {},
   "outputs": [
    {
     "name": "stdout",
     "output_type": "stream",
     "text": [
      "Belajar\n",
      "200\n",
      "True\n",
      "Galih\n"
     ]
    }
   ],
   "source": [
    "print(foo[0])\n",
    "print(bar[1])\n",
    "print(baz[3])\n",
    "print(contohlist[2])"
   ]
  },
  {
   "cell_type": "markdown",
   "metadata": {},
   "source": [
    "#### Cara mengganti nilai tipe data list Python\n",
    "\n",
    "Nilai yang ada di dalam List bisa diganti atau diupdate. Dengan mengisikan data baru ke dalam nomor index seperti contoh berikut:"
   ]
  },
  {
   "cell_type": "code",
   "execution_count": 53,
   "metadata": {},
   "outputs": [
    {
     "name": "stdout",
     "output_type": "stream",
     "text": [
      "['Python', 'Batch', 30, 'Data Science', 'Hacktiv8', True]\n"
     ]
    }
   ],
   "source": [
    "foo = [\"Python\", 'Batch', 30, 'Data Science', 'Hacktiv8', True]\n",
    "print(foo)"
   ]
  },
  {
   "cell_type": "code",
   "execution_count": 54,
   "metadata": {},
   "outputs": [
    {
     "name": "stdout",
     "output_type": "stream",
     "text": [
      "['Intro', 'Python', 'Batch30', 'Data Science', 'Hacktiv8', False]\n"
     ]
    }
   ],
   "source": [
    "foo[0] = 'Intro'\n",
    "foo[1] = 'Python'\n",
    "foo[2] = 'Batch30'\n",
    "foo[5] = False\n",
    "print(foo)"
   ]
  },
  {
   "cell_type": "markdown",
   "metadata": {},
   "source": [
    "#### Menampilkan sebagian anggota tipe data list\n",
    "\n",
    "Selain menampilkan salah satu anggota dari data list dengan menuliskan nomor index dalam tanda kurung siku, Python juga menyediakan cara untuk menampilkan beberapa anggota list sekaligus. Contohnya :"
   ]
  },
  {
   "cell_type": "code",
   "execution_count": 55,
   "metadata": {},
   "outputs": [
    {
     "data": {
      "text/plain": [
       "[1, 2, 3, 4, 5, 6, 7, 8, 9]"
      ]
     },
     "execution_count": 55,
     "metadata": {},
     "output_type": "execute_result"
    }
   ],
   "source": [
    "longlist = [1,2,3,4,5,6,7,8,9]\n",
    "\n",
    "longlist"
   ]
  },
  {
   "cell_type": "code",
   "execution_count": 56,
   "metadata": {},
   "outputs": [
    {
     "data": {
      "text/plain": [
       "[2, 3, 4]"
      ]
     },
     "execution_count": 56,
     "metadata": {},
     "output_type": "execute_result"
    }
   ],
   "source": [
    "longlist[1:4] #menampilkan anggota dalam range"
   ]
  },
  {
   "cell_type": "code",
   "execution_count": 57,
   "metadata": {},
   "outputs": [
    {
     "data": {
      "text/plain": [
       "[1, 2, 3, 4]"
      ]
     },
     "execution_count": 57,
     "metadata": {},
     "output_type": "execute_result"
    }
   ],
   "source": [
    "longlist [:4] #menampilkan anggota list sampai batas index yang ditentukan"
   ]
  },
  {
   "cell_type": "code",
   "execution_count": 58,
   "metadata": {},
   "outputs": [
    {
     "data": {
      "text/plain": [
       "[3, 4, 5, 6, 7, 8, 9]"
      ]
     },
     "execution_count": 58,
     "metadata": {},
     "output_type": "execute_result"
    }
   ],
   "source": [
    "longlist [2:] #menampilkan anggota list mulai dari batas index yang ditentukan"
   ]
  },
  {
   "cell_type": "code",
   "execution_count": 59,
   "metadata": {},
   "outputs": [
    {
     "data": {
      "text/plain": [
       "[3, 5, 7, 9]"
      ]
     },
     "execution_count": 59,
     "metadata": {},
     "output_type": "execute_result"
    }
   ],
   "source": [
    "#menampilkan anggota list pada index tertentu (start=2, stop= index terakhir, step=2)\n",
    "\n",
    "longlist[2::2]"
   ]
  },
  {
   "cell_type": "code",
   "execution_count": 60,
   "metadata": {},
   "outputs": [
    {
     "data": {
      "text/plain": [
       "[2, 4, 6, 8]"
      ]
     },
     "execution_count": 60,
     "metadata": {},
     "output_type": "execute_result"
    }
   ],
   "source": [
    "longlist[1::2]"
   ]
  },
  {
   "cell_type": "code",
   "execution_count": 61,
   "metadata": {},
   "outputs": [
    {
     "data": {
      "text/plain": [
       "[1, 2, 3, 4, 5, 6, 7, 8, 9, 1, 2, 3, 4, 5, 6, 7, 8, 9]"
      ]
     },
     "execution_count": 61,
     "metadata": {},
     "output_type": "execute_result"
    }
   ],
   "source": [
    "#pengulangan (repetition) variabel dalam tipe data list\n",
    "\n",
    "longlist * 2"
   ]
  },
  {
   "cell_type": "code",
   "execution_count": 62,
   "metadata": {},
   "outputs": [
    {
     "data": {
      "text/plain": [
       "8"
      ]
     },
     "execution_count": 62,
     "metadata": {},
     "output_type": "execute_result"
    }
   ],
   "source": [
    "#menampilkan variabel di hitung dari [] index terakhir\n",
    "\n",
    "longlist [-2]"
   ]
  },
  {
   "cell_type": "code",
   "execution_count": 63,
   "metadata": {},
   "outputs": [
    {
     "data": {
      "text/plain": [
       "9"
      ]
     },
     "execution_count": 63,
     "metadata": {},
     "output_type": "execute_result"
    }
   ],
   "source": [
    "#menampilkan 1 index terakhir dalam list\n",
    "longlist [-1]"
   ]
  },
  {
   "cell_type": "markdown",
   "metadata": {},
   "source": [
    "#### Mengubah anggota pada tipe data list"
   ]
  },
  {
   "cell_type": "code",
   "execution_count": 64,
   "metadata": {},
   "outputs": [],
   "source": [
    "#mengganti nilai value dalam list\n",
    "\n",
    "longlist [0] = 2"
   ]
  },
  {
   "cell_type": "code",
   "execution_count": 65,
   "metadata": {},
   "outputs": [
    {
     "data": {
      "text/plain": [
       "[2, 2, 3, 4, 5, 6, 7, 8, 9]"
      ]
     },
     "execution_count": 65,
     "metadata": {},
     "output_type": "execute_result"
    }
   ],
   "source": [
    "longlist"
   ]
  },
  {
   "cell_type": "code",
   "execution_count": 66,
   "metadata": {},
   "outputs": [
    {
     "data": {
      "text/plain": [
       "[2, 2, 3, 4, 5, 6, 7, 8, 9, 11]"
      ]
     },
     "execution_count": 66,
     "metadata": {},
     "output_type": "execute_result"
    }
   ],
   "source": [
    "#menambahkan anggota atau value dalam list di urutan terakhir\n",
    "\n",
    "longlist.append(11)\n",
    "\n",
    "longlist"
   ]
  },
  {
   "cell_type": "code",
   "execution_count": 67,
   "metadata": {},
   "outputs": [
    {
     "data": {
      "text/plain": [
       "[2, 2, 3, 4, 5, 6, 7, 8, 9]"
      ]
     },
     "execution_count": 67,
     "metadata": {},
     "output_type": "execute_result"
    }
   ],
   "source": [
    "#Menghapus dan mengembalikan objek atau obj terakhir dari list\n",
    "\n",
    "longlist.pop()\n",
    "\n",
    "longlist"
   ]
  },
  {
   "cell_type": "code",
   "execution_count": 68,
   "metadata": {},
   "outputs": [
    {
     "data": {
      "text/plain": [
       "[9, 8, 7, 6, 5, 4, 3, 2, 2]"
      ]
     },
     "execution_count": 68,
     "metadata": {},
     "output_type": "execute_result"
    }
   ],
   "source": [
    "longlist.reverse()\n",
    "\n",
    "longlist"
   ]
  },
  {
   "cell_type": "code",
   "execution_count": 69,
   "metadata": {},
   "outputs": [],
   "source": [
    "#menyisipkan objek objek ke dalam list di indeks offset\n",
    "longlist.insert(3, 'new value')"
   ]
  },
  {
   "cell_type": "code",
   "execution_count": 70,
   "metadata": {},
   "outputs": [
    {
     "data": {
      "text/plain": [
       "[9, 8, 7, 'new value', 6, 5, 4, 3, 2, 2]"
      ]
     },
     "execution_count": 70,
     "metadata": {},
     "output_type": "execute_result"
    }
   ],
   "source": [
    "longlist"
   ]
  },
  {
   "cell_type": "markdown",
   "metadata": {},
   "source": [
    "### 1.2.4 Tuples\n",
    "\n",
    "Tipe data tuple adalah urutan objek/value yang tidak berubah. Tuple adalah urutan data sama seperti tipe data list. Perbedaan utama antara tuple dan list adalah bahwa tuple tidak dapat diubah. Tipe data Tuple menggunakan tanda kurung `()`, berbeda dengan tipe data List Python menggunakan tanda kurung siku `[]`."
   ]
  },
  {
   "cell_type": "code",
   "execution_count": 71,
   "metadata": {},
   "outputs": [
    {
     "name": "stdout",
     "output_type": "stream",
     "text": [
      "('fisika', 'kimia', 1993, 2017)\n",
      "(1, 2, 3, 4, 5)\n",
      "('a', 'b', 'c', 'd')\n"
     ]
    }
   ],
   "source": [
    "tup1 = ('fisika', 'kimia', 1993, 2017)\n",
    "tup2 = (1, 2, 3, 4, 5 )\n",
    "tup3 = \"a\", \"b\", \"c\", \"d\"\n",
    "\n",
    "print(tup1)\n",
    "print(tup2)\n",
    "print(tup3)"
   ]
  },
  {
   "cell_type": "markdown",
   "metadata": {},
   "source": [
    "Tupel yang ditulis sebagai dua tanda kurung dan tidak berisi apa-apa tidak mendeklarasikan value apapun, contohnya : `tup1 = ()`;\n",
    "\n",
    "Untuk menulis tupel yang berisi satu nilai, kita harus memasukkan koma, meskipun hanya ada satu nilai, contohnya : `tup1 = (50,)`\n",
    "\n",
    "Seperti indeks String dan integer, indeks tuple mulai dari 0, dan mereka dapat diiris, digabungkan, dan seterusnya"
   ]
  },
  {
   "cell_type": "code",
   "execution_count": 72,
   "metadata": {},
   "outputs": [
    {
     "name": "stdout",
     "output_type": "stream",
     "text": [
      "(50,)\n",
      "()\n"
     ]
    }
   ],
   "source": [
    "#data tuples berisi 1 value dan tidak ada value\n",
    "tup4 = (50,)\n",
    "tup5 = ()\n",
    "print(tup4)\n",
    "print(tup5)"
   ]
  },
  {
   "cell_type": "code",
   "execution_count": 73,
   "metadata": {},
   "outputs": [
    {
     "data": {
      "text/plain": [
       "(1, 2, 3, 4, 5, 6, 7, 8)"
      ]
     },
     "execution_count": 73,
     "metadata": {},
     "output_type": "execute_result"
    }
   ],
   "source": [
    "longTuple = (1,2,3,4,5,6,7,8)\n",
    "\n",
    "longTuple"
   ]
  },
  {
   "cell_type": "markdown",
   "metadata": {},
   "source": [
    "**Akses Nilai Dalam Tuple Python**\n",
    "Untuk mengakses nilai dalam tupel sama seperti dalam tipe data list dan string, gunakan tanda kurung siku untuk mengiris beserta indeks atau indeks untuk mendapatkan nilai yang tersedia pada indeks tersebut. Sebagai contoh :"
   ]
  },
  {
   "cell_type": "code",
   "execution_count": 74,
   "metadata": {},
   "outputs": [
    {
     "data": {
      "text/plain": [
       "1"
      ]
     },
     "execution_count": 74,
     "metadata": {},
     "output_type": "execute_result"
    }
   ],
   "source": [
    "longTuple[0]"
   ]
  },
  {
   "cell_type": "code",
   "execution_count": 75,
   "metadata": {},
   "outputs": [
    {
     "data": {
      "text/plain": [
       "(1, 2, 3, 4)"
      ]
     },
     "execution_count": 75,
     "metadata": {},
     "output_type": "execute_result"
    }
   ],
   "source": [
    "longTuple[:4]"
   ]
  },
  {
   "cell_type": "markdown",
   "metadata": {},
   "source": [
    "#### Update Nilai Dalam Tuple Python\n",
    "Tuple tidak berubah, yang berarti tidak dapat memperbarui atau mengubah nilai elemen tupel. Tetapi dalam tipe data tuples dapat mengambil bagian dari tuple yang ada untuk membuat tupel baru contoh :"
   ]
  },
  {
   "cell_type": "code",
   "execution_count": 76,
   "metadata": {},
   "outputs": [
    {
     "name": "stdout",
     "output_type": "stream",
     "text": [
      "(1, 2, 3, 4, 5, 'a', 'b', 'c', 'd')\n"
     ]
    }
   ],
   "source": [
    "tup6 = tup2 + tup3\n",
    "\n",
    "print(tup6)"
   ]
  },
  {
   "cell_type": "markdown",
   "metadata": {},
   "source": [
    "#### Hapus Nilai Dalam Tuple Python\n",
    "Menghapus elemen tuple individual tidak mungkin dilakukan. Tentu saja, tidak ada yang salah dengan menggabungkan tupel lain dengan unsur-unsur yang tidak diinginkan dibuang.\n",
    "\n",
    "Untuk secara eksplisit menghapus keseluruhan tuple, cukup gunakan del statement. contoh :"
   ]
  },
  {
   "cell_type": "code",
   "execution_count": 77,
   "metadata": {},
   "outputs": [
    {
     "name": "stdout",
     "output_type": "stream",
     "text": [
      "('fisika', 'kimia', 1993, 2017)\n"
     ]
    }
   ],
   "source": [
    "tup1 = ('fisika', 'kimia', 1993, 2017);\n",
    "\n",
    "print (tup1)"
   ]
  },
  {
   "cell_type": "code",
   "execution_count": 78,
   "metadata": {},
   "outputs": [
    {
     "ename": "NameError",
     "evalue": "name 'tup1' is not defined",
     "output_type": "error",
     "traceback": [
      "\u001b[1;31m---------------------------------------------------------------------------\u001b[0m",
      "\u001b[1;31mNameError\u001b[0m                                 Traceback (most recent call last)",
      "\u001b[1;32m<ipython-input-78-0e36c6634816>\u001b[0m in \u001b[0;36m<module>\u001b[1;34m\u001b[0m\n\u001b[0;32m      1\u001b[0m \u001b[1;32mdel\u001b[0m \u001b[0mtup1\u001b[0m\u001b[1;33m;\u001b[0m\u001b[1;33m\u001b[0m\u001b[1;33m\u001b[0m\u001b[0m\n\u001b[1;32m----> 2\u001b[1;33m \u001b[0mprint\u001b[0m \u001b[1;33m(\u001b[0m\u001b[0mtup1\u001b[0m\u001b[1;33m)\u001b[0m\u001b[1;33m\u001b[0m\u001b[1;33m\u001b[0m\u001b[0m\n\u001b[0m",
      "\u001b[1;31mNameError\u001b[0m: name 'tup1' is not defined"
     ]
    }
   ],
   "source": [
    "del tup1;\n",
    "print (tup1)"
   ]
  },
  {
   "cell_type": "markdown",
   "metadata": {},
   "source": [
    "Pada perintah print (tup1), didapatkan NameError variabel tidak terdefinisi. Artinya variabel tidak ada di dalam memori alias sudah dihapus."
   ]
  },
  {
   "cell_type": "markdown",
   "metadata": {},
   "source": [
    "#### Operasi Dasar Pada Tuple Python\n",
    "Tuples merespons operator `+` dan `*` sama seperti String dan list; \n",
    "Penggabungan dan pengulangan di sini juga berlaku, tetapi hasilnya adalah tupel baru, bukan modifikasi value pada tipe data tuple.\n",
    "\n",
    "Karena tupel adalah urutan, pengindeksan dan pengiris bekerja dengan cara yang sama untuk tupel seperti pada String, Tuple merespons semua operasi urutan umum di tipe data yang lain."
   ]
  },
  {
   "cell_type": "markdown",
   "metadata": {},
   "source": [
    "### 1.2.5 Dictionary\n",
    "\n",
    "Dictionary Python berbeda dengan List ataupun Tuple. Karena setiap urutanya berisi key dan value.\n",
    "\n",
    "Setiap key dipisahkan dari value-nya oleh titik dua `{:}`, item dipisahkan oleh koma, dan semuanya tertutup dalam kurung kurawal.\n",
    "\n",
    "Dictionary kosong tanpa barang ditulis hanya dengan dua kurung kurawal, seperti ini: `{}`.\n",
    "\n",
    "Nilai kamus bisa berupa tipe apa pun, namun key harus berupa tipe data yang tidak berubah seperti string, angka, atau tupel."
   ]
  },
  {
   "cell_type": "code",
   "execution_count": 79,
   "metadata": {},
   "outputs": [
    {
     "name": "stdout",
     "output_type": "stream",
     "text": [
      "{'Name': 'Galih', 'Age': 32, 'Class': 'Intro Python for Data Science'}\n",
      "{'A': 123, 'B': 456, 'C': 789}\n"
     ]
    }
   ],
   "source": [
    "# contoh tipe data dictionary\n",
    "\n",
    "biodata = {'Name': 'Galih', 'Age': 32, 'Class': 'Intro Python for Data Science'}\n",
    "phonebook = { 'A' : 123, 'B' : 456, 'C' : 789 }\n",
    "\n",
    "print(biodata)\n",
    "print(phonebook)"
   ]
  },
  {
   "cell_type": "code",
   "execution_count": 80,
   "metadata": {},
   "outputs": [
    {
     "data": {
      "text/plain": [
       "'Galih'"
      ]
     },
     "execution_count": 80,
     "metadata": {},
     "output_type": "execute_result"
    }
   ],
   "source": [
    "biodata['Name']"
   ]
  },
  {
   "cell_type": "code",
   "execution_count": 81,
   "metadata": {},
   "outputs": [
    {
     "data": {
      "text/plain": [
       "'Intro Python for Data Science'"
      ]
     },
     "execution_count": 81,
     "metadata": {},
     "output_type": "execute_result"
    }
   ],
   "source": [
    "biodata['Class']"
   ]
  },
  {
   "cell_type": "code",
   "execution_count": 82,
   "metadata": {},
   "outputs": [
    {
     "data": {
      "text/plain": [
       "123"
      ]
     },
     "execution_count": 82,
     "metadata": {},
     "output_type": "execute_result"
    }
   ],
   "source": [
    "phonebook['A']"
   ]
  },
  {
   "cell_type": "code",
   "execution_count": 83,
   "metadata": {},
   "outputs": [
    {
     "data": {
      "text/plain": [
       "789"
      ]
     },
     "execution_count": 83,
     "metadata": {},
     "output_type": "execute_result"
    }
   ],
   "source": [
    "phonebook['C']"
   ]
  },
  {
   "cell_type": "code",
   "execution_count": 84,
   "metadata": {},
   "outputs": [
    {
     "data": {
      "text/plain": [
       "dict_keys(['A', 'B', 'C'])"
      ]
     },
     "execution_count": 84,
     "metadata": {},
     "output_type": "execute_result"
    }
   ],
   "source": [
    "#mengetahui keys dalam dictionary\n",
    "\n",
    "phonebook.keys()"
   ]
  },
  {
   "cell_type": "code",
   "execution_count": 85,
   "metadata": {},
   "outputs": [
    {
     "data": {
      "text/plain": [
       "dict_values([123, 456, 789])"
      ]
     },
     "execution_count": 85,
     "metadata": {},
     "output_type": "execute_result"
    }
   ],
   "source": [
    "#mengetahui value dalam dictionary\n",
    "\n",
    "phonebook.values()"
   ]
  },
  {
   "cell_type": "markdown",
   "metadata": {},
   "source": [
    "#### Update Nilai Dalam Dictionary Python\n",
    "Data dalam Dictionary dapat diperbaharui dengan menambahkan entri baru atau pasangan nilai kunci, memodifikasi entri yang ada, atau menghapus entri yang ada, contoh :"
   ]
  },
  {
   "cell_type": "code",
   "execution_count": 86,
   "metadata": {},
   "outputs": [],
   "source": [
    "phonebook['A'] = 222"
   ]
  },
  {
   "cell_type": "code",
   "execution_count": 87,
   "metadata": {},
   "outputs": [
    {
     "data": {
      "text/plain": [
       "{'A': 222, 'B': 456, 'C': 789}"
      ]
     },
     "execution_count": 87,
     "metadata": {},
     "output_type": "execute_result"
    }
   ],
   "source": [
    "phonebook"
   ]
  },
  {
   "cell_type": "markdown",
   "metadata": {},
   "source": [
    "Menambahkan element dalam dictionary"
   ]
  },
  {
   "cell_type": "code",
   "execution_count": 88,
   "metadata": {},
   "outputs": [],
   "source": [
    "phonebook2 = {'D' : 123, 'E' : 456}"
   ]
  },
  {
   "cell_type": "code",
   "execution_count": 89,
   "metadata": {},
   "outputs": [
    {
     "data": {
      "text/plain": [
       "{'D': 123, 'E': 456}"
      ]
     },
     "execution_count": 89,
     "metadata": {},
     "output_type": "execute_result"
    }
   ],
   "source": [
    "phonebook2"
   ]
  },
  {
   "cell_type": "code",
   "execution_count": 90,
   "metadata": {},
   "outputs": [],
   "source": [
    "phonebook2['F'] = 333"
   ]
  },
  {
   "cell_type": "code",
   "execution_count": 91,
   "metadata": {},
   "outputs": [
    {
     "data": {
      "text/plain": [
       "{'D': 123, 'E': 456, 'F': 333}"
      ]
     },
     "execution_count": 91,
     "metadata": {},
     "output_type": "execute_result"
    }
   ],
   "source": [
    "phonebook2"
   ]
  },
  {
   "cell_type": "code",
   "execution_count": 92,
   "metadata": {},
   "outputs": [],
   "source": [
    "phonebook2.update({'B': 123, 'C':444 })"
   ]
  },
  {
   "cell_type": "code",
   "execution_count": 93,
   "metadata": {},
   "outputs": [
    {
     "data": {
      "text/plain": [
       "{'D': 123, 'E': 456, 'F': 333, 'B': 123, 'C': 444}"
      ]
     },
     "execution_count": 93,
     "metadata": {},
     "output_type": "execute_result"
    }
   ],
   "source": [
    "phonebook2"
   ]
  },
  {
   "cell_type": "markdown",
   "metadata": {},
   "source": [
    "#### Hapus Elemen Dictionary Python\n",
    "Elemen pada Dictionary dapat dihapus secara individual atau menghapus keseluruhan isi Dictionary. kita dapat menghapus seluruh Dictionary dalam satu operasi.\n",
    "\n",
    "Untuk menghapus seluruh Dictionary secara eksplisit, cukup gunakan del statement. Contoh :"
   ]
  },
  {
   "cell_type": "code",
   "execution_count": 94,
   "metadata": {},
   "outputs": [],
   "source": [
    "del phonebook2 ['D']"
   ]
  },
  {
   "cell_type": "code",
   "execution_count": 95,
   "metadata": {},
   "outputs": [
    {
     "data": {
      "text/plain": [
       "{'E': 456, 'F': 333, 'B': 123, 'C': 444}"
      ]
     },
     "execution_count": 95,
     "metadata": {},
     "output_type": "execute_result"
    }
   ],
   "source": [
    "phonebook2"
   ]
  },
  {
   "cell_type": "markdown",
   "metadata": {},
   "source": [
    "### 1.2.6 Bolean\n",
    "\n",
    "Tipe data ini hanya bisa diisi dengan salah satu dari 2 nilai: True atau False.\n",
    "Tipe data boolean banyak dipakai untuk percabangan kode program atau untuk memutuskan apa yang mesti dijalankan ketika sebuah kondisi terjadi.\n",
    "\n",
    "Sebagai contoh, kita bisa membuat kode program untuk menentukan apakah sebuah angka genap atau ganjil berdasarkan input dari pengguna. \n",
    "Untuk keperluan ini kita harus mengecek terlebih dahulu apakah angka tersebut bisa dibagi 2 (untuk angka genap), atau tidak bisa dibagi 2 (untuk angka ganjil). \n",
    "Tipe data boolean bisa dipakai untuk menampung kondisi seperti ini, yakni benar atau salah (True atau False).\n",
    "\n",
    "Penggunaan tipe data boolean ini akan lebih jelas saat kita masuk ke kondisi percabangan program (condition) seperti `if statement`."
   ]
  },
  {
   "cell_type": "code",
   "execution_count": 96,
   "metadata": {},
   "outputs": [],
   "source": [
    "boolean1 = True"
   ]
  },
  {
   "cell_type": "code",
   "execution_count": 97,
   "metadata": {},
   "outputs": [],
   "source": [
    "boolean2 = False"
   ]
  },
  {
   "cell_type": "code",
   "execution_count": 98,
   "metadata": {},
   "outputs": [
    {
     "data": {
      "text/plain": [
       "True"
      ]
     },
     "execution_count": 98,
     "metadata": {},
     "output_type": "execute_result"
    }
   ],
   "source": [
    "boolean1"
   ]
  },
  {
   "cell_type": "markdown",
   "metadata": {},
   "source": [
    "Selain diinput manual, tipe data boolean lebih sering di dapat sebagai hasil dari operasi perbandingan, seperti apakah suatu angka lebih besar dari angka lainnya, apakah lebih kecil, atau sama dengan. Contoh:"
   ]
  },
  {
   "cell_type": "code",
   "execution_count": 99,
   "metadata": {},
   "outputs": [
    {
     "data": {
      "text/plain": [
       "True"
      ]
     },
     "execution_count": 99,
     "metadata": {},
     "output_type": "execute_result"
    }
   ],
   "source": [
    "10>5"
   ]
  },
  {
   "cell_type": "code",
   "execution_count": 100,
   "metadata": {},
   "outputs": [
    {
     "data": {
      "text/plain": [
       "False"
      ]
     },
     "execution_count": 100,
     "metadata": {},
     "output_type": "execute_result"
    }
   ],
   "source": [
    "10<5"
   ]
  },
  {
   "cell_type": "code",
   "execution_count": 101,
   "metadata": {},
   "outputs": [
    {
     "data": {
      "text/plain": [
       "True"
      ]
     },
     "execution_count": 101,
     "metadata": {},
     "output_type": "execute_result"
    }
   ],
   "source": [
    "10 == 10"
   ]
  },
  {
   "cell_type": "code",
   "execution_count": 102,
   "metadata": {},
   "outputs": [
    {
     "data": {
      "text/plain": [
       "False"
      ]
     },
     "execution_count": 102,
     "metadata": {},
     "output_type": "execute_result"
    }
   ],
   "source": [
    "10 == 5"
   ]
  },
  {
   "cell_type": "markdown",
   "metadata": {},
   "source": [
    "Lebih jauh lagi, metode perbandingan seperti ini sangat sering dipakai dalam struktur logika IF seperti contoh berikut:"
   ]
  },
  {
   "cell_type": "code",
   "execution_count": 103,
   "metadata": {},
   "outputs": [
    {
     "name": "stdout",
     "output_type": "stream",
     "text": [
      "Isi variabel a lebih besar daripada variabel b\n"
     ]
    }
   ],
   "source": [
    "a = 12\n",
    "b = 10\n",
    "if (a < b):\n",
    "  print(\"Isi variabel a lebih kecil daripada variabel b\")\n",
    "elif (a > b):\n",
    "  print(\"Isi variabel a lebih besar daripada variabel b\")\n",
    "else:\n",
    "  print(\"Isi variabel a sama dengan variabel b\")"
   ]
  },
  {
   "cell_type": "code",
   "execution_count": 104,
   "metadata": {},
   "outputs": [
    {
     "name": "stdout",
     "output_type": "stream",
     "text": [
      "H8\n"
     ]
    }
   ],
   "source": [
    "print(\"H8\")"
   ]
  },
  {
   "cell_type": "code",
   "execution_count": 105,
   "metadata": {},
   "outputs": [
    {
     "name": "stdout",
     "output_type": "stream",
     "text": [
      "True\n"
     ]
    }
   ],
   "source": [
    "#statetement (H8) diatas dapat dieksekusi dan menghasilkan output oleh karena itu menghasilkan True\n",
    "print(bool(\"H8\"))"
   ]
  },
  {
   "cell_type": "code",
   "execution_count": 106,
   "metadata": {},
   "outputs": [
    {
     "name": "stdout",
     "output_type": "stream",
     "text": [
      "8\n"
     ]
    }
   ],
   "source": [
    "print(8)"
   ]
  },
  {
   "cell_type": "code",
   "execution_count": 107,
   "metadata": {},
   "outputs": [
    {
     "name": "stdout",
     "output_type": "stream",
     "text": [
      "True\n"
     ]
    }
   ],
   "source": [
    "#statetement (8) diatas dapat dieksekusi dan menghasilkan output oleh karena itu menghasilkan True\n",
    "print(bool(8))"
   ]
  },
  {
   "cell_type": "code",
   "execution_count": 108,
   "metadata": {},
   "outputs": [
    {
     "name": "stdout",
     "output_type": "stream",
     "text": [
      "\n"
     ]
    }
   ],
   "source": [
    "print(\"\")"
   ]
  },
  {
   "cell_type": "code",
   "execution_count": 109,
   "metadata": {},
   "outputs": [
    {
     "name": "stdout",
     "output_type": "stream",
     "text": [
      "False\n"
     ]
    }
   ],
   "source": [
    "#statetement (\"\") diatas tidak dapat dieksekusi dan menghasilkan output karena valuenya 0 oleh karena itu menghasilkan False\n",
    "print(bool(\"\"))"
   ]
  },
  {
   "cell_type": "code",
   "execution_count": null,
   "metadata": {},
   "outputs": [],
   "source": []
  }
 ],
 "metadata": {
  "kernelspec": {
   "display_name": "Python 3",
   "language": "python",
   "name": "python3"
  },
  "language_info": {
   "codemirror_mode": {
    "name": "ipython",
    "version": 3
   },
   "file_extension": ".py",
   "mimetype": "text/x-python",
   "name": "python",
   "nbconvert_exporter": "python",
   "pygments_lexer": "ipython3",
   "version": "3.7.4"
  }
 },
 "nbformat": 4,
 "nbformat_minor": 2
}
