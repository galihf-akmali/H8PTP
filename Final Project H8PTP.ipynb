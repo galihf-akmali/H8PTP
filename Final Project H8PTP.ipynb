{
 "cells": [
  {
   "attachments": {
    "Hacktiv8.png": {
     "image/png": "[encoded data removed]"
    }
   },
   "cell_type": "markdown",
   "metadata": {},
   "source": [
    "# H8PTP Final Project Intro Python for Data Science Batch 30\n",
    "![Hacktiv8.png](attachment:Hacktiv8.png)"
   ]
  },
  {
   "cell_type": "markdown",
   "metadata": {},
   "source": [
    "# Mall Customer : Analisis Data Eksploratif & Visualisasi Data\n",
    "\n",
    "\n",
    "Ini adalah sebuah set data tentang pelanggan/pengunjung disuatu mall atau pusat perbelanjaan. Dataset ini memberi informasi tentang pola belanja dan karakter dari masing-masing pelanggan yang berkunjung ke pusat perbelanjaan.\n",
    "\n",
    "File ini berisi informasi dasar tentang pelanggan mall :\n",
    "1. CustomerID\n",
    "2. Gender\n",
    "3. Age\n",
    "4. Annual Income (k$)\n",
    "5. Spending Score (1-100)"
   ]
  },
  {
   "cell_type": "markdown",
   "metadata": {},
   "source": [
    "## Informasi Data:\n",
    "Data ini dibuat hanya untuk tujuan pembelajaran konsep segmentasi pelanggan, juga dikenal sebagai Market basket analysis atau suatu analisa atas perilaku konsumen secara spesifik dari suatu golongan / kelompok tertentu. Saya akan menunjukkan ini dengan menggunakan teknik Unsupervised Machine Learning dengan metode (KMeans Clustering Algorithm) dalam bentuk paling sederhana.\n",
    "\n",
    "Sumber data : https://www.kaggle.com/vjchoudhary7/customer-segmentation-tutorial-in-python"
   ]
  },
  {
   "cell_type": "markdown",
   "metadata": {},
   "source": [
    "## Konten Analisa\n",
    "\n",
    "Diibaratkan kita memiliki sebuah supermarket dengan kartu keanggotaan, kita memiliki beberapa basis data tentang pelanggan kita seperti ID Pelanggan, usia, jenis kelamin, pendapatan tahunan, dan skor pengeluaran.\n",
    "Skor Pengeluaran adalah sesuatu yang kita tetapkan untuk pelanggan berdasarkan parameter yang kita tentukan seperti perilaku pelanggan dan data pembelian."
   ]
  },
  {
   "cell_type": "markdown",
   "metadata": {},
   "source": [
    "## Permasalahan\n",
    "\n",
    "Kita ingin memahami pelanggan seperti apa yang kita miliki serta siapa saja pelanggan yang dapat kita sebut **Target Pelanggan** sehingga dapat memberikan sebuah masukan berupa sebuah insight/wawasan kepada tim pemasaran dan merencanakan strategi yang sesuai untuk pemasaran dimasa yang akan datang."
   ]
  },
  {
   "cell_type": "markdown",
   "metadata": {},
   "source": [
    "## Tujuan\n",
    "\n",
    "Pada akhir studi kasus ini, kita akan dapat menjawab pertanyaan seperti :\n",
    "1. Cara mencapai segmentasi pelanggan menggunakan algoritma machine learning (KMeans Clustering) dengan Python dengan cara paling sederhana.\n",
    "2. Siapa target pelanggan kita dan dengan siapa kita dapat memulai mengarahkan strategi pemasaran yang kita buat\n",
    "3. Bagaimana sebuah strategi pemasaran bekerja di dunia nyata"
   ]
  },
  {
   "cell_type": "markdown",
   "metadata": {},
   "source": [
    "## 1.1 Mall Customer Dataset : Analisis Data Exploratif (EDA)\n",
    "\n",
    "Memahami isi data Sebelum melakukan feature engineering dan modeling."
   ]
  },
  {
   "cell_type": "markdown",
   "metadata": {},
   "source": [
    "### Import Modules"
   ]
  },
  {
   "cell_type": "code",
   "execution_count": 1,
   "metadata": {},
   "outputs": [],
   "source": [
    "import pandas as pd"
   ]
  },
  {
   "cell_type": "markdown",
   "metadata": {},
   "source": [
    "### Load Dataset"
   ]
  },
  {
   "cell_type": "code",
   "execution_count": 2,
   "metadata": {},
   "outputs": [
    {
     "data": {
      "text/html": [
       "<div>\n",
       "<style scoped>\n",
       "    .dataframe tbody tr th:only-of-type {\n",
       "        vertical-align: middle;\n",
       "    }\n",
       "\n",
       "    .dataframe tbody tr th {\n",
       "        vertical-align: top;\n",
       "    }\n",
       "\n",
       "    .dataframe thead th {\n",
       "        text-align: right;\n",
       "    }\n",
       "</style>\n",
       "<table border=\"1\" class=\"dataframe\">\n",
       "  <thead>\n",
       "    <tr style=\"text-align: right;\">\n",
       "      <th></th>\n",
       "      <th>CustomerID</th>\n",
       "      <th>Gender</th>\n",
       "      <th>Age</th>\n",
       "      <th>Annual Income (k$)</th>\n",
       "      <th>Spending Score (1-100)</th>\n",
       "    </tr>\n",
       "  </thead>\n",
       "  <tbody>\n",
       "    <tr>\n",
       "      <td>0</td>\n",
       "      <td>1</td>\n",
       "      <td>Male</td>\n",
       "      <td>19</td>\n",
       "      <td>15</td>\n",
       "      <td>39</td>\n",
       "    </tr>\n",
       "    <tr>\n",
       "      <td>1</td>\n",
       "      <td>2</td>\n",
       "      <td>Male</td>\n",
       "      <td>21</td>\n",
       "      <td>15</td>\n",
       "      <td>81</td>\n",
       "    </tr>\n",
       "    <tr>\n",
       "      <td>2</td>\n",
       "      <td>3</td>\n",
       "      <td>Female</td>\n",
       "      <td>20</td>\n",
       "      <td>16</td>\n",
       "      <td>6</td>\n",
       "    </tr>\n",
       "    <tr>\n",
       "      <td>3</td>\n",
       "      <td>4</td>\n",
       "      <td>Female</td>\n",
       "      <td>23</td>\n",
       "      <td>16</td>\n",
       "      <td>77</td>\n",
       "    </tr>\n",
       "    <tr>\n",
       "      <td>4</td>\n",
       "      <td>5</td>\n",
       "      <td>Female</td>\n",
       "      <td>31</td>\n",
       "      <td>17</td>\n",
       "      <td>40</td>\n",
       "    </tr>\n",
       "  </tbody>\n",
       "</table>\n",
       "</div>"
      ],
      "text/plain": [
       "   CustomerID  Gender  Age  Annual Income (k$)  Spending Score (1-100)\n",
       "0           1    Male   19                  15                      39\n",
       "1           2    Male   21                  15                      81\n",
       "2           3  Female   20                  16                       6\n",
       "3           4  Female   23                  16                      77\n",
       "4           5  Female   31                  17                      40"
      ]
     },
     "execution_count": 2,
     "metadata": {},
     "output_type": "execute_result"
    }
   ],
   "source": [
    "mall_df = pd.read_csv('Mall_Customers.csv')\n",
    "mall_df.head()"
   ]
  },
  {
   "cell_type": "markdown",
   "metadata": {},
   "source": [
    "### Drop Column \"CustomerID\""
   ]
  },
  {
   "cell_type": "code",
   "execution_count": 3,
   "metadata": {},
   "outputs": [
    {
     "data": {
      "text/html": [
       "<div>\n",
       "<style scoped>\n",
       "    .dataframe tbody tr th:only-of-type {\n",
       "        vertical-align: middle;\n",
       "    }\n",
       "\n",
       "    .dataframe tbody tr th {\n",
       "        vertical-align: top;\n",
       "    }\n",
       "\n",
       "    .dataframe thead th {\n",
       "        text-align: right;\n",
       "    }\n",
       "</style>\n",
       "<table border=\"1\" class=\"dataframe\">\n",
       "  <thead>\n",
       "    <tr style=\"text-align: right;\">\n",
       "      <th></th>\n",
       "      <th>Gender</th>\n",
       "      <th>Age</th>\n",
       "      <th>Annual Income (k$)</th>\n",
       "      <th>Spending Score (1-100)</th>\n",
       "    </tr>\n",
       "  </thead>\n",
       "  <tbody>\n",
       "    <tr>\n",
       "      <td>0</td>\n",
       "      <td>Male</td>\n",
       "      <td>19</td>\n",
       "      <td>15</td>\n",
       "      <td>39</td>\n",
       "    </tr>\n",
       "    <tr>\n",
       "      <td>1</td>\n",
       "      <td>Male</td>\n",
       "      <td>21</td>\n",
       "      <td>15</td>\n",
       "      <td>81</td>\n",
       "    </tr>\n",
       "    <tr>\n",
       "      <td>2</td>\n",
       "      <td>Female</td>\n",
       "      <td>20</td>\n",
       "      <td>16</td>\n",
       "      <td>6</td>\n",
       "    </tr>\n",
       "    <tr>\n",
       "      <td>3</td>\n",
       "      <td>Female</td>\n",
       "      <td>23</td>\n",
       "      <td>16</td>\n",
       "      <td>77</td>\n",
       "    </tr>\n",
       "    <tr>\n",
       "      <td>4</td>\n",
       "      <td>Female</td>\n",
       "      <td>31</td>\n",
       "      <td>17</td>\n",
       "      <td>40</td>\n",
       "    </tr>\n",
       "  </tbody>\n",
       "</table>\n",
       "</div>"
      ],
      "text/plain": [
       "   Gender  Age  Annual Income (k$)  Spending Score (1-100)\n",
       "0    Male   19                  15                      39\n",
       "1    Male   21                  15                      81\n",
       "2  Female   20                  16                       6\n",
       "3  Female   23                  16                      77\n",
       "4  Female   31                  17                      40"
      ]
     },
     "execution_count": 3,
     "metadata": {},
     "output_type": "execute_result"
    }
   ],
   "source": [
    "#membuang kolom yang tidak akan digunakan dalam proses analisa data\n",
    "\n",
    "mall_df.drop(columns = 'CustomerID', inplace = True)\n",
    "mall_df.head()"
   ]
  },
  {
   "cell_type": "markdown",
   "metadata": {},
   "source": [
    "### Identifikasi bentuk/dimensi dataset"
   ]
  },
  {
   "cell_type": "code",
   "execution_count": 4,
   "metadata": {},
   "outputs": [
    {
     "data": {
      "text/plain": [
       "(200, 4)"
      ]
     },
     "execution_count": 4,
     "metadata": {},
     "output_type": "execute_result"
    }
   ],
   "source": [
    "# memeriksa bentuk/dimensi dataset\n",
    "\n",
    "mall_df.shape"
   ]
  },
  {
   "cell_type": "markdown",
   "metadata": {},
   "source": [
    "### Identifikasi daftar nama dan type data dari masing-masing kolom"
   ]
  },
  {
   "cell_type": "code",
   "execution_count": 5,
   "metadata": {},
   "outputs": [
    {
     "data": {
      "text/plain": [
       "Index(['Gender', 'Age', 'Annual Income (k$)', 'Spending Score (1-100)'], dtype='object')"
      ]
     },
     "execution_count": 5,
     "metadata": {},
     "output_type": "execute_result"
    }
   ],
   "source": [
    "mall_df.columns"
   ]
  },
  {
   "cell_type": "code",
   "execution_count": 6,
   "metadata": {},
   "outputs": [
    {
     "data": {
      "text/plain": [
       "Gender                    object\n",
       "Age                        int64\n",
       "Annual Income (k$)         int64\n",
       "Spending Score (1-100)     int64\n",
       "dtype: object"
      ]
     },
     "execution_count": 6,
     "metadata": {},
     "output_type": "execute_result"
    }
   ],
   "source": [
    "mall_df.dtypes"
   ]
  },
  {
   "cell_type": "markdown",
   "metadata": {},
   "source": [
    "### Identifikasi informasi dataset"
   ]
  },
  {
   "cell_type": "code",
   "execution_count": 7,
   "metadata": {},
   "outputs": [
    {
     "name": "stdout",
     "output_type": "stream",
     "text": [
      "<class 'pandas.core.frame.DataFrame'>\n",
      "RangeIndex: 200 entries, 0 to 199\n",
      "Data columns (total 4 columns):\n",
      "Gender                    200 non-null object\n",
      "Age                       200 non-null int64\n",
      "Annual Income (k$)        200 non-null int64\n",
      "Spending Score (1-100)    200 non-null int64\n",
      "dtypes: int64(3), object(1)\n",
      "memory usage: 6.4+ KB\n"
     ]
    }
   ],
   "source": [
    "mall_df.info()"
   ]
  },
  {
   "cell_type": "markdown",
   "metadata": {},
   "source": [
    "### Memeriksa data yang kosong"
   ]
  },
  {
   "cell_type": "code",
   "execution_count": 8,
   "metadata": {},
   "outputs": [
    {
     "data": {
      "text/plain": [
       "Gender                    0\n",
       "Age                       0\n",
       "Annual Income (k$)        0\n",
       "Spending Score (1-100)    0\n",
       "dtype: int64"
      ]
     },
     "execution_count": 8,
     "metadata": {},
     "output_type": "execute_result"
    }
   ],
   "source": [
    "# memeriksa apakah ada NULL data\n",
    "\n",
    "mall_df.isnull().sum()"
   ]
  },
  {
   "cell_type": "markdown",
   "metadata": {},
   "source": [
    "### Memeriksa duplikasi data"
   ]
  },
  {
   "cell_type": "code",
   "execution_count": 9,
   "metadata": {},
   "outputs": [
    {
     "data": {
      "text/html": [
       "<div>\n",
       "<style scoped>\n",
       "    .dataframe tbody tr th:only-of-type {\n",
       "        vertical-align: middle;\n",
       "    }\n",
       "\n",
       "    .dataframe tbody tr th {\n",
       "        vertical-align: top;\n",
       "    }\n",
       "\n",
       "    .dataframe thead th {\n",
       "        text-align: right;\n",
       "    }\n",
       "</style>\n",
       "<table border=\"1\" class=\"dataframe\">\n",
       "  <thead>\n",
       "    <tr style=\"text-align: right;\">\n",
       "      <th></th>\n",
       "      <th>Gender</th>\n",
       "      <th>Age</th>\n",
       "      <th>Annual Income (k$)</th>\n",
       "      <th>Spending Score (1-100)</th>\n",
       "    </tr>\n",
       "  </thead>\n",
       "  <tbody>\n",
       "  </tbody>\n",
       "</table>\n",
       "</div>"
      ],
      "text/plain": [
       "Empty DataFrame\n",
       "Columns: [Gender, Age, Annual Income (k$), Spending Score (1-100)]\n",
       "Index: []"
      ]
     },
     "execution_count": 9,
     "metadata": {},
     "output_type": "execute_result"
    }
   ],
   "source": [
    "# memeriksa apakah ada data duplikasi dalam dataset\n",
    "\n",
    "mall_df[mall_df.duplicated(keep = False)]"
   ]
  },
  {
   "cell_type": "markdown",
   "metadata": {},
   "source": [
    "### Mendeskripsikan dataset"
   ]
  },
  {
   "cell_type": "code",
   "execution_count": 10,
   "metadata": {},
   "outputs": [
    {
     "data": {
      "text/html": [
       "<div>\n",
       "<style scoped>\n",
       "    .dataframe tbody tr th:only-of-type {\n",
       "        vertical-align: middle;\n",
       "    }\n",
       "\n",
       "    .dataframe tbody tr th {\n",
       "        vertical-align: top;\n",
       "    }\n",
       "\n",
       "    .dataframe thead th {\n",
       "        text-align: right;\n",
       "    }\n",
       "</style>\n",
       "<table border=\"1\" class=\"dataframe\">\n",
       "  <thead>\n",
       "    <tr style=\"text-align: right;\">\n",
       "      <th></th>\n",
       "      <th>Age</th>\n",
       "      <th>Annual Income (k$)</th>\n",
       "      <th>Spending Score (1-100)</th>\n",
       "    </tr>\n",
       "  </thead>\n",
       "  <tbody>\n",
       "    <tr>\n",
       "      <td>count</td>\n",
       "      <td>200.000000</td>\n",
       "      <td>200.000000</td>\n",
       "      <td>200.000000</td>\n",
       "    </tr>\n",
       "    <tr>\n",
       "      <td>mean</td>\n",
       "      <td>38.850000</td>\n",
       "      <td>60.560000</td>\n",
       "      <td>50.200000</td>\n",
       "    </tr>\n",
       "    <tr>\n",
       "      <td>std</td>\n",
       "      <td>13.969007</td>\n",
       "      <td>26.264721</td>\n",
       "      <td>25.823522</td>\n",
       "    </tr>\n",
       "    <tr>\n",
       "      <td>min</td>\n",
       "      <td>18.000000</td>\n",
       "      <td>15.000000</td>\n",
       "      <td>1.000000</td>\n",
       "    </tr>\n",
       "    <tr>\n",
       "      <td>25%</td>\n",
       "      <td>28.750000</td>\n",
       "      <td>41.500000</td>\n",
       "      <td>34.750000</td>\n",
       "    </tr>\n",
       "    <tr>\n",
       "      <td>50%</td>\n",
       "      <td>36.000000</td>\n",
       "      <td>61.500000</td>\n",
       "      <td>50.000000</td>\n",
       "    </tr>\n",
       "    <tr>\n",
       "      <td>75%</td>\n",
       "      <td>49.000000</td>\n",
       "      <td>78.000000</td>\n",
       "      <td>73.000000</td>\n",
       "    </tr>\n",
       "    <tr>\n",
       "      <td>max</td>\n",
       "      <td>70.000000</td>\n",
       "      <td>137.000000</td>\n",
       "      <td>99.000000</td>\n",
       "    </tr>\n",
       "  </tbody>\n",
       "</table>\n",
       "</div>"
      ],
      "text/plain": [
       "              Age  Annual Income (k$)  Spending Score (1-100)\n",
       "count  200.000000          200.000000              200.000000\n",
       "mean    38.850000           60.560000               50.200000\n",
       "std     13.969007           26.264721               25.823522\n",
       "min     18.000000           15.000000                1.000000\n",
       "25%     28.750000           41.500000               34.750000\n",
       "50%     36.000000           61.500000               50.000000\n",
       "75%     49.000000           78.000000               73.000000\n",
       "max     70.000000          137.000000               99.000000"
      ]
     },
     "execution_count": 10,
     "metadata": {},
     "output_type": "execute_result"
    }
   ],
   "source": [
    "# mendeskripsikan nilai statistik dari masing-masing kolom dataset\n",
    "\n",
    "mall_df.describe()"
   ]
  },
  {
   "cell_type": "markdown",
   "metadata": {},
   "source": [
    "### Memeriksa Korelasi Matrix dataset"
   ]
  },
  {
   "cell_type": "code",
   "execution_count": 11,
   "metadata": {},
   "outputs": [
    {
     "data": {
      "text/html": [
       "<div>\n",
       "<style scoped>\n",
       "    .dataframe tbody tr th:only-of-type {\n",
       "        vertical-align: middle;\n",
       "    }\n",
       "\n",
       "    .dataframe tbody tr th {\n",
       "        vertical-align: top;\n",
       "    }\n",
       "\n",
       "    .dataframe thead th {\n",
       "        text-align: right;\n",
       "    }\n",
       "</style>\n",
       "<table border=\"1\" class=\"dataframe\">\n",
       "  <thead>\n",
       "    <tr style=\"text-align: right;\">\n",
       "      <th></th>\n",
       "      <th>Age</th>\n",
       "      <th>Annual Income (k$)</th>\n",
       "      <th>Spending Score (1-100)</th>\n",
       "    </tr>\n",
       "  </thead>\n",
       "  <tbody>\n",
       "    <tr>\n",
       "      <td>Age</td>\n",
       "      <td>1.000000</td>\n",
       "      <td>-0.012398</td>\n",
       "      <td>-0.327227</td>\n",
       "    </tr>\n",
       "    <tr>\n",
       "      <td>Annual Income (k$)</td>\n",
       "      <td>-0.012398</td>\n",
       "      <td>1.000000</td>\n",
       "      <td>0.009903</td>\n",
       "    </tr>\n",
       "    <tr>\n",
       "      <td>Spending Score (1-100)</td>\n",
       "      <td>-0.327227</td>\n",
       "      <td>0.009903</td>\n",
       "      <td>1.000000</td>\n",
       "    </tr>\n",
       "  </tbody>\n",
       "</table>\n",
       "</div>"
      ],
      "text/plain": [
       "                             Age  Annual Income (k$)  Spending Score (1-100)\n",
       "Age                     1.000000           -0.012398               -0.327227\n",
       "Annual Income (k$)     -0.012398            1.000000                0.009903\n",
       "Spending Score (1-100) -0.327227            0.009903                1.000000"
      ]
     },
     "execution_count": 11,
     "metadata": {},
     "output_type": "execute_result"
    }
   ],
   "source": [
    "# memeriksa nilai korelasi dari masing-masing variabel yang ada di dataset\n",
    "\n",
    "mall_df.corr()"
   ]
  },
  {
   "cell_type": "code",
   "execution_count": 12,
   "metadata": {},
   "outputs": [],
   "source": [
    "# memisahkan customer laki-laki dan perempuan\n",
    "\n",
    "pengunjung_lelaki = mall_df[mall_df['Gender'] == 'Male']\n",
    "pengunjung_perempuan = mall_df[mall_df['Gender'] == 'Female']"
   ]
  },
  {
   "cell_type": "code",
   "execution_count": 13,
   "metadata": {},
   "outputs": [
    {
     "name": "stdout",
     "output_type": "stream",
     "text": [
      "48.51136363636363\n",
      "51.526785714285715\n"
     ]
    }
   ],
   "source": [
    "# mencari nilai rata-rata pengeluaran dari keduanya\n",
    "\n",
    "print(pengunjung_lelaki['Spending Score (1-100)'].mean())\n",
    "print(pengunjung_perempuan['Spending Score (1-100)'].mean())"
   ]
  },
  {
   "cell_type": "markdown",
   "metadata": {},
   "source": [
    "### Isi dari dataset pelanggan mall (Mall Customer)\n",
    "\n",
    "1. Dataset Mall Customer merupakan dataset yang terdiri dari 200 baris data dan 5 kolom kelompok data, akan tetapi kolom data berupa CustomerID tidak digunakan dalam proses analisa data oleh karena itu kolom tersebut didrop dari dataset.\n",
    "2. Dataset Mall Customer memberikan informasi berupa :\n",
    "   - usia pelanggan dengan rentang 18 - 70 tahun\n",
    "   - jenis kelamin pelanggan,\n",
    "   - penghasilan pelanggan pertahun dengan rentang 15 - 137 ribu dollar pertahun, dan \n",
    "   - nilai spending pelanggan di mall yang ditentukan berdasarkan parameter tertentu oleh pelaku bisnis.\n",
    "3. Tipe data untuk variabel usia, penghasilan pertahun, dan nilai spending pelanggan merupakan data numerik berupa tipe data `int` dan tipe data untuk jenis kelamin pelanggan merupakan data object berupa tipe data `str`.\n",
    "4. Dataset Mall Customer tidak memiliki data yang kosong dan data yang duplikasi sehingga data sudah dapat digunakan untuk diproses ke tahap analisa.\n",
    "5. Dari hasil uji korelasi Dataset Mall Customer tidak menunjukan korelasi yang kuat antar variabelnya.\n",
    "6. Dari hasil perhitungan diatas dapat dilihat bahwa rata-rata nilai pengeluaran perempuan lebih besar dibandingkan laki-laki"
   ]
  },
  {
   "cell_type": "markdown",
   "metadata": {},
   "source": [
    "## 1.2 Mall Customer Dataset : Visualisasi Data"
   ]
  },
  {
   "cell_type": "code",
   "execution_count": 14,
   "metadata": {},
   "outputs": [],
   "source": [
    "import matplotlib.pyplot as plt\n",
    "import seaborn as sns\n",
    "\n",
    "%matplotlib inline"
   ]
  },
  {
   "cell_type": "markdown",
   "metadata": {},
   "source": [
    "### Perbandingan jumlah pengunjung berdasarkan jenis Kelamin\n",
    "\n",
    "Kita akan melihat perbandingan jumlah pengunjung/pelanggan mall berdasarkan jenis kelaminnya. Pada diagram berikut terlihat bahwa pengunjung/pelanggan mall didominasi oleh perempuan sebesar 56% dari total pengunjung sedangkan pengunjung laki-laki hanya 44 %."
   ]
  },
  {
   "cell_type": "code",
   "execution_count": 15,
   "metadata": {},
   "outputs": [
    {
     "data": {
      "text/plain": [
       "Text(0.5, 1.0, 'Pelanggan Mall Berdasarkan Gender')"
      ]
     },
     "execution_count": 15,
     "metadata": {},
     "output_type": "execute_result"
    },
    {
     "data": {
      "image/png": "[encoded data removed]",
      "text/plain": [
       "<Figure size 720x432 with 1 Axes>"
      ]
     },
     "metadata": {},
     "output_type": "display_data"
    }
   ],
   "source": [
    "mall_df['Gender'].value_counts().plot.pie(autopct='%1.1f%%', figsize = (10, 6), labels = None, legend = True)\n",
    "plt.title('Pelanggan Mall Berdasarkan Gender', fontsize = 15)"
   ]
  },
  {
   "cell_type": "markdown",
   "metadata": {},
   "source": [
    "### Distribusi jumlah pengunjung berdasarkan usia, penghasilan pertahun, dan nilai pengeluaran\n",
    "\n",
    "Selanjutnya kita akan melihat distribusi pengunjung/pelanggan mall berdasarkan kriteria lainnya yaitu :"
   ]
  },
  {
   "cell_type": "code",
   "execution_count": 16,
   "metadata": {},
   "outputs": [
    {
     "data": {
      "text/plain": [
       "32    11\n",
       "35     9\n",
       "19     8\n",
       "31     8\n",
       "30     7\n",
       "49     7\n",
       "27     6\n",
       "47     6\n",
       "40     6\n",
       "23     6\n",
       "36     6\n",
       "38     6\n",
       "50     5\n",
       "48     5\n",
       "29     5\n",
       "21     5\n",
       "20     5\n",
       "34     5\n",
       "18     4\n",
       "28     4\n",
       "59     4\n",
       "24     4\n",
       "67     4\n",
       "54     4\n",
       "39     3\n",
       "25     3\n",
       "33     3\n",
       "22     3\n",
       "37     3\n",
       "43     3\n",
       "68     3\n",
       "45     3\n",
       "46     3\n",
       "60     3\n",
       "41     2\n",
       "57     2\n",
       "66     2\n",
       "65     2\n",
       "63     2\n",
       "58     2\n",
       "26     2\n",
       "70     2\n",
       "42     2\n",
       "53     2\n",
       "52     2\n",
       "51     2\n",
       "44     2\n",
       "55     1\n",
       "64     1\n",
       "69     1\n",
       "56     1\n",
       "Name: Age, dtype: int64"
      ]
     },
     "execution_count": 16,
     "metadata": {},
     "output_type": "execute_result"
    }
   ],
   "source": [
    "# menghitung jumlah pengunjung mall berdasarkan usia\n",
    "\n",
    "mall_df['Age'].value_counts()"
   ]
  },
  {
   "cell_type": "code",
   "execution_count": 17,
   "metadata": {},
   "outputs": [
    {
     "data": {
      "image/png": "[encoded data removed]",
      "text/plain": [
       "<Figure size 864x576 with 1 Axes>"
      ]
     },
     "metadata": {
      "needs_background": "light"
     },
     "output_type": "display_data"
    }
   ],
   "source": [
    "plt.subplots(figsize=(12, 8))\n",
    "sns.countplot(data = mall_df, x = 'Age')\n",
    "plt.title('Jumlah Pengunjung Mall Berdasarkan Usia', fontsize = 20)\n",
    "\n",
    "plt.tight_layout()"
   ]
  },
  {
   "cell_type": "markdown",
   "metadata": {},
   "source": [
    "Berdasarkan grafik diatas dapat dilihat bahwa :\n",
    "1. Usia termuda pengunjung mall adalah 18 tahun dan paling tua adalah 70 tahun\n",
    "2. Usia pengunjung mall paling banyak adalah usia diantara 30 - 35 Tahun\n",
    "3. Usia pengunjung mall paling sedikit adalah usia 55 - 70 tahun"
   ]
  },
  {
   "cell_type": "code",
   "execution_count": 18,
   "metadata": {},
   "outputs": [
    {
     "data": {
      "text/plain": [
       "<matplotlib.legend.Legend at 0x1effbb5b648>"
      ]
     },
     "execution_count": 18,
     "metadata": {},
     "output_type": "execute_result"
    },
    {
     "data": {
      "image/png": "[encoded data removed]",
      "text/plain": [
       "<Figure size 432x288 with 1 Axes>"
      ]
     },
     "metadata": {
      "needs_background": "light"
     },
     "output_type": "display_data"
    }
   ],
   "source": [
    "plt.hist('Age', data = mall_df[mall_df['Gender'] == 'Male'], alpha = 0.5, label = 'Laki-Laki', color = 'blue')\n",
    "plt.hist('Age', data = mall_df[mall_df['Gender'] == 'Female'], alpha = 0.5, label = 'Perempuan', color ='yellow')\n",
    "plt.title('Distribusi Umur oleh Gender')\n",
    "plt.xlabel('Umur')\n",
    "plt.tight_layout()\n",
    "plt.legend()"
   ]
  },
  {
   "cell_type": "markdown",
   "metadata": {},
   "source": [
    "Selanjutnya kita coba bandingkan pengunjung mall berdasarkan usia dengan jenis kelaminnya. Pada grafik histogram diatas kita bisa melihat perbandingan distribusi umur pengunjung mall berdasarkan gendernya.\n",
    "\n",
    "Dapat dilihat bahwa perempuan dengan umur 24 - 38 mendominasi sebagai pengunjung terbanyak. Sedangkan pengunjung yang sedikit adalah laki-laki dan perempuan berumur diantara 59-63 tahun."
   ]
  },
  {
   "cell_type": "code",
   "execution_count": 19,
   "metadata": {},
   "outputs": [
    {
     "data": {
      "text/plain": [
       "54     12\n",
       "78     12\n",
       "60      6\n",
       "87      6\n",
       "62      6\n",
       "       ..\n",
       "61      2\n",
       "126     2\n",
       "59      2\n",
       "58      2\n",
       "15      2\n",
       "Name: Annual Income (k$), Length: 64, dtype: int64"
      ]
     },
     "execution_count": 19,
     "metadata": {},
     "output_type": "execute_result"
    }
   ],
   "source": [
    "mall_df['Annual Income (k$)'].value_counts()"
   ]
  },
  {
   "cell_type": "code",
   "execution_count": 20,
   "metadata": {},
   "outputs": [
    {
     "data": {
      "image/png": "[encoded data removed]",
      "text/plain": [
       "<Figure size 1152x576 with 1 Axes>"
      ]
     },
     "metadata": {
      "needs_background": "light"
     },
     "output_type": "display_data"
    }
   ],
   "source": [
    "plt.subplots(figsize=(16, 8))\n",
    "sns.countplot(data = mall_df, x = 'Annual Income (k$)')\n",
    "plt.title('Jumlah Pengunjung Mall Berdasarkan Penghasilan Pertahun', fontsize = 20)\n",
    "plt.tight_layout()"
   ]
  },
  {
   "cell_type": "markdown",
   "metadata": {},
   "source": [
    "Berdasarkan grafik diatas dapat dilihat bahwa pengunjung mall paling banyak berpenghasilan dalam range 48 - 87 ribu USD/Tahun"
   ]
  },
  {
   "cell_type": "code",
   "execution_count": 21,
   "metadata": {},
   "outputs": [
    {
     "data": {
      "text/plain": [
       "<matplotlib.legend.Legend at 0x1efff172c08>"
      ]
     },
     "execution_count": 21,
     "metadata": {},
     "output_type": "execute_result"
    },
    {
     "data": {
      "image/png": "[encoded data removed]",
      "text/plain": [
       "<Figure size 432x288 with 1 Axes>"
      ]
     },
     "metadata": {
      "needs_background": "light"
     },
     "output_type": "display_data"
    }
   ],
   "source": [
    "plt.hist('Annual Income (k$)', data = mall_df[mall_df['Gender'] == 'Male'], alpha=0.5, label='Laki-laki', color = 'green', bins = 5)\n",
    "plt.hist('Annual Income (k$)', data = mall_df[mall_df['Gender'] == 'Female'], alpha=0.5, label='Perempuan', color = 'red', bins = 5)\n",
    "plt.title('Distribusi Pendapatan berdasarkan Gender')\n",
    "plt.xlabel('Pendapatan (Ribu Dollars)')\n",
    "plt.tight_layout()\n",
    "plt.legend()"
   ]
  },
  {
   "cell_type": "markdown",
   "metadata": {},
   "source": [
    "Lalu kita akan mencoba memvisualisasikan data untuk melihat apakah ada keterkaitan dari pendapatan masing-masing gender terhadap kebiasaan belanja.\n",
    "\n",
    "Berdasarkan grafik di atas dapat terlihat bahwa sebenarnya pengunjung dengan pendapatan tertinggi adalah laki-laki. Akan tetapi jumlahnya lebih sedikit dibandingkan pelanggan perempuan.\n",
    "\n",
    "Jumlah distribusi pengunjung tertinggi berada di kisaran pendapatan 60-80 ribu dollar dan didominasi oleh pengunjung perempuan."
   ]
  },
  {
   "cell_type": "code",
   "execution_count": 22,
   "metadata": {},
   "outputs": [
    {
     "data": {
      "text/plain": [
       "42    8\n",
       "55    7\n",
       "46    6\n",
       "73    6\n",
       "35    5\n",
       "     ..\n",
       "31    1\n",
       "82    1\n",
       "24    1\n",
       "23    1\n",
       "99    1\n",
       "Name: Spending Score (1-100), Length: 84, dtype: int64"
      ]
     },
     "execution_count": 22,
     "metadata": {},
     "output_type": "execute_result"
    }
   ],
   "source": [
    "mall_df['Spending Score (1-100)'].value_counts()"
   ]
  },
  {
   "cell_type": "code",
   "execution_count": 23,
   "metadata": {},
   "outputs": [
    {
     "data": {
      "image/png": "[encoded data removed]",
      "text/plain": [
       "<Figure size 1152x576 with 1 Axes>"
      ]
     },
     "metadata": {
      "needs_background": "light"
     },
     "output_type": "display_data"
    }
   ],
   "source": [
    "plt.subplots(figsize=(16, 8))\n",
    "sns.countplot(data = mall_df, x = 'Spending Score (1-100)')\n",
    "plt.title('Jumlah Pengunjung Mall Berdasarkan Nilai Pengeluaran', fontsize = 20)\n",
    "plt.tight_layout()"
   ]
  },
  {
   "cell_type": "markdown",
   "metadata": {},
   "source": [
    "Selanjutnya kita melihat distrubisi pengunjung mall berdasarkan nilai pengeluarannya.\n",
    "\n",
    "Berdasarkan grafik dapat dilihat bahwa nilai pengeluaran paling tinggi berada di range 90-100 akan tetapi jumlahnya sedikit.\n",
    "Nilai pengeluaran pengunjung mall paling banyak ada di range 40 - 60 poin."
   ]
  },
  {
   "cell_type": "code",
   "execution_count": 24,
   "metadata": {},
   "outputs": [
    {
     "data": {
      "text/plain": [
       "<matplotlib.legend.Legend at 0x1effd880148>"
      ]
     },
     "execution_count": 24,
     "metadata": {},
     "output_type": "execute_result"
    },
    {
     "data": {
      "image/png": "[encoded data removed]",
      "text/plain": [
       "<Figure size 432x288 with 1 Axes>"
      ]
     },
     "metadata": {
      "needs_background": "light"
     },
     "output_type": "display_data"
    }
   ],
   "source": [
    "plt.hist('Spending Score (1-100)', data = mall_df[mall_df['Gender'] == 'Male'], alpha=0.5, label='Laki-laki', color = 'purple', bins = 5)\n",
    "plt.hist('Spending Score (1-100)', data = mall_df [mall_df['Gender'] == 'Female'], alpha=0.5, label='Perempuan', color = 'orange', bins = 5)\n",
    "plt.title('Distribusi Pengeluaran berdasarkan Gender')\n",
    "plt.xlabel('Pengeluaran (Skor 1-100)')\n",
    "plt.legend()"
   ]
  },
  {
   "cell_type": "markdown",
   "metadata": {},
   "source": [
    "Lalu kita akan mencoba memvisualisasikan data untuk melihat apakah ada keterkaitan dari gender terhadap kebiasaan belanja.\n",
    "\n",
    "Berdasarkan grafik di atas dapat terlihat bahwa kebiasaan belanja dengan nilai pengeluaran yang tinggi didominasi oleh perempuan. sedangkan pelanggan lelaki jumlahnya lebih sedikit dibandingkan pelanggan perempuan.\n",
    "\n",
    "Jumlah distribusi pengunjung tertinggi berada di kisaran pendapatan 60-80 ribu dollar dan didominasi oleh pengunjung perempuan. Total pelanggan dengan nilai Pengeluaran paling banyak didominasi oleh perempuan di kisaran skor 35-60."
   ]
  },
  {
   "cell_type": "markdown",
   "metadata": {},
   "source": [
    "### Distribusi Pengunjung Mall Berdasarkan Karakteristiknya\n",
    "\n",
    "Memvisualisasikan distribusi data pengamatan pengunjung mall meliputi data q1,q2, dan q3, nilai minimal, nilai maksimal serta mengindentifikasi data yang berpotensi sebagai outlier."
   ]
  },
  {
   "cell_type": "code",
   "execution_count": 25,
   "metadata": {},
   "outputs": [
    {
     "data": {
      "text/plain": [
       "Text(0.5, 1, 'Distribusi Pengunjung Mall')"
      ]
     },
     "execution_count": 25,
     "metadata": {},
     "output_type": "execute_result"
    },
    {
     "data": {
      "image/png": "[encoded data removed]",
      "text/plain": [
       "<Figure size 432x288 with 1 Axes>"
      ]
     },
     "metadata": {
      "needs_background": "light"
     },
     "output_type": "display_data"
    }
   ],
   "source": [
    "mall_df.boxplot()\n",
    "plt.tight_layout()\n",
    "plt.ylabel('Jumlah Pengunjung Mall')\n",
    "plt.xlabel('Karakteristik Pengunjung Mall')\n",
    "plt.title('Distribusi Pengunjung Mall', fontsize = 20)"
   ]
  },
  {
   "cell_type": "markdown",
   "metadata": {},
   "source": [
    "Berdasarkan grafik diatas :\n",
    "1. Rata-rata umur pengunjung mall adalah 38 tahun\n",
    "2. Rata-rata penghasilan pertahun pengunjung mall adalah 60 USD\n",
    "3. Rata-rata score pengeluaran pengunjung mall adalah 60\n",
    "4. Terdapat data outlier dari pengunjung mall dengan nilai penghasilan yang tinggi.\n",
    "\n",
    "Dari data tersebut dapat dikatakan bahwa pengunjung dengan nilai rata-rata tersebut merupakan daily customer (pelanggan harian) dari mall. Sedangkan kita masih memiliki data pelanggan dengan nilai diatas nilai rata-rata tersebut cukup banyak, oleh karena itu perlu kita tinjau kembali berapa banyak pelanggan dengan nilai rata-rata diatas yang berpotensi menjadi pelanggan prioritas.\n"
   ]
  },
  {
   "cell_type": "code",
   "execution_count": 26,
   "metadata": {},
   "outputs": [
    {
     "data": {
      "image/png": "[encoded data removed]",
      "text/plain": [
       "<Figure size 648x648 with 4 Axes>"
      ]
     },
     "metadata": {
      "needs_background": "light"
     },
     "output_type": "display_data"
    }
   ],
   "source": [
    "mall_df.boxplot(by = 'Gender', figsize = (9, 9))\n",
    "plt.tight_layout()"
   ]
  },
  {
   "cell_type": "markdown",
   "metadata": {},
   "source": [
    "Visualisasi diatas untuk melihat nilai rata-rata pelanggan berdasarkan gender dan mengidentifikasi posisi nilai outlier"
   ]
  },
  {
   "cell_type": "markdown",
   "metadata": {},
   "source": [
    "### Identifikasi hubungan antar variabel dari set data Mall Customer"
   ]
  },
  {
   "cell_type": "code",
   "execution_count": 27,
   "metadata": {},
   "outputs": [
    {
     "data": {
      "image/png": "[encoded data removed]",
      "text/plain": [
       "<Figure size 612.625x540 with 12 Axes>"
      ]
     },
     "metadata": {
      "needs_background": "light"
     },
     "output_type": "display_data"
    }
   ],
   "source": [
    "sns.pairplot(mall_df, hue = 'Gender', markers = '+')\n",
    "plt.tight_layout()"
   ]
  },
  {
   "cell_type": "code",
   "execution_count": 28,
   "metadata": {},
   "outputs": [
    {
     "data": {
      "text/plain": [
       "Text(0.5, 1, 'Heatmap Data Pelanggan Mall')"
      ]
     },
     "execution_count": 28,
     "metadata": {},
     "output_type": "execute_result"
    },
    {
     "data": {
      "image/png": "[encoded data removed]",
      "text/plain": [
       "<Figure size 432x288 with 2 Axes>"
      ]
     },
     "metadata": {
      "needs_background": "light"
     },
     "output_type": "display_data"
    }
   ],
   "source": [
    "sns.heatmap(mall_df.corr(), square = True, annot = True)\n",
    "\n",
    "plt.title('Heatmap Data Pelanggan Mall', fontsize = 15)"
   ]
  },
  {
   "cell_type": "markdown",
   "metadata": {},
   "source": [
    "Grafik dan diagram diatas memvisualisasikan correlation matriks untuk melihat korelasi antar variabel dari set data. Terlihat bahwa korelasi antar variabel dari set data mall customer sangat lemah sehingga akan sulit melakukan segmentasi dari pelanggan dengan metode klasifikasi. Oleh karena itu selanjutnya akan dicoba melakukan segmentasi pelanggan dengan menggunakan metode pembagian klaster."
   ]
  },
  {
   "cell_type": "markdown",
   "metadata": {},
   "source": [
    "## 1.3 Mall Customer Dataset : Customer Segmentation Clustering Model dengan metode K-Means\n",
    "\n",
    "Segmentasi pelanggan dilakukan untuk membagi pelanggan menjadi kelompok-kelompok berbeda yang memiliki kebutuhan, karakteristik, atau perilaku yang berbeda yang mungkin membutuhkan produk atau bauran pemasaran yang berbeda."
   ]
  },
  {
   "cell_type": "markdown",
   "metadata": {},
   "source": [
    "### Segmentasi Pengunjung Mall berdasarkan penghasilan"
   ]
  },
  {
   "cell_type": "code",
   "execution_count": 29,
   "metadata": {},
   "outputs": [
    {
     "name": "stdout",
     "output_type": "stream",
     "text": [
      "[[ 15  39]\n",
      " [ 15  81]\n",
      " [ 16   6]\n",
      " [ 16  77]\n",
      " [ 17  40]\n",
      " [ 17  76]\n",
      " [ 18   6]\n",
      " [ 18  94]\n",
      " [ 19   3]\n",
      " [ 19  72]\n",
      " [ 19  14]\n",
      " [ 19  99]\n",
      " [ 20  15]\n",
      " [ 20  77]\n",
      " [ 20  13]\n",
      " [ 20  79]\n",
      " [ 21  35]\n",
      " [ 21  66]\n",
      " [ 23  29]\n",
      " [ 23  98]\n",
      " [ 24  35]\n",
      " [ 24  73]\n",
      " [ 25   5]\n",
      " [ 25  73]\n",
      " [ 28  14]\n",
      " [ 28  82]\n",
      " [ 28  32]\n",
      " [ 28  61]\n",
      " [ 29  31]\n",
      " [ 29  87]\n",
      " [ 30   4]\n",
      " [ 30  73]\n",
      " [ 33   4]\n",
      " [ 33  92]\n",
      " [ 33  14]\n",
      " [ 33  81]\n",
      " [ 34  17]\n",
      " [ 34  73]\n",
      " [ 37  26]\n",
      " [ 37  75]\n",
      " [ 38  35]\n",
      " [ 38  92]\n",
      " [ 39  36]\n",
      " [ 39  61]\n",
      " [ 39  28]\n",
      " [ 39  65]\n",
      " [ 40  55]\n",
      " [ 40  47]\n",
      " [ 40  42]\n",
      " [ 40  42]\n",
      " [ 42  52]\n",
      " [ 42  60]\n",
      " [ 43  54]\n",
      " [ 43  60]\n",
      " [ 43  45]\n",
      " [ 43  41]\n",
      " [ 44  50]\n",
      " [ 44  46]\n",
      " [ 46  51]\n",
      " [ 46  46]\n",
      " [ 46  56]\n",
      " [ 46  55]\n",
      " [ 47  52]\n",
      " [ 47  59]\n",
      " [ 48  51]\n",
      " [ 48  59]\n",
      " [ 48  50]\n",
      " [ 48  48]\n",
      " [ 48  59]\n",
      " [ 48  47]\n",
      " [ 49  55]\n",
      " [ 49  42]\n",
      " [ 50  49]\n",
      " [ 50  56]\n",
      " [ 54  47]\n",
      " [ 54  54]\n",
      " [ 54  53]\n",
      " [ 54  48]\n",
      " [ 54  52]\n",
      " [ 54  42]\n",
      " [ 54  51]\n",
      " [ 54  55]\n",
      " [ 54  41]\n",
      " [ 54  44]\n",
      " [ 54  57]\n",
      " [ 54  46]\n",
      " [ 57  58]\n",
      " [ 57  55]\n",
      " [ 58  60]\n",
      " [ 58  46]\n",
      " [ 59  55]\n",
      " [ 59  41]\n",
      " [ 60  49]\n",
      " [ 60  40]\n",
      " [ 60  42]\n",
      " [ 60  52]\n",
      " [ 60  47]\n",
      " [ 60  50]\n",
      " [ 61  42]\n",
      " [ 61  49]\n",
      " [ 62  41]\n",
      " [ 62  48]\n",
      " [ 62  59]\n",
      " [ 62  55]\n",
      " [ 62  56]\n",
      " [ 62  42]\n",
      " [ 63  50]\n",
      " [ 63  46]\n",
      " [ 63  43]\n",
      " [ 63  48]\n",
      " [ 63  52]\n",
      " [ 63  54]\n",
      " [ 64  42]\n",
      " [ 64  46]\n",
      " [ 65  48]\n",
      " [ 65  50]\n",
      " [ 65  43]\n",
      " [ 65  59]\n",
      " [ 67  43]\n",
      " [ 67  57]\n",
      " [ 67  56]\n",
      " [ 67  40]\n",
      " [ 69  58]\n",
      " [ 69  91]\n",
      " [ 70  29]\n",
      " [ 70  77]\n",
      " [ 71  35]\n",
      " [ 71  95]\n",
      " [ 71  11]\n",
      " [ 71  75]\n",
      " [ 71   9]\n",
      " [ 71  75]\n",
      " [ 72  34]\n",
      " [ 72  71]\n",
      " [ 73   5]\n",
      " [ 73  88]\n",
      " [ 73   7]\n",
      " [ 73  73]\n",
      " [ 74  10]\n",
      " [ 74  72]\n",
      " [ 75   5]\n",
      " [ 75  93]\n",
      " [ 76  40]\n",
      " [ 76  87]\n",
      " [ 77  12]\n",
      " [ 77  97]\n",
      " [ 77  36]\n",
      " [ 77  74]\n",
      " [ 78  22]\n",
      " [ 78  90]\n",
      " [ 78  17]\n",
      " [ 78  88]\n",
      " [ 78  20]\n",
      " [ 78  76]\n",
      " [ 78  16]\n",
      " [ 78  89]\n",
      " [ 78   1]\n",
      " [ 78  78]\n",
      " [ 78   1]\n",
      " [ 78  73]\n",
      " [ 79  35]\n",
      " [ 79  83]\n",
      " [ 81   5]\n",
      " [ 81  93]\n",
      " [ 85  26]\n",
      " [ 85  75]\n",
      " [ 86  20]\n",
      " [ 86  95]\n",
      " [ 87  27]\n",
      " [ 87  63]\n",
      " [ 87  13]\n",
      " [ 87  75]\n",
      " [ 87  10]\n",
      " [ 87  92]\n",
      " [ 88  13]\n",
      " [ 88  86]\n",
      " [ 88  15]\n",
      " [ 88  69]\n",
      " [ 93  14]\n",
      " [ 93  90]\n",
      " [ 97  32]\n",
      " [ 97  86]\n",
      " [ 98  15]\n",
      " [ 98  88]\n",
      " [ 99  39]\n",
      " [ 99  97]\n",
      " [101  24]\n",
      " [101  68]\n",
      " [103  17]\n",
      " [103  85]\n",
      " [103  23]\n",
      " [103  69]\n",
      " [113   8]\n",
      " [113  91]\n",
      " [120  16]\n",
      " [120  79]\n",
      " [126  28]\n",
      " [126  74]\n",
      " [137  18]\n",
      " [137  83]]\n"
     ]
    }
   ],
   "source": [
    "# untuk melihat segmentasi, perlu memisahkan data yang akan di segmenkan\n",
    "# data yang digunakan adalah data penghasilan dan pengeluaran\n",
    "\n",
    "PM = mall_df.iloc[:, [2,3]].values\n",
    "print(PM)"
   ]
  },
  {
   "cell_type": "code",
   "execution_count": 30,
   "metadata": {},
   "outputs": [
    {
     "data": {
      "image/png": "[encoded data removed]",
      "text/plain": [
       "<Figure size 432x288 with 1 Axes>"
      ]
     },
     "metadata": {
      "needs_background": "light"
     },
     "output_type": "display_data"
    }
   ],
   "source": [
    "from sklearn.cluster import KMeans\n",
    "wcss = []\n",
    "for n in range(1, 11):\n",
    "    kmeans = KMeans(n_clusters = n, init = 'k-means++', random_state = 0)\n",
    "    kmeans.fit(PM)\n",
    "    wcss.append(kmeans.inertia_)\n",
    "plt.plot(range(1, 11), wcss, 'o')\n",
    "plt.plot(range(1, 11), wcss, '-')\n",
    "plt.title('Metode Elbow')\n",
    "plt.xlabel('Jumlah cluster')\n",
    "plt.ylabel('WCSS')\n",
    "plt.show()"
   ]
  },
  {
   "cell_type": "markdown",
   "metadata": {},
   "source": [
    "Dapat dilihat pada grafik di atas bahwa bentuk siku terlihat pada K = 3 dan K = 5. \n",
    "\n",
    "Dalam kondisi seperti ini, di mana K = 3 dan K = 5 menunjukkan bentuk siku, nilai K yang dipilih adalah yang nilainya lebih besar, dalam hal ini K = 5."
   ]
  },
  {
   "cell_type": "code",
   "execution_count": 31,
   "metadata": {},
   "outputs": [],
   "source": [
    "#membuat model K-Means\n",
    "\n",
    "kmeans = KMeans(n_clusters = 5)\n",
    "y_kmeans = kmeans.fit_predict(PM)\n",
    "\n",
    "#untuk unsupervised learning kita gunakan \"fit_predict()\" sedangkan untuk supervised learning menggunakan \"fit_tranform()"
   ]
  },
  {
   "cell_type": "code",
   "execution_count": 32,
   "metadata": {},
   "outputs": [
    {
     "data": {
      "text/plain": [
       "array([[55.2962963 , 49.51851852],\n",
       "       [25.72727273, 79.36363636],\n",
       "       [86.53846154, 82.12820513],\n",
       "       [26.30434783, 20.91304348],\n",
       "       [88.2       , 17.11428571]])"
      ]
     },
     "execution_count": 32,
     "metadata": {},
     "output_type": "execute_result"
    }
   ],
   "source": [
    "kmeans.cluster_centers_"
   ]
  },
  {
   "cell_type": "code",
   "execution_count": 33,
   "metadata": {},
   "outputs": [
    {
     "name": "stdout",
     "output_type": "stream",
     "text": [
      "[3 1 3 1 3 1 3 1 3 1 3 1 3 1 3 1 3 1 3 1 3 1 3 1 3 1 3 1 3 1 3 1 3 1 3 1 3\n",
      " 1 3 1 3 1 3 0 3 1 0 0 0 0 0 0 0 0 0 0 0 0 0 0 0 0 0 0 0 0 0 0 0 0 0 0 0 0\n",
      " 0 0 0 0 0 0 0 0 0 0 0 0 0 0 0 0 0 0 0 0 0 0 0 0 0 0 0 0 0 0 0 0 0 0 0 0 0\n",
      " 0 0 0 0 0 0 0 0 0 0 0 0 2 4 2 0 2 4 2 4 2 0 2 4 2 4 2 4 2 4 2 0 2 4 2 4 2\n",
      " 4 2 4 2 4 2 4 2 4 2 4 2 4 2 4 2 4 2 4 2 4 2 4 2 4 2 4 2 4 2 4 2 4 2 4 2 4\n",
      " 2 4 2 4 2 4 2 4 2 4 2 4 2 4 2]\n"
     ]
    },
    {
     "data": {
      "text/html": [
       "<div>\n",
       "<style scoped>\n",
       "    .dataframe tbody tr th:only-of-type {\n",
       "        vertical-align: middle;\n",
       "    }\n",
       "\n",
       "    .dataframe tbody tr th {\n",
       "        vertical-align: top;\n",
       "    }\n",
       "\n",
       "    .dataframe thead th {\n",
       "        text-align: right;\n",
       "    }\n",
       "</style>\n",
       "<table border=\"1\" class=\"dataframe\">\n",
       "  <thead>\n",
       "    <tr style=\"text-align: right;\">\n",
       "      <th></th>\n",
       "      <th>0</th>\n",
       "    </tr>\n",
       "  </thead>\n",
       "  <tbody>\n",
       "    <tr>\n",
       "      <td>0</td>\n",
       "      <td>3</td>\n",
       "    </tr>\n",
       "    <tr>\n",
       "      <td>1</td>\n",
       "      <td>1</td>\n",
       "    </tr>\n",
       "    <tr>\n",
       "      <td>2</td>\n",
       "      <td>3</td>\n",
       "    </tr>\n",
       "    <tr>\n",
       "      <td>3</td>\n",
       "      <td>1</td>\n",
       "    </tr>\n",
       "    <tr>\n",
       "      <td>4</td>\n",
       "      <td>3</td>\n",
       "    </tr>\n",
       "    <tr>\n",
       "      <td>5</td>\n",
       "      <td>1</td>\n",
       "    </tr>\n",
       "    <tr>\n",
       "      <td>6</td>\n",
       "      <td>3</td>\n",
       "    </tr>\n",
       "    <tr>\n",
       "      <td>7</td>\n",
       "      <td>1</td>\n",
       "    </tr>\n",
       "    <tr>\n",
       "      <td>8</td>\n",
       "      <td>3</td>\n",
       "    </tr>\n",
       "    <tr>\n",
       "      <td>9</td>\n",
       "      <td>1</td>\n",
       "    </tr>\n",
       "  </tbody>\n",
       "</table>\n",
       "</div>"
      ],
      "text/plain": [
       "   0\n",
       "0  3\n",
       "1  1\n",
       "2  3\n",
       "3  1\n",
       "4  3\n",
       "5  1\n",
       "6  3\n",
       "7  1\n",
       "8  3\n",
       "9  1"
      ]
     },
     "execution_count": 33,
     "metadata": {},
     "output_type": "execute_result"
    }
   ],
   "source": [
    "print(y_kmeans)\n",
    "\n",
    "#untuk lebih simpel data y_kmeans diconvert ke bentuk data frame atau tabel\n",
    "df_kmeans = pd.DataFrame(y_kmeans)\n",
    "df_kmeans.head(10)\n",
    "\n",
    "#array/data frame di bawah memiliki arti yaitu pengunjung 1 masuk ke cluster 4 (karena 0 adalah 1 dan 3 adalah 4) dst"
   ]
  },
  {
   "cell_type": "code",
   "execution_count": 34,
   "metadata": {},
   "outputs": [
    {
     "data": {
      "image/png": "[encoded data removed]",
      "text/plain": [
       "<Figure size 1152x576 with 1 Axes>"
      ]
     },
     "metadata": {
      "needs_background": "light"
     },
     "output_type": "display_data"
    }
   ],
   "source": [
    "# Visualisasi hasil clusters\n",
    "\n",
    "plt.figure(1 , figsize = (16 , 8))\n",
    "plt.scatter(PM[y_kmeans == 0, 0], PM[y_kmeans == 0, 1], s = 100, c = 'red', label = 'Kluster 1')\n",
    "plt.scatter(PM[y_kmeans == 1, 0], PM[y_kmeans == 1, 1], s = 100, c = 'purple', label = 'Kluster 2')\n",
    "plt.scatter(PM[y_kmeans == 2, 0], PM[y_kmeans == 2, 1], s = 100, c = 'green', label = 'Kluster 3')\n",
    "plt.scatter(PM[y_kmeans == 3, 0], PM[y_kmeans == 3, 1], s = 100, c = 'cyan', label = 'Kluster 4')\n",
    "plt.scatter(PM[y_kmeans == 4, 0], PM[y_kmeans == 4, 1], s = 100, c = 'orange', label = 'Kluster 5')\n",
    "plt.scatter(kmeans.cluster_centers_[:, 0], kmeans.cluster_centers_[:, 1], s = 250, c = 'black', label = 'Centroids')\n",
    "plt.title('Kluster pengunjung', fontsize = 15)\n",
    "plt.xlabel('Pendapatan tahunan (Ribu Dollar)')\n",
    "plt.ylabel('Skor pengeluaran (1-100)')\n",
    "plt.legend()\n",
    "plt.show()"
   ]
  },
  {
   "cell_type": "markdown",
   "metadata": {},
   "source": [
    "Titik yang berwarna hitam adalah Centroids\n",
    "- Kluster 1 -> Pendapatan menengah dan pengeluaran menengah\n",
    "- Kluster 2 -> Pendapatan rendah tetapi pengeluaran tinggi\n",
    "- Kluster 3 -> Pendapatan tinggi dan pengeluaran tinggi\n",
    "- Kluster 4 -> Pendapatan rendah dan pengeluaran rendah\n",
    "- Kluster 5 -> Pendapatan tinggi tetapi pengeluaran tinggi"
   ]
  },
  {
   "cell_type": "markdown",
   "metadata": {},
   "source": [
    "### Segmentasi Pengunjung Mall berdasarkan Usia dengan metode K-Means"
   ]
  },
  {
   "cell_type": "code",
   "execution_count": 35,
   "metadata": {},
   "outputs": [
    {
     "name": "stdout",
     "output_type": "stream",
     "text": [
      "[[19 39]\n",
      " [21 81]\n",
      " [20  6]\n",
      " [23 77]\n",
      " [31 40]\n",
      " [22 76]\n",
      " [35  6]\n",
      " [23 94]\n",
      " [64  3]\n",
      " [30 72]\n",
      " [67 14]\n",
      " [35 99]\n",
      " [58 15]\n",
      " [24 77]\n",
      " [37 13]\n",
      " [22 79]\n",
      " [35 35]\n",
      " [20 66]\n",
      " [52 29]\n",
      " [35 98]\n",
      " [35 35]\n",
      " [25 73]\n",
      " [46  5]\n",
      " [31 73]\n",
      " [54 14]\n",
      " [29 82]\n",
      " [45 32]\n",
      " [35 61]\n",
      " [40 31]\n",
      " [23 87]\n",
      " [60  4]\n",
      " [21 73]\n",
      " [53  4]\n",
      " [18 92]\n",
      " [49 14]\n",
      " [21 81]\n",
      " [42 17]\n",
      " [30 73]\n",
      " [36 26]\n",
      " [20 75]\n",
      " [65 35]\n",
      " [24 92]\n",
      " [48 36]\n",
      " [31 61]\n",
      " [49 28]\n",
      " [24 65]\n",
      " [50 55]\n",
      " [27 47]\n",
      " [29 42]\n",
      " [31 42]\n",
      " [49 52]\n",
      " [33 60]\n",
      " [31 54]\n",
      " [59 60]\n",
      " [50 45]\n",
      " [47 41]\n",
      " [51 50]\n",
      " [69 46]\n",
      " [27 51]\n",
      " [53 46]\n",
      " [70 56]\n",
      " [19 55]\n",
      " [67 52]\n",
      " [54 59]\n",
      " [63 51]\n",
      " [18 59]\n",
      " [43 50]\n",
      " [68 48]\n",
      " [19 59]\n",
      " [32 47]\n",
      " [70 55]\n",
      " [47 42]\n",
      " [60 49]\n",
      " [60 56]\n",
      " [59 47]\n",
      " [26 54]\n",
      " [45 53]\n",
      " [40 48]\n",
      " [23 52]\n",
      " [49 42]\n",
      " [57 51]\n",
      " [38 55]\n",
      " [67 41]\n",
      " [46 44]\n",
      " [21 57]\n",
      " [48 46]\n",
      " [55 58]\n",
      " [22 55]\n",
      " [34 60]\n",
      " [50 46]\n",
      " [68 55]\n",
      " [18 41]\n",
      " [48 49]\n",
      " [40 40]\n",
      " [32 42]\n",
      " [24 52]\n",
      " [47 47]\n",
      " [27 50]\n",
      " [48 42]\n",
      " [20 49]\n",
      " [23 41]\n",
      " [49 48]\n",
      " [67 59]\n",
      " [26 55]\n",
      " [49 56]\n",
      " [21 42]\n",
      " [66 50]\n",
      " [54 46]\n",
      " [68 43]\n",
      " [66 48]\n",
      " [65 52]\n",
      " [19 54]\n",
      " [38 42]\n",
      " [19 46]\n",
      " [18 48]\n",
      " [19 50]\n",
      " [63 43]\n",
      " [49 59]\n",
      " [51 43]\n",
      " [50 57]\n",
      " [27 56]\n",
      " [38 40]\n",
      " [40 58]\n",
      " [39 91]\n",
      " [23 29]\n",
      " [31 77]\n",
      " [43 35]\n",
      " [40 95]\n",
      " [59 11]\n",
      " [38 75]\n",
      " [47  9]\n",
      " [39 75]\n",
      " [25 34]\n",
      " [31 71]\n",
      " [20  5]\n",
      " [29 88]\n",
      " [44  7]\n",
      " [32 73]\n",
      " [19 10]\n",
      " [35 72]\n",
      " [57  5]\n",
      " [32 93]\n",
      " [28 40]\n",
      " [32 87]\n",
      " [25 12]\n",
      " [28 97]\n",
      " [48 36]\n",
      " [32 74]\n",
      " [34 22]\n",
      " [34 90]\n",
      " [43 17]\n",
      " [39 88]\n",
      " [44 20]\n",
      " [38 76]\n",
      " [47 16]\n",
      " [27 89]\n",
      " [37  1]\n",
      " [30 78]\n",
      " [34  1]\n",
      " [30 73]\n",
      " [56 35]\n",
      " [29 83]\n",
      " [19  5]\n",
      " [31 93]\n",
      " [50 26]\n",
      " [36 75]\n",
      " [42 20]\n",
      " [33 95]\n",
      " [36 27]\n",
      " [32 63]\n",
      " [40 13]\n",
      " [28 75]\n",
      " [36 10]\n",
      " [36 92]\n",
      " [52 13]\n",
      " [30 86]\n",
      " [58 15]\n",
      " [27 69]\n",
      " [59 14]\n",
      " [35 90]\n",
      " [37 32]\n",
      " [32 86]\n",
      " [46 15]\n",
      " [29 88]\n",
      " [41 39]\n",
      " [30 97]\n",
      " [54 24]\n",
      " [28 68]\n",
      " [41 17]\n",
      " [36 85]\n",
      " [34 23]\n",
      " [32 69]\n",
      " [33  8]\n",
      " [38 91]\n",
      " [47 16]\n",
      " [35 79]\n",
      " [45 28]\n",
      " [32 74]\n",
      " [32 18]\n",
      " [30 83]]\n"
     ]
    }
   ],
   "source": [
    "# data yang digunakan adalah data usia dan pengeluaran\n",
    "\n",
    "AGM = mall_df.iloc[:, [1,3]].values\n",
    "print(AGM)"
   ]
  },
  {
   "cell_type": "code",
   "execution_count": 36,
   "metadata": {},
   "outputs": [
    {
     "data": {
      "image/png": "[encoded data removed]",
      "text/plain": [
       "<Figure size 432x288 with 1 Axes>"
      ]
     },
     "metadata": {
      "needs_background": "light"
     },
     "output_type": "display_data"
    }
   ],
   "source": [
    "wcss = []\n",
    "for n in range(1, 11):\n",
    "    km = KMeans(n_clusters = n, init = 'k-means++', random_state = 0)\n",
    "    km.fit(AGM)\n",
    "    wcss.append(km.inertia_)\n",
    "plt.plot(range(1, 11), wcss, 'o')\n",
    "plt.plot(range(1, 11), wcss, '-')\n",
    "plt.title('Metode Elbow')\n",
    "plt.xlabel('Jumlah cluster')\n",
    "plt.ylabel('WCSS')\n",
    "plt.show()"
   ]
  },
  {
   "cell_type": "markdown",
   "metadata": {},
   "source": [
    "Dapat dilihat pada grafik di atas bahwa bentuk siku terlihat pada K = 2 dan K = 4.\n",
    "\n",
    "Dalam kondisi seperti ini, di mana K = 2 dan K = 4 menunjukkan bentuk siku, nilai K yang dipilih adalah yang nilainya lebih besar, dalam hal ini K = 4."
   ]
  },
  {
   "cell_type": "code",
   "execution_count": 37,
   "metadata": {},
   "outputs": [],
   "source": [
    "km = KMeans(n_clusters = 4)\n",
    "y_km = km.fit_predict(AGM)"
   ]
  },
  {
   "cell_type": "code",
   "execution_count": 38,
   "metadata": {},
   "outputs": [
    {
     "data": {
      "text/plain": [
       "array([[55.70833333, 48.22916667],\n",
       "       [30.1754386 , 82.35087719],\n",
       "       [43.29166667, 15.02083333],\n",
       "       [27.61702128, 49.14893617]])"
      ]
     },
     "execution_count": 38,
     "metadata": {},
     "output_type": "execute_result"
    }
   ],
   "source": [
    "km.cluster_centers_"
   ]
  },
  {
   "cell_type": "code",
   "execution_count": 39,
   "metadata": {},
   "outputs": [
    {
     "name": "stdout",
     "output_type": "stream",
     "text": [
      "[3 1 2 1 3 1 2 1 2 1 2 1 2 1 2 1 3 3 2 1 3 1 2 1 2 1 2 3 2 1 2 1 2 1 2 1 2\n",
      " 1 2 1 0 1 0 3 2 3 0 3 3 3 0 3 3 0 0 0 0 0 3 0 0 3 0 0 0 3 0 0 3 3 0 0 0 0\n",
      " 0 3 0 3 3 0 0 3 0 0 3 0 0 3 3 0 0 3 0 3 3 3 0 3 0 3 3 0 0 3 0 3 0 0 0 0 0\n",
      " 3 3 3 3 3 0 0 0 0 3 3 3 1 3 1 0 1 2 1 2 1 3 1 2 1 2 1 2 1 2 1 3 1 2 1 0 1\n",
      " 2 1 2 1 2 1 2 1 2 1 2 1 0 1 2 1 2 1 2 1 2 3 2 1 2 1 2 1 2 1 2 1 2 1 2 1 3\n",
      " 1 2 1 2 1 2 1 2 1 2 1 2 1 2 1]\n"
     ]
    },
    {
     "data": {
      "text/html": [
       "<div>\n",
       "<style scoped>\n",
       "    .dataframe tbody tr th:only-of-type {\n",
       "        vertical-align: middle;\n",
       "    }\n",
       "\n",
       "    .dataframe tbody tr th {\n",
       "        vertical-align: top;\n",
       "    }\n",
       "\n",
       "    .dataframe thead th {\n",
       "        text-align: right;\n",
       "    }\n",
       "</style>\n",
       "<table border=\"1\" class=\"dataframe\">\n",
       "  <thead>\n",
       "    <tr style=\"text-align: right;\">\n",
       "      <th></th>\n",
       "      <th>0</th>\n",
       "    </tr>\n",
       "  </thead>\n",
       "  <tbody>\n",
       "    <tr>\n",
       "      <td>0</td>\n",
       "      <td>3</td>\n",
       "    </tr>\n",
       "    <tr>\n",
       "      <td>1</td>\n",
       "      <td>1</td>\n",
       "    </tr>\n",
       "    <tr>\n",
       "      <td>2</td>\n",
       "      <td>2</td>\n",
       "    </tr>\n",
       "    <tr>\n",
       "      <td>3</td>\n",
       "      <td>1</td>\n",
       "    </tr>\n",
       "    <tr>\n",
       "      <td>4</td>\n",
       "      <td>3</td>\n",
       "    </tr>\n",
       "    <tr>\n",
       "      <td>5</td>\n",
       "      <td>1</td>\n",
       "    </tr>\n",
       "    <tr>\n",
       "      <td>6</td>\n",
       "      <td>2</td>\n",
       "    </tr>\n",
       "    <tr>\n",
       "      <td>7</td>\n",
       "      <td>1</td>\n",
       "    </tr>\n",
       "    <tr>\n",
       "      <td>8</td>\n",
       "      <td>2</td>\n",
       "    </tr>\n",
       "    <tr>\n",
       "      <td>9</td>\n",
       "      <td>1</td>\n",
       "    </tr>\n",
       "  </tbody>\n",
       "</table>\n",
       "</div>"
      ],
      "text/plain": [
       "   0\n",
       "0  3\n",
       "1  1\n",
       "2  2\n",
       "3  1\n",
       "4  3\n",
       "5  1\n",
       "6  2\n",
       "7  1\n",
       "8  2\n",
       "9  1"
      ]
     },
     "execution_count": 39,
     "metadata": {},
     "output_type": "execute_result"
    }
   ],
   "source": [
    "print(y_km)\n",
    "\n",
    "df_km = pd.DataFrame(y_km)\n",
    "df_km.head(10)"
   ]
  },
  {
   "cell_type": "code",
   "execution_count": 40,
   "metadata": {},
   "outputs": [
    {
     "data": {
      "image/png": "[encoded data removed]",
      "text/plain": [
       "<Figure size 1152x576 with 1 Axes>"
      ]
     },
     "metadata": {
      "needs_background": "light"
     },
     "output_type": "display_data"
    }
   ],
   "source": [
    "plt.figure(1 , figsize = (16 , 8))\n",
    "plt.scatter(AGM[y_km == 0, 0], AGM[y_km == 0, 1], s = 100, c = 'aqua', label = 'Kluster a')\n",
    "plt.scatter(AGM[y_km == 1, 0], AGM[y_km == 1, 1], s = 100, c = 'yellow', label = 'Kluster b')\n",
    "plt.scatter(AGM[y_km == 2, 0], AGM[y_km == 2, 1], s = 100, c = 'crimson', label = 'Kluster c')\n",
    "plt.scatter(AGM[y_km == 3, 0], AGM[y_km == 3, 1], s = 100, c = 'forestgreen', label = 'Kluster d')\n",
    "plt.scatter(km.cluster_centers_[:, 0], km.cluster_centers_[:, 1], s = 250, c = 'black', label = 'Centroids')\n",
    "plt.title('Kluster pengunjung berdasarkan usia', fontsize = 15)\n",
    "plt.xlabel('Usia')\n",
    "plt.ylabel('Skor pengeluaran (1-100)')\n",
    "plt.legend()\n",
    "plt.show()"
   ]
  },
  {
   "cell_type": "markdown",
   "metadata": {},
   "source": [
    "Titik yang berwarna hitam adalah Centroids\n",
    "- Kluster a -> Merupakan pelanggan berusia tua > 40 tahun dengan nilai pengeluaran menengah\n",
    "- Kluster b -> Merupakan pelanggan usia muda dengan nilai pengeluaran tinggi\n",
    "- Kluster c -> Merupakan pelanggan dari semua usia dengan nilai pengeluaran rendah\n",
    "- Kluster d -> Merupakan pelanggan potensial berusia muda < 40 tahun dengan nilai pengeluaran menengah"
   ]
  },
  {
   "cell_type": "markdown",
   "metadata": {},
   "source": [
    "## 1.4 Kesimpulan\n",
    "\n",
    "Hasil Segmentasi pengunjung mall dari hasil pembagian klaster diatas yaitu : \n",
    "1. Terdapat 1 kelompok pelanggan yang memiliki nilai diatas rata-rata yaitu orang dengan pendapatan tinggi dan pengeluaran yang tinggi dapat dilihat pada klaster 3 grafik diatas. \n",
    "2. Terdapat 1 kelompok pelanggan yang memiliki nilai penghasilan dibawah rata-rata pelanggan akan tetapi memiliki pengeluaran yang tinggi dapat dilihat pada klaster 2 grafik diatas\n",
    "3. Segmentasi pelanggan berdasarkan usia terlihat bahwa nilai pengeluaran tertinggi didominasi oleh pengunjung usia muda yaitu rentang umur 18 - 40 tahun.\n",
    "\n",
    "Dari hasil pengelompokan tersebut diketahui bahwa faktor utama yang mempengaruhi kebiasaan belanja pelanggan adalah usia pelanggan. Karena dari hasil segmentasi diatas terlihat bahwa pelanggan yang memiliki penghasilan dibawah rata-rata pelanggan lainnya masih memiliki nilai pengeluaran yang tinggi oleh karena itu pasti ada faktor lainnya yang mempengaruhi kebiasaan belanja selain nilai penghasilan."
   ]
  },
  {
   "cell_type": "code",
   "execution_count": null,
   "metadata": {},
   "outputs": [],
   "source": []
  }
 ],
 "metadata": {
  "kernelspec": {
   "display_name": "Python 3",
   "language": "python",
   "name": "python3"
  },
  "language_info": {
   "codemirror_mode": {
    "name": "ipython",
    "version": 3
   },
   "file_extension": ".py",
   "mimetype": "text/x-python",
   "name": "python",
   "nbconvert_exporter": "python",
   "pygments_lexer": "ipython3",
   "version": "3.7.4"
  }
 },
 "nbformat": 4,
 "nbformat_minor": 2
}
