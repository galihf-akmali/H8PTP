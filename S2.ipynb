{
 "cells": [
  {
   "attachments": {
    "Hacktiv8.png": {
     "image/png": "[encoded data removed]"
    }
   },
   "cell_type": "markdown",
   "metadata": {},
   "source": [
    "# Hacktiv8 Python for Data Science Sesi 2\n",
    "\n",
    "![Hacktiv8.png](attachment:Hacktiv8.png)"
   ]
  },
  {
   "cell_type": "markdown",
   "metadata": {},
   "source": [
    "Dalam bahasa Python ada istilah yang disebut percabangan. Percabangan adalah cara yang digunakan untuk mengambil keputusan apabila di dalam program apabila dihadapkan pada kondisi tertentu. Jumlah kondisinya bisa satu, dua atau lebih. Percabangan mengevaluasi kondisi atau ekspresi yang hasilnya benar atau salah.  \n",
    "\n",
    "Untuk melakukan operasi percabangan dalam bahasa Python biasanya digunakan operator yang disebut operator pembanding. Operator ini digunakan untuk membandingkan dua buah nilai. Operator ini juga dikenal dengan operator relasi dan sering digunakan untuk membuat sebuah logika atau kondisi.\n",
    "\n",
    "| Simbol | Operator |Contoh|\n",
    "| :-------- | :------ | :------ |\n",
    "| > | : Lebih Dari | 5 > 3 |\n",
    "| < | : Kurang Dari | 3 < 5 |\n",
    "| == | : Sama Dengan | 3 == 3 |\n",
    "| != | : Tidak Sama Dengan | 2 != 4 |\n",
    "| >= | : Lebih Dari Sama Dengan | 5 >= 3 |\n",
    "| <= | : Kurang Dari Sama Dengan | 5 <= 3 |\n",
    "\n",
    "Operator pembanding tersebut dapat digunakan didalam berbagai macam kondisi, tetapi umumnya digunakan dalam \"`if` statement\" dan `loop` dalam Python."
   ]
  },
  {
   "cell_type": "markdown",
   "metadata": {},
   "source": [
    "## 1.1 Kondisi\n",
    "\n",
    "Kondisi adalah suatu fungsi percabangan, dimana python akan menidentifikasi pernyataan yang ada dan menilai apakah program bisa di eksekusi sesuai dengan\n",
    "Hasil dari pengecekan pernyataan tersebut.\n",
    "\n",
    "Bila benar `True`, maka pernyataan yang ada di dalam blok kondisi tersebut akan dieksekusi. Bila salah `False`, maka blok pernyataan lain yang dieksekusi.\n",
    "\n",
    "Ada tiga macam kondisional di Python, yang dapat digunakan untuk membangun alur logika untuk program.\n",
    "\n",
    "Python memiliki statement `if`, `if..else`, dan `if..elif..else`.\n",
    "\n",
    "Dalam bahasa pemrograman Python, Percabangan akan mampu membuat program berpikir dan menentukan tindakan sesuai dengan logika/kondisi yang kita berikan.\n",
    "\n",
    "| Pernyataan | Deskripsi |\n",
    "| :---------- | :--------- |\n",
    "| if | Pernyataan `if`... terdiri dari ekspresi boolean diikuti oleh satu baris atau lebih pernyataan |\n",
    "| if... else | Pernyataan `if`...`else` menguji 2 kondisi. Kondisi pertama kalau benar, dan kondisi kedua kalau salah |\n",
    "| if... elif... else | Pernyataan `if`...`elif`...`else` digunakan untuk menguji lebih dari 2 kondisi. Bila kondisi pada `if` benar, maka pernyataan di dalamnya yang dieksekusi. Bila salah, maka masuk ke pengujian kondisi `elif`. Terakhir bila tidak ada `if` atau `elif` yang benar, maka yang dijalankan adalah yang di blok `else` |\n",
    "\n",
    "Pengambilan keputusan (kondisi `if`, `elif`, dan `else`) digunakan untuk mengantisipasi kondisi yang terjadi saat jalannya program dan menentukan tindakan apa yang akan diambil sesuai dengan kondisi."
   ]
  },
  {
   "attachments": {
    "ifstatement.png": {
     "image/png": "[encoded data removed]"
    }
   },
   "cell_type": "markdown",
   "metadata": {},
   "source": [
    "### 1.1.1 If Statement\n",
    "\n",
    "Pada python pernyataan if digunakan untuk mengeksekusi kode jika kondisi bernilai benar True. Jika kondisi bernilai salah False maka statement/kondisi if tidak akan di-eksekusi.\n",
    "\n",
    "Contoh struktur penggunaan kondisi `if statement` sederhana pada Python :\n",
    "\n",
    "`if <expr>:\n",
    "    <statement>`\n",
    "\n",
    "- Jika kondisi (expression) benar/True maka program akan mengeksekusi perintah dibawahnya.\n",
    "- Jika kondisi (expression) salah/False maka program tidak akan mengeksekusi perintah dibawahnya.\n",
    "![ifstatement.png](attachment:ifstatement.png)"
   ]
  },
  {
   "cell_type": "code",
   "execution_count": 1,
   "metadata": {},
   "outputs": [
    {
     "name": "stdout",
     "output_type": "stream",
     "text": [
      "Selamat Anda Lulus\n"
     ]
    }
   ],
   "source": [
    "#contoh if statement\n",
    "\n",
    "nilai = 9\n",
    "\n",
    "if nilai > 7:\n",
    "    print(\"Selamat Anda Lulus\")\n",
    "\n",
    "if nilai < 7:\n",
    "    print(\"Anda harus ikut remidial\")"
   ]
  },
  {
   "cell_type": "markdown",
   "metadata": {},
   "source": [
    "Dari contoh diatas, jika program dijalankan maka akan mencetak string \"Selamat Anda Lulus\" sebanyak 1 kali yaitu pada `if` pertama, dalam kondisi `if` kedua statement bernilai salah, jadi perintah print(\"Anda harus ikut remidial\") tidak dieksekusi.\n",
    "\n",
    "Catatan : Penulisan tanda titik dua `:` setelah kondisi `<expr>` diperlukan karena berperan sebagai bagian dari syntax dalam kondisi percabangan ini, selain itu dengan menuliskan tanda titik dua `:` setelah <expr> secara otomatis membantu dalam proses indentasi baris kode dalam Python. Beberapa bahasa pemrograman lain membutuhkan `<expr>` untuk dilampirkan dalam tanda kurung, tetapi Python tidak."
   ]
  },
  {
   "cell_type": "code",
   "execution_count": 2,
   "metadata": {
    "scrolled": true
   },
   "outputs": [
    {
     "name": "stdout",
     "output_type": "stream",
     "text": [
      "yes\n",
      "yes\n",
      "yes\n"
     ]
    }
   ],
   "source": [
    "#contoh if statement lainnya\n",
    "x = 0\n",
    "y = 5\n",
    "\n",
    "if x < y:                            # True\n",
    "    print('yes')\n",
    "\n",
    "if y < x:                            # False\n",
    "    print('yes')\n",
    "\n",
    "if x:                                # False\n",
    "    print('yes')\n",
    "\n",
    "if y:                                # True\n",
    "    print('yes')\n",
    "\n",
    "if 'aul' in 'grault':                # True\n",
    "    print('yes')\n",
    "\n",
    "if 'quux' in ['foo', 'bar', 'baz']:  # False\n",
    "    print('yes')"
   ]
  },
  {
   "cell_type": "markdown",
   "metadata": {},
   "source": [
    "Dalam contoh if statement diatas expression atau kondisi 1, 4, dan 5 adalah `True` maka program mengeksekusi perintah dibawahnya.\n",
    "Sedangkan pada kondisi 2, 3, dan 6 kondisi tersebut adalah `False` maka program tidak mengeksekusi perintah dibawahnya"
   ]
  },
  {
   "cell_type": "markdown",
   "metadata": {},
   "source": [
    "**Grouping Statements : Indentation and Blocks**\n",
    "\n",
    "Dalam contoh diatas masing-masing `if <expr>`: hanya diikuti oleh 1 buah `<statement>`.\n",
    "\n",
    "Lalu bagaimana apabila ingin mengevaluasi suatu kondisi dan setelah itu ingin melakukan banyak perintah dalam bentuk apabila kondisi yang diinginkan itu terjadi.\n",
    "\n",
    "Untuk melakukan hal tersebut kita bisa menggunakan sebuah cara penulisan code dengan menggunakan blok. Blok program adalah kumpulan dari beberapa statement yang digabungkan dalam satu blok.\n",
    "\n",
    "Penulisan blok program harus ditambahkan indentasi (tab atau spasi 2x/4x)."
   ]
  },
  {
   "cell_type": "code",
   "execution_count": 3,
   "metadata": {},
   "outputs": [
    {
     "name": "stdout",
     "output_type": "stream",
     "text": [
      "Jawaban anda benar\n",
      "Anda dapat melanjutkan menjawab pertanyaan selanjutnya\n",
      "Anda mendapatkan 1 poin\n"
     ]
    }
   ],
   "source": [
    "#contoh penggunaan blok dalam if statement\n",
    "\n",
    "a = 2\n",
    "b = 4\n",
    "\n",
    "if a+b == 6:\n",
    "    print(\"Jawaban anda benar\")\n",
    "    print(\"Anda dapat melanjutkan menjawab pertanyaan selanjutnya\")\n",
    "    print(\"Anda mendapatkan 1 poin\")"
   ]
  },
  {
   "cell_type": "code",
   "execution_count": 4,
   "metadata": {},
   "outputs": [
    {
     "ename": "IndentationError",
     "evalue": "unexpected indent (<ipython-input-4-697aa0697dca>, line 7)",
     "output_type": "error",
     "traceback": [
      "\u001b[1;36m  File \u001b[1;32m\"<ipython-input-4-697aa0697dca>\"\u001b[1;36m, line \u001b[1;32m7\u001b[0m\n\u001b[1;33m    print(\"Anda mendapatkan 1 poin\")\u001b[0m\n\u001b[1;37m    ^\u001b[0m\n\u001b[1;31mIndentationError\u001b[0m\u001b[1;31m:\u001b[0m unexpected indent\n"
     ]
    }
   ],
   "source": [
    "a = 2\n",
    "b = 4\n",
    "\n",
    "if a+b < 10:\n",
    "    print(\"Jawaban anda benar\")\n",
    "    print(\"Anda dapat melanjutkan menjawab pertanyaan selanjutnya\")\n",
    "     print(\"Anda mendapatkan 1 poin\")\n"
   ]
  },
  {
   "cell_type": "markdown",
   "metadata": {},
   "source": [
    "Contoh diatas adalah penggunaan blok dengan beberapa pernyataan dalam `if statement`. \n",
    "\n",
    "Contoh pertama bernilai `True` dan perintah dibawahnya dijalankan seluruhnya. sedangkan pada contoh kedua juga bernilai `True` akan tetapi perintah dibawahnya tidak di eksekusi dan program menunjukan bahwa terdapat `IndentationError`.\n",
    "\n",
    "Dalam bahasa Python atau bahasa pemrograman lainnya indentasi merupakan salah satu cara untuk merapikan sintaks baris kode yang ditulis. Python tidak menggunakan tanda `{ }` untuk menandai blok / grup kode. Blok kode di python menggunakan tanda indentasi berupa (spasi). Jumlah spasi untuk setiap baris yang ada dalam satu blok kode harus sama. \n",
    "\n",
    "Berdasarkan hal tersebut dalam statement multiline contoh yang benar adalah sebagai berikut:\n",
    "\n",
    "`if  <expr>:\n",
    "    <statement>\n",
    "    <statement>\n",
    "    ...\n",
    "    <statement>\n",
    "<following_statement>`\n",
    "\n",
    "Semua pernyataan pada blok kode diatas berada pada indentasi yang sama (baris 2 sampai 5). Seluruh statement pada blok kode diatas akan dieksekusi jika `<expr>` bernilai `True` atau akan dilewati apabila `<expr>` bernilai `False`.\n",
    "\n",
    "Akan tetapi perlu diperhatikan bahwa hasil dari evaluasi `<expr>` dan perintah `<statement>` di baris 1 sampai 5 akan di proses bersamaan dengan `<following_statement>` di baris ke 6 karena berada di blok kode yang berbeda.\n",
    "\n",
    "Contoh :"
   ]
  },
  {
   "cell_type": "code",
   "execution_count": 5,
   "metadata": {},
   "outputs": [
    {
     "name": "stdout",
     "output_type": "stream",
     "text": [
      "Expression was true\n",
      "Executing statement is suite\n",
      "...\n",
      "done\n",
      "after conditional\n"
     ]
    }
   ],
   "source": [
    "if 'bar' in ['bar', 'baz', 'qux']:\n",
    "    print ('Expression was true')\n",
    "    print ('Executing statement is suite')\n",
    "    print ('...')\n",
    "    print ('done')\n",
    "    \n",
    "print ('after conditional')"
   ]
  },
  {
   "cell_type": "code",
   "execution_count": 6,
   "metadata": {},
   "outputs": [
    {
     "name": "stdout",
     "output_type": "stream",
     "text": [
      "after conditional\n"
     ]
    }
   ],
   "source": [
    "if 'foo' in ['bar', 'baz', 'qux']:\n",
    "    print ('Expression was true')\n",
    "    print ('Executing statement is suite')\n",
    "    print ('...')\n",
    "    print ('done')\n",
    "    \n",
    "print ('after conditional')"
   ]
  },
  {
   "cell_type": "markdown",
   "metadata": {},
   "source": [
    "Berdasarkan 2 contoh diatas menggambarkan bahwa hasil dari evaluasi <expr> dan perintah <statement> di baris 1 sampai 5 akan di proses bersamaan dengan <following_statement> dari baris ke 6 karena berada di blok kode yang berbeda. Setiap indentasi mendefinisikan blok baru dan masing-masing outdent mengakhiri blok sebelumnya.\n",
    "\n",
    "Berikut ini contoh script lainnya tentang `if statement`."
   ]
  },
  {
   "cell_type": "code",
   "execution_count": 7,
   "metadata": {},
   "outputs": [
    {
     "name": "stdout",
     "output_type": "stream",
     "text": [
      "Outer condition is true\n",
      "Between inner conditions\n",
      "Inner condition 2\n",
      "End of outer condition\n",
      "After outer condition\n"
     ]
    }
   ],
   "source": [
    "# Apakah barisan dieksekusi?                Ya    Tidak\n",
    "#                                           ---    --\n",
    "if 'foo' in ['foo', 'bar', 'baz']:        #  x\n",
    "    print('Outer condition is true')      #  x\n",
    "\n",
    "    if 10 > 20:                           #  x\n",
    "        print('Inner condition 1')        #        x\n",
    "\n",
    "    print('Between inner conditions')     #  x\n",
    "\n",
    "    if 10 < 20:                           #  x\n",
    "        print('Inner condition 2')        #  x\n",
    "\n",
    "    print('End of outer condition')       #  x\n",
    "print('After outer condition')            #  x\n"
   ]
  },
  {
   "attachments": {
    "ifelse.png": {
     "image/png": "[encoded data removed]"
    }
   },
   "cell_type": "markdown",
   "metadata": {},
   "source": [
    "### 1.1.2 if/else Statement\n",
    "\n",
    "Setelah memahami kondisi dengan cara menggunakan `if statement` untuk mengevaluasi kondisi tunggal, selanjutnya adalah bagaimana caranya untuk memeriksa kondisi yang tidak memenuhi kondisi utama. \n",
    "\n",
    "Kadang-kadang kita ingin mengevaluasi sebuah statement lebih dari 1 kondisi, dimana program akan menjalankan suatu perintah apabila kondisi yang dievaluasi bernilai benar, dan akan menjalankan perintah alternatif apabila kondisi yang dievaluasi bernilai salah. Kasus tersebut dapat diselesaikan menggunakan kondisi percabangan `if...else`.\n",
    "\n",
    "Contoh bentuk struktur kondisi if,, else,, statement sederhana pada Python :\n",
    "\n",
    "`if <expr>:\n",
    "    <statement(s1)>\n",
    "else:\n",
    "    <statement(s2)>`\n",
    "\n",
    "- Jika kondisi (expression) dalam `if <expr>` bernilai `True` maka program akan mengeksekusi `<statement(s1)>`.\n",
    "- Jika kondisi (expression) `if <expr>` bernilai `False` maka program akan mengeksekusi `<statement(s2)>`.\n",
    "\n",
    "Struktur percabangan `if`... `else` digunakan untuk menangani kondisi yang lebih dari satu. Jika struktur `if` sebelumnya hanya menjalankan pernyataan didalam blok kondisi jika bernilai `True`, maka struktur `if`...`else` adalah membuat pernyataan untuk kondisi yang bernilai `True` dan `False`.\n",
    "![ifelse.png](attachment:ifelse.png)\n",
    "\n",
    "Contoh :"
   ]
  },
  {
   "cell_type": "code",
   "execution_count": 8,
   "metadata": {},
   "outputs": [
    {
     "name": "stdout",
     "output_type": "stream",
     "text": [
      "(first suite)\n",
      "x is small\n"
     ]
    }
   ],
   "source": [
    "x = 20\n",
    "\n",
    "if x < 50:\n",
    "    print('(first suite)')\n",
    "    print('x is small')\n",
    "else:\n",
    "    print('(second suite)')\n",
    "    print('x is large')"
   ]
  },
  {
   "cell_type": "markdown",
   "metadata": {},
   "source": [
    "Pada `<expr>` diatas bernilai `True` maka pernyataan yang di eksekusi adalah dalam blok kode `if`, sebaliknya apabila nilai x dirubah :"
   ]
  },
  {
   "cell_type": "code",
   "execution_count": 9,
   "metadata": {},
   "outputs": [
    {
     "name": "stdout",
     "output_type": "stream",
     "text": [
      "(second suite)\n",
      "x is large\n"
     ]
    }
   ],
   "source": [
    "x = 120\n",
    "\n",
    "if x < 50:\n",
    "    print('(first suite)')\n",
    "    print('x is small')\n",
    "else:\n",
    "    print('(second suite)')\n",
    "    print('x is large')"
   ]
  },
  {
   "cell_type": "markdown",
   "metadata": {},
   "source": [
    "Maka Python menjalankan statement yang terdapat dalam blok `else:` , yang berarti bahwa kondisi tersebut bernilai `False`.\n",
    "\n",
    "Intinya struktur ini adalah jika kondisi bernilai `True` maka statement didalam blok `if` yang akan dieksekusi dan jika bernilai `False` maka statement yang dieksekusi adalah statement didalam blok `else`."
   ]
  },
  {
   "attachments": {
    "ifelifelse.png": {
     "image/png": "[encoded data removed]"
    }
   },
   "cell_type": "markdown",
   "metadata": {},
   "source": [
    "### 1.1.3 if/elif/else Statement\n",
    "\n",
    "Selanjutnya bagaimana jika terdapat banyak kondisi untuk dieksekusi dalam Python? Dengan artian bahwa tidak hanya satu kondisi saja yang bernilai `True` bisa jadi dua kondisi atau berapapun kondisi yang bernilai `True`. Solusinya adalah Kondisi Berantai yaitu dengan menggunakan fungsi `if`, `elif` dan `else`. \n",
    "\n",
    "Contoh bentuk struktur kondisi if,, elif,, else,, statement sederhana pada Python :\n",
    "\n",
    "`if <expr>:\n",
    "    <statement(s)>\n",
    "elif <expr>:\n",
    "    <statement(s)>\n",
    "elif <expr>:\n",
    "    <statement(s)>\n",
    "    ...\n",
    "else:\n",
    "    <statement(s)>`\n",
    "\n",
    "Dengan menggunakan struktur diatas python akan memeriksa apakah kondisi1 bernilai `True`? Jika tidak, apakah kondisi2 bernilai `True`? Jika tidak, apakah kondisi3 bernilai `True`? dan seterusnya, dan jika tidak ada kondisi yang bernilai `True`, maka python akan menjalankan statemen didalam blok `else`.\n",
    "![ifelifelse.png](attachment:ifelifelse.png)\n",
    "\n",
    "Contoh :"
   ]
  },
  {
   "cell_type": "code",
   "execution_count": 10,
   "metadata": {},
   "outputs": [
    {
     "name": "stdout",
     "output_type": "stream",
     "text": [
      "uang tidak cukup\n"
     ]
    }
   ],
   "source": [
    "hargaBuku = 20000\n",
    "hargaMajalah = 5000\n",
    "uang = 2000\n",
    "\n",
    "if uang > hargaBuku:\n",
    "    print(\"beli buku\")\n",
    "elif uang > hargaMajalah:\n",
    "    print(\"beli majalah\")\n",
    "else:\n",
    "    print(\"uang tidak cukup\")"
   ]
  },
  {
   "cell_type": "code",
   "execution_count": 11,
   "metadata": {},
   "outputs": [
    {
     "name": "stdout",
     "output_type": "stream",
     "text": [
      "Hello Hacktiv8\n"
     ]
    }
   ],
   "source": [
    "name = 'Hacktiv8'\n",
    "\n",
    "if name == 'fred':\n",
    "    print(\"Hello Fred\")\n",
    "elif name == \"Xander\":\n",
    "    print(\"Hello Xander\")\n",
    "elif name == 'Hacktiv8':\n",
    "    print(\"Hello Hacktiv8\")\n",
    "elif name == \"Xander\":\n",
    "    print(\"Hello Arnold\")\n",
    "else:\n",
    "    print(\"I don't know who you are!\")"
   ]
  },
  {
   "cell_type": "markdown",
   "metadata": {},
   "source": [
    "Pada contoh diatas salah satu blok kode dieksekusi sesuai dengan kondisi yang ada. Tetapi apabila `else:` tidak disertakan dan semua kondisi bernilai False, maka tidak akan ada blok kode yang akan di eksekusi."
   ]
  },
  {
   "cell_type": "code",
   "execution_count": 12,
   "metadata": {},
   "outputs": [],
   "source": [
    "hargaBuku = 20000\n",
    "hargaMajalah = 5000\n",
    "uang = 2000\n",
    "\n",
    "if uang > hargaBuku:\n",
    "    print(\"beli buku\")\n",
    "elif uang > hargaMajalah:\n",
    "    print(\"beli majalah\")"
   ]
  },
  {
   "cell_type": "markdown",
   "metadata": {},
   "source": [
    "Dalam struktur percabangan `if`, `elif`, `else` meskipun `<expr>` pada statement `if` dan `elif` memiliki nilai `True` di setiap blok kodenya tidak berarti semua `<statement>` akan di eksekusi. Apabila telah ditemukan `<expr>` yang benar dan bloknya dieksekusi, tidak ada `<expr>` yang tersisa akan dievaluasi. contoh :"
   ]
  },
  {
   "cell_type": "code",
   "execution_count": 13,
   "metadata": {},
   "outputs": [
    {
     "name": "stdout",
     "output_type": "stream",
     "text": [
      "foo\n"
     ]
    }
   ],
   "source": [
    "if 'a' in 'bar':\n",
    "    print('foo')\n",
    "elif 1/0:\n",
    "    print(\"kondisi ini tidak akan di evaluasi\")\n",
    "elif var:\n",
    "    print(\"ini juga tidak akan di evaluasi\")"
   ]
  },
  {
   "cell_type": "markdown",
   "metadata": {},
   "source": [
    "### 1.1.4 Statement satu baris\n",
    "\n",
    "Sudah menjadi sebuah kebiasaan umum dalam penulisan `if <expr>` dalam satu baris dan `<statement>` dengan indentasi di baris berikutnya seperti ini :\n",
    "\n",
    "`if <expr>:\n",
    "    <statement>`\n",
    "    \n",
    "Akan tetapi dapat juga kita menuliskan barisan kode kondisi `if` dan `statement` di dalam satu baris. contoh berikut ini memiliki fungsi yang sama dengan contoh yang ada di atas.\n",
    "\n",
    "`if <expr>: <statement>`\n",
    "\n",
    "Bisa juga menuliskan lebih dari satu `statement` di baris yang sama, dengan dipisahkan oleh tanda `;`\n",
    "\n",
    "`if <expr>: <statement_1>; <statement_2>; ...; <statement_n>`\n",
    "\n",
    "Hal tersebut berarti ada dua buah interpretasi yang mungkin terjadi :\n",
    "\n",
    "- apabila `<expr>` Bernilai `True`, eksekusi `<statement_1>` lalu selanjutnya mengeksekusi `<statement_2> ... <statement_n>` tanpa syarat tertentu, terlepas dari apakah `<expr>` tersebut bernilai `True` atau `False`. atau\n",
    "\n",
    "- apabila `<expr>` bernilai `True`, eksekusi semua `<statement_1> ... <statement_n>`. Atau sebaliknya, tidak ada satupun yang dieksekusi apabila `<expr>` bernilai `False`.\n",
    "\n",
    "Dari dua kemungkinan diatas, dalam kasus ini Python akan melakukan interpretasi yang kedua. \n",
    "\n",
    "Tanda titik koma yang memisahkan `<statement>` memiliki prioritas lebih tinggi daripada titik dua setelah `<expr>` —dalam istilah komputer, tanda titik koma dikatakan mengikat lebih erat daripada titik dua. \n",
    "Jadi, dalam kasus statement satu baris ini baris kode (`<statement_1>`,..., `<statement_n>` akan diperlakukan sebagai sebuah rangkaian dan semuanya dieksekusi, atau tidak ada yang dieksekusi sama sekali:\n",
    "\n",
    "Contoh :"
   ]
  },
  {
   "cell_type": "code",
   "execution_count": 14,
   "metadata": {},
   "outputs": [
    {
     "name": "stdout",
     "output_type": "stream",
     "text": [
      "1\n",
      "2\n",
      "3\n"
     ]
    }
   ],
   "source": [
    "if 'f' in 'foo': print('1'); print('2'); print('3')"
   ]
  },
  {
   "cell_type": "code",
   "execution_count": 15,
   "metadata": {},
   "outputs": [],
   "source": [
    "if 'z' in 'foo': print('1'); print('2'); print('3')"
   ]
  },
  {
   "cell_type": "markdown",
   "metadata": {},
   "source": [
    "Multiple statements juga bisa dinyatakan dalam satu baris untuk `elif` dan `else` contoh :"
   ]
  },
  {
   "cell_type": "code",
   "execution_count": 16,
   "metadata": {},
   "outputs": [
    {
     "name": "stdout",
     "output_type": "stream",
     "text": [
      "qux\n",
      "quux\n"
     ]
    }
   ],
   "source": [
    "x = 2\n",
    "\n",
    "if x == 1: print('foo'); print('bar'); print('baz')\n",
    "elif x == 2: print('qux'); print('quux')\n",
    "else: print('corge'); print('grault')"
   ]
  },
  {
   "cell_type": "code",
   "execution_count": 17,
   "metadata": {},
   "outputs": [
    {
     "name": "stdout",
     "output_type": "stream",
     "text": [
      "corge\n",
      "grault\n"
     ]
    }
   ],
   "source": [
    "x = 3\n",
    "if x == 1: print('foo'); print('bar'); print('baz')\n",
    "elif x == 2: print('qux'); print('quux')\n",
    "else: print('corge'); print('grault')"
   ]
  },
  {
   "cell_type": "markdown",
   "metadata": {},
   "source": [
    "Dari contoh diatas terlihat bahwa statement dengan menggunakan satu baris bisa bekerja, interprer pada Python dapat meresponnya. Akan tetapi umumnya tidak disarankan karena hal tersebut dapat membuat interpreter kesulitan dalam membacanya terutama untuk pernyataan dalam kondisi dan baris kode yang lebih rumit, oleh karena itu PEP 8 secara tegas merekomendasikan untuk tidak melakukannya.\n",
    "\n",
    "Akan tetapi semua kembali kepada selera, sebagian besar orang-orang cara di bawah ini secara visual lebih menarik dan lebih mudah untuk dipahami ketika pertama kali melihatnya daripada contoh diatas :"
   ]
  },
  {
   "cell_type": "code",
   "execution_count": 18,
   "metadata": {},
   "outputs": [
    {
     "name": "stdout",
     "output_type": "stream",
     "text": [
      "corge\n",
      "grault\n"
     ]
    }
   ],
   "source": [
    "x = 3\n",
    "if x == 1:\n",
    "    print('foo')\n",
    "    print('bar')\n",
    "    print('baz')\n",
    "elif x == 2:\n",
    "    print('qux')\n",
    "    print('quux')\n",
    "else:\n",
    "    print('corge')\n",
    "    print('grault')"
   ]
  },
  {
   "cell_type": "markdown",
   "metadata": {},
   "source": [
    "### 1.1.5 Conditional Expressions (Python's Ternary Operator)\n",
    "\n",
    "Python mendukung sebuah entitas pembuat keputusan tambahan yang disebut ekspresi kondisional, operator ini dikenal dengan operator kondisi karena digunakan untuk expresi kondisi seperti percabangan, operator ternary ini sebenarnya tidak ada dalam python, namun python bisa menggunakan percabangan atau IF/ELSE dalam satu baris.\n",
    "\n",
    "Bentuk syntax dari operator kondisi yang paling sederhana dalam python adalah sebagai berikut :\n",
    "\n",
    "`<expr1> if <conditional_expr> else <expr2>`\n",
    "\n",
    "Bentuk operasi ternary ini berbeda dengan `if statement` dari contoh-contoh diatas karena ekspresi kondisional ini bukanlah struktur kontrol yang mengarahkan aliran dari eksekusi program, cara kerjanya lebih seperti operator yang mendefinisikan sebuah ekspresi. \n",
    "\n",
    "Pada contoh diatas, `<conditional_expr>` di evaluasi lebih dulu, apabila hasil evaluasi bernilai `True`, maka yang akan di evaluasi adalah `<expr1>`. Akan tetapi apabila hasil evaluasi bernilai `False`, yang akan dievaluasi adalah `<expr2>`.\n",
    "\n",
    "Perhatikan statement berikut yang tidak berurutan seperti contoh sebelumnya : ekspresi di tengah yang merupakan ekspresi kondisional dievaluasi terlebih dahulu, dan berdasarkan hasil hasil evaluasi tersebut, salah satu ekspresi di awal atau di akhir statement akan dieksekusi.\n",
    "\n",
    "Berikut adalah beberapa contoh ekspresi kondisional :"
   ]
  },
  {
   "cell_type": "code",
   "execution_count": 19,
   "metadata": {},
   "outputs": [
    {
     "name": "stdout",
     "output_type": "stream",
     "text": [
      "let's go to the beach\n"
     ]
    }
   ],
   "source": [
    "raining = False\n",
    "print (\"let's go to the\", 'beach' if not raining else 'library')"
   ]
  },
  {
   "cell_type": "code",
   "execution_count": 20,
   "metadata": {},
   "outputs": [
    {
     "name": "stdout",
     "output_type": "stream",
     "text": [
      "let's go to the library\n"
     ]
    }
   ],
   "source": [
    "raining = True\n",
    "print (\"let's go to the\", 'beach' if not raining else 'library')"
   ]
  },
  {
   "cell_type": "markdown",
   "metadata": {},
   "source": [
    "Dari dua contoh diatas terlihat bahwa pada statement pertama karena ekspresi kondisional bernilai `False` maka yang dieksekusi adalah `<expr2>` sedangkan pada statement kedua ekspresi kondisional bernilai `True` oleh karena itu `<expr>` yang di eksekusi.\n",
    "\n",
    "Berikut ini adalah contoh lainnya untuk ekspresi kondisional :"
   ]
  },
  {
   "cell_type": "code",
   "execution_count": 21,
   "metadata": {},
   "outputs": [
    {
     "data": {
      "text/plain": [
       "'teen'"
      ]
     },
     "execution_count": 21,
     "metadata": {},
     "output_type": "execute_result"
    }
   ],
   "source": [
    "age = 12\n",
    "s = 'teen' if age < 21 else 'adult'\n",
    "s"
   ]
  },
  {
   "cell_type": "code",
   "execution_count": 22,
   "metadata": {},
   "outputs": [
    {
     "data": {
      "text/plain": [
       "'no'"
      ]
     },
     "execution_count": 22,
     "metadata": {},
     "output_type": "execute_result"
    }
   ],
   "source": [
    "'yes' if ('qux' in ['foo', 'bar', 'baz']) else 'no'"
   ]
  },
  {
   "cell_type": "markdown",
   "metadata": {},
   "source": [
    "Untuk kasus seperti ini kita juga bisa menggunakan metode standar `if` statement disusul dengan pernyataan `else` :\n",
    "\n",
    "`if a > b:\n",
    "    m = a\n",
    "else:\n",
    "    m = b`\n",
    "    \n",
    "Akan tetapi ekspresi kondisional itu lebih sederhana dan beberapa berpendapat lebih mudah untuk dibaca :\n",
    "\n",
    "`m = a if a > b else b`\n",
    "\n",
    "Kesimpulannya dalam expresi kondisional dengan pernyataan `<expr1> if <conditional_expr> else <expr2>`:\n",
    "\n",
    "Apabila `<conditional_expr>` bernilai `True`, `<expr1>` akan dikembalikan dan dieksekusi dan `<expr2>` tidak dievaluasi.\n",
    "\n",
    "Apabila `<conditional_expr>` bernilai `False`, `<expr2>` akan dieksekusi dan `<expr1>` tidak dievaluasi.\n",
    "\n",
    "Perlu diingat bahwa ekspresi kondisional sama seperti ekspresi lainnya, operator ternari tidak memiliki simbol khusus seperti operator lain. Oleh karena itu ekspresi kondisional dapat digunakan sebagai bagian dari ekspresi yang lebih panjang. \n",
    "\n",
    "Ekspresi kondisional atau operator ternary memiliki prioritas lebih rendah daripada hampir semua operator lain, sehingga tanda kurung diperlukan untuk mengelompokkannya secara terpisah."
   ]
  },
  {
   "cell_type": "markdown",
   "metadata": {},
   "source": [
    "### 1.1.6 The Python pass Statement\n",
    "\n",
    "Kadang-kadang, kita ingin blok program atau baris kode yang telah kita buat tidak perlu di cetak atau di print. Atau kita ingin menulis apa yang disebut kode rintisan: Misalkan kita memiliki loop atau fungsi yang belum lengkap untuk diimplementasikan. Fungsi atau Loop tidak dapat memiliki blok program yang kosong karena akan menjadi masalah dalam intepreter dan terjadi error. Jadi, kita dapat menggunakan pass statement untuk membuat blok kode yang dibuat tidak melakukan apa-apa.\n",
    "\n",
    "Dalam Python, jika kita menulis sesuatu seperti di bawah ini akan menghasilkan error :"
   ]
  },
  {
   "cell_type": "code",
   "execution_count": 23,
   "metadata": {},
   "outputs": [
    {
     "ename": "IndentationError",
     "evalue": "expected an indented block (<ipython-input-23-37d82b1abfb6>, line 3)",
     "output_type": "error",
     "traceback": [
      "\u001b[1;36m  File \u001b[1;32m\"<ipython-input-23-37d82b1abfb6>\"\u001b[1;36m, line \u001b[1;32m3\u001b[0m\n\u001b[1;33m    print('foo')\u001b[0m\n\u001b[1;37m        ^\u001b[0m\n\u001b[1;31mIndentationError\u001b[0m\u001b[1;31m:\u001b[0m expected an indented block\n"
     ]
    }
   ],
   "source": [
    "if True:\n",
    "\n",
    "print('foo')"
   ]
  },
  {
   "cell_type": "markdown",
   "metadata": {},
   "source": [
    "Dari contoh diatas terdapat error karena terjadi kesalahan indentasi di baris kedua baris kode, sehingga program tidak mengevaluasi pernyataan di baris pertama, dan baris kedua yang berupa perintah untuk mencetak `'foo'` juga tidak dieksekusi. "
   ]
  },
  {
   "cell_type": "code",
   "execution_count": 24,
   "metadata": {},
   "outputs": [
    {
     "name": "stdout",
     "output_type": "stream",
     "text": [
      "foo\n"
     ]
    }
   ],
   "source": [
    "if True:\n",
    "    pass\n",
    "\n",
    "print('foo')"
   ]
  },
  {
   "cell_type": "code",
   "execution_count": 25,
   "metadata": {},
   "outputs": [
    {
     "ename": "IndentationError",
     "evalue": "expected an indented block (<ipython-input-25-9b22516b4557>, line 4)",
     "output_type": "error",
     "traceback": [
      "\u001b[1;36m  File \u001b[1;32m\"<ipython-input-25-9b22516b4557>\"\u001b[1;36m, line \u001b[1;32m4\u001b[0m\n\u001b[1;33m    print('foo')\u001b[0m\n\u001b[1;37m        ^\u001b[0m\n\u001b[1;31mIndentationError\u001b[0m\u001b[1;31m:\u001b[0m expected an indented block\n"
     ]
    }
   ],
   "source": [
    "if True:\n",
    "    #pass\n",
    "    \n",
    "print('foo')"
   ]
  },
  {
   "cell_type": "markdown",
   "metadata": {},
   "source": [
    "Sedangkan pada contoh kedua setelah `if statement` ditambahkan sebuaoh statement `pass` dan setelahnya mengeksekusi perintah untuk mencetak variabel `'foo'` tanpa menghiraukan kondisi atau evaluasi dari statement pada baris pertama. \n",
    "\n",
    "Sebenarnya `pass` statement ini tidak memiliki fungsi yang sangat penting. Dan bahkan sangat jarang digunakan oleh programer. Jadi pass ini sebenarnya hanya mengisi kekosongan saja, agar program tidak error ketika dijalankan.\n",
    "\n",
    "Dalam pemrograman Python, `pass` adalah pernyataan nol. Perbedaan antara pernyataan komentar dan `pass` dalam Python adalah, komentar akan diabaikan sepenuhnya oleh intepreter sementara `pass` tidak diabaikan.\n",
    "\n",
    "Dari contoh tersebut bisa disimpulkan bahwa `pass` ini berfungsi untuk mengisi kekosongan dari sebuah penyeleksian ataupun perulangan. Jadi ini berguna saat kita tidak akan melakukan sesuatu pada sebuah penyeleksian atau perulangan."
   ]
  },
  {
   "attachments": {
    "looping.jpg": {
     "image/jpeg": "[encoded data removed]"
    }
   },
   "cell_type": "markdown",
   "metadata": {},
   "source": [
    "## 1.2 Perulangan / Looping\n",
    "\n",
    "Secara umum, Python mengeksekusi program secara berurutan dari baris kode yang dibuat. Mulai dari baris satu, dua, dan seterusnya. Ada kalanya, kita perlu mengeksekusi satu baris atau satu blok kode program beberapa kali. Hal ini disebut dengan perulangan atau biasa disebut looping atau iterasi. Untuk lebih jelasnya perhatikan gambar berikut:\n",
    "![looping.jpg](attachment:looping.jpg)\n",
    "\n",
    "Pada gambar bisa dilihat bahwa perulangan juga memerlukan tes kondisi. Bila hasil tes kondisi True, maka blok kode kembali dieksekusi. Tapi jika False, maka keluar dari perulangan.\n",
    "\n",
    "Dalam pemrograman, ada dua jenis perulangan atau looping yaitu, indefinite(tidak terbatas) dan definite (terbatas) :\n",
    "- Dengan **Iterasi indefinite** atau yang tidak terbatas, jumlah loop yang dieksekusi tidak ditentukan secara eksplisit sebelumnya. Sebaliknya, blok yang ditunjuk dieksekusi berulang kali selama beberapa kondisi terpenuhi.\n",
    "\n",
    "- Sedangkan dengan **iterasi definite** atau yang pasti, berapa kali blok yang ditunjuk akan dieksekusi ditentukan secara eksplisit pada saat loop dimulai.\n",
    "\n",
    "Di python, perulangan bisa dilakukan dengan dua cara atau metode, yaitu:\n",
    "\n",
    "Menggunakan `for` Menggunakan `while`"
   ]
  },
  {
   "cell_type": "markdown",
   "metadata": {},
   "source": [
    "### 1.2.1 Python \"while\" Loops\n",
    "\n",
    "Perulangan atau Looping dengan menggunakan statement `while` mengulang kode hingga kondisi terpenuhi, jumlah iterasi di dalamnya mungkin tidak diketahui. `while` Loop selalu terdiri dari suatu kondisi dan satu blok kode. `while` Loop berakhir jika dan hanya jika kondisinya benar.\n",
    "\n",
    "Perulangan menggunakan while akan menjalankan blok pernyataan terus menerus selama kondisi bernilai benar.\n",
    "\n",
    "Adapun sintaks dari perulangan menggunakan while adalah:\n",
    "\n",
    "`while <expr>:\n",
    "    <statement(s)>` \n",
    "    \n",
    "- `<expr>` merupakan ekspresi atau kondisi apa saja, dan untuk nilai selain nol dianggap `True`.\n",
    "- `<statement(s)>` blok yang akan di eksekusi berkali-kali bisa terdiri dari satu baris atau satu blok pernyataan.\n",
    "\n",
    "contoh :"
   ]
  },
  {
   "cell_type": "code",
   "execution_count": 26,
   "metadata": {},
   "outputs": [
    {
     "name": "stdout",
     "output_type": "stream",
     "text": [
      "4\n",
      "3\n",
      "2\n",
      "1\n",
      "0\n"
     ]
    }
   ],
   "source": [
    "n = 5\n",
    "while n > 0:\n",
    "    n -= 1\n",
    "    print(n)"
   ]
  },
  {
   "cell_type": "code",
   "execution_count": 27,
   "metadata": {},
   "outputs": [
    {
     "name": "stdout",
     "output_type": "stream",
     "text": [
      "1\n",
      "2\n",
      "3\n",
      "4\n",
      "5\n"
     ]
    }
   ],
   "source": [
    "i = 1\n",
    "while i < 6:\n",
    "    print(i)\n",
    "    i += 1"
   ]
  },
  {
   "cell_type": "markdown",
   "metadata": {},
   "source": [
    "Pada contoh diatas :\n",
    "- n = 5 dan `<expr>` dalam while statement di line kedua adalah n > 0 dimana statement tersebut bernilai `True` oleh karena itu `<statement(s)>` di eksekusi sampai `<expr>` bernilai `False` dimana ketika n = 0  `<expr>` , pernyataan n > 0 akan bernilai `False` maka looping tidak dilanjutkan.\n",
    "- i = 1 dan `<expr>` i < 6 dimana statement tersebut bernilai `True` oleh karena itu `<statement(s)>` di eksekusi sampai `<expr>` bernilai `False` dimana ketika n = 6 `<expr>` 1 < 6 akan bernilai `False` maka looping tidak dilanjutkan"
   ]
  },
  {
   "cell_type": "markdown",
   "metadata": {},
   "source": [
    "### 1.2.2 The Python break and continue Statement\n",
    "\n",
    "Dalam setiap contoh yang telah kita lihat sejauh ini, seluruh blok kode dalam `while` loop dieksekusi pada setiap iterasinya. Bahasa Python menyediakan dua kata kunci atau perintah yang bisa mengakhiri iterasi loop sebelum waktunya yaitu :\n",
    "\n",
    "- `break` adalah sebuah statement dalam bahasa Python yang akan membuat sebuah program berhenti atau keluar dari suatu blok pengulangan. Dan semua kode setelah `break` statement akan diabaikan. `break` statement ini dapat kita gunakan pada pengulangan `while` dan `for`.\n",
    "\n",
    "- Berbeda dengan pernyataan `break`, statement `continue` menyebabkan program langsung melanjut ke step / interval berikutnya dan mengabaikan (skip) baris kode di bawahnya (yang satu blok). `continue` statement akan melakukan pengulangan mulai dari awal lagi.\n",
    "\n",
    "Berikut contoh sederhananya :"
   ]
  },
  {
   "cell_type": "code",
   "execution_count": 28,
   "metadata": {},
   "outputs": [
    {
     "name": "stdout",
     "output_type": "stream",
     "text": [
      "4\n",
      "3\n",
      "Loop ended.\n"
     ]
    }
   ],
   "source": [
    "n = 5\n",
    "while n > 0:\n",
    "    n -= 1\n",
    "    if n == 2:\n",
    "        break\n",
    "    print(n)\n",
    "print('Loop ended.')"
   ]
  },
  {
   "cell_type": "markdown",
   "metadata": {},
   "source": [
    "Pada contoh diatas :\n",
    "\n",
    "Ketika nilai n menjadi 2 dimana kondisi dalam `if statement` bernilai true, pernyataan `break` dieksekusi. Loop dihentikan sepenuhnya, dan eksekusi program melompat ke pernyataan `print()` pada baris 7.\n",
    "\n",
    "Script berikutnya adalah `continue` statement :"
   ]
  },
  {
   "cell_type": "code",
   "execution_count": 29,
   "metadata": {},
   "outputs": [
    {
     "name": "stdout",
     "output_type": "stream",
     "text": [
      "4\n",
      "3\n",
      "1\n",
      "0\n",
      "Loop ended.\n"
     ]
    }
   ],
   "source": [
    "n = 5\n",
    "while n > 0:\n",
    "    n -= 1\n",
    "    if n == 2:\n",
    "        continue\n",
    "    print(n)\n",
    "print('Loop ended.')"
   ]
  },
  {
   "cell_type": "markdown",
   "metadata": {},
   "source": [
    "Untuk contoh continue statement diatas ketika n adalah 2,  `continue` statement menghentikan perulangan dan mengabaikan perintah print(n) setelah statement continue. Jadi, n yang bernilai 2 tidak dicetak. Perbedaannya dengan break statement, perulangan ini tidak dihentikan sepenuhnya, looping tetap dilanjutkan dengan nilai n yang terakhir untuk kembali di evaluasi dengan kondisi perulangan dalam `while` statement sebelumnya atau eksekusi program kembali ke baris pertama, kondisinya dievaluasi kembali, dan itu masih benar. Loop berlanjut, berakhir ketika n menjadi 0, seperti sebelumnya."
   ]
  },
  {
   "cell_type": "markdown",
   "metadata": {},
   "source": [
    "### 1.2.3 The else Clause\n",
    "\n",
    "Sama seperti percabangan kondisi dengan menggunakan `if statement`. Python mendukung penggunaan `else` sebagai pasangan dari `while`. \n",
    "\n",
    "Blok pernyataan `else` hanya akan dieksekusi bila kondisi `while` bernilai salah atau looping berakhir.\n",
    "\n",
    "Ini adalah fitur unik Python, tidak ditemukan di sebagian besar bahasa pemrograman lainnya. Sintaksnya atau cara penulisannya adalah :\n",
    "\n",
    "`while <expr>:\n",
    "    <statement(s)>\n",
    "else:\n",
    "    <additional_statement(s)>`\n",
    "        \n",
    "`<additional_statement(s)>` yang ditentukan dalam kondisi else akan dieksekusi ketika looping `while` berakhir.\n",
    "\n",
    "Contoh perulangangan dengan `while,, else,,` :"
   ]
  },
  {
   "cell_type": "code",
   "execution_count": 30,
   "metadata": {},
   "outputs": [
    {
     "name": "stdout",
     "output_type": "stream",
     "text": [
      "4\n",
      "3\n",
      "2\n",
      "1\n",
      "0\n",
      "Loop done.\n"
     ]
    }
   ],
   "source": [
    "n = 5\n",
    "while n > 0:\n",
    "    n -= 1\n",
    "    print(n)\n",
    "else:\n",
    "    print('Loop done.')"
   ]
  },
  {
   "cell_type": "markdown",
   "metadata": {},
   "source": [
    "Contoh diatas menggambarkan kondisi perulangan hingga berakhir, nilai  n menjadi 0, kondisi pada `while` statement n > 0 akan bernilai `False`. Karena operasi perulangan atau looping berhenti maka statement `else` dieksekusi. \n",
    "\n",
    "Sekarang perhatikan perbedaannya di sini:"
   ]
  },
  {
   "cell_type": "code",
   "execution_count": 31,
   "metadata": {},
   "outputs": [
    {
     "name": "stdout",
     "output_type": "stream",
     "text": [
      "4\n",
      "3\n",
      "2\n"
     ]
    }
   ],
   "source": [
    "n = 5\n",
    "while n > 0:\n",
    "    n -= 1\n",
    "    print(n)\n",
    "    if n == 2:\n",
    "        break\n",
    "else:\n",
    "    print('Loop done.')"
   ]
  },
  {
   "cell_type": "markdown",
   "metadata": {},
   "source": [
    "Pada contoh diatas Loop diakhiri dengan `break` statement sebelum waktunya nilai n bernilai `False`, sehingga pernyataan dalam `else` tidak dijalankan seperti pada contoh sebelumnya dimana perulangan berakhir secara natural atau evaluasi dihentikan karena hasil evaluasi n bernilai `False`."
   ]
  },
  {
   "cell_type": "markdown",
   "metadata": {},
   "source": [
    "### 1.2.3 Infinite Loops\n",
    "\n",
    "Misalkan Anda menulis sebuah perulangan dengan `while` statement yang secara teoritis tidak pernah berakhir.\n",
    "\n",
    "Sebuah kondisi dimana loop selalu benar dan tidak pernah salah disebut loop tidak terbatas (*infinite loop*). Terkadang hal ini menjadi masalah. Tapi sering juga infinite loop berguna, misalnya untuk program client/server dimana server perlu menjaga komunikasi tetap hidup dan tidak terputus.\n",
    "\n",
    "Berikut contoh statement infinite loops:"
   ]
  },
  {
   "cell_type": "markdown",
   "metadata": {},
   "source": [
    "`while True:\n",
    "    print('foo')`"
   ]
  },
  {
   "cell_type": "markdown",
   "metadata": {},
   "source": [
    "Apabila statement diatas di eksekusi maka akan menghasilkan atau mencetak `foo` sampai tidak terbatas. Hal tersebut karena statement tersebut tidak mendeklarasikan suatu variabel atau statement yang membatasi perulangan yang akan terjadi."
   ]
  },
  {
   "cell_type": "markdown",
   "metadata": {},
   "source": [
    "### 1.2.4 Nested while Loops\n",
    "\n",
    "Bahasa pemrograman Python memungkinkan penggunaan satu lingkaran di dalam loop lain. Misalnya, `if / elif / else` yang merupakan pernyataan kondisional dapat disarangkan.\n",
    "Perulangan bersarang atau nested loop adalah perulangan dalam perulangan. Berikut adalah bentuk umum dari perulangan bersarang tersebut. Di bawah ini adalah sintak dasar Nested Loop pada Python :\n",
    "\n",
    "`while <expr>:\n",
    "while <expr>:\n",
    "statement\n",
    "statement`\n",
    "\n",
    "Dibawah ini adalah contoh penggunaan Nested Loop atau perulangan bersarang :"
   ]
  },
  {
   "cell_type": "code",
   "execution_count": 32,
   "metadata": {},
   "outputs": [
    {
     "name": "stdout",
     "output_type": "stream",
     "text": [
      "2  is prime\n",
      "3  is prime\n",
      "5  is prime\n",
      "7  is prime\n",
      "11  is prime\n",
      "13  is prime\n",
      "17  is prime\n",
      "19  is prime\n",
      "23  is prime\n",
      "29  is prime\n",
      "31  is prime\n",
      "37  is prime\n",
      "41  is prime\n",
      "43  is prime\n",
      "47  is prime\n",
      "53  is prime\n",
      "59  is prime\n",
      "61  is prime\n",
      "67  is prime\n",
      "71  is prime\n",
      "73  is prime\n",
      "79  is prime\n",
      "83  is prime\n",
      "89  is prime\n",
      "97  is prime\n",
      "Good bye!\n"
     ]
    }
   ],
   "source": [
    "i = 2\n",
    "while(i < 100):\n",
    "    j = 2\n",
    "    while(j <= (i/j)):\n",
    "        if not(i%j): break\n",
    "        j = j + 1\n",
    "    if (j > i/j) : print(i, \" is prime\")\n",
    "    i = i + 1\n",
    "\n",
    "print(\"Good bye!\")"
   ]
  },
  {
   "cell_type": "markdown",
   "metadata": {},
   "source": [
    "Penggunaan modulo pada kondisional mengasumsikan nilai selain nol sebagai `True` dan nol sebagai `False`"
   ]
  },
  {
   "cell_type": "code",
   "execution_count": 33,
   "metadata": {},
   "outputs": [
    {
     "name": "stdout",
     "output_type": "stream",
     "text": [
      "foo\n",
      "> baz\n",
      "> qux\n",
      "bar\n",
      "> baz\n",
      "> qux\n"
     ]
    }
   ],
   "source": [
    "a = ['foo', 'bar']\n",
    "while len(a):\n",
    "    print(a.pop(0))\n",
    "    b = ['baz', 'qux']\n",
    "    while len(b) :\n",
    "        print('>', b.pop(0))"
   ]
  },
  {
   "cell_type": "markdown",
   "metadata": {},
   "source": [
    "Dari contoh diatas, `while` loop bisa juga dimuat dalam `while` loop lainnya."
   ]
  },
  {
   "cell_type": "markdown",
   "metadata": {},
   "source": [
    "### 1.2.5 One-Line while Loops"
   ]
  },
  {
   "cell_type": "markdown",
   "metadata": {},
   "source": [
    "Sama seperti pada `if statement`, perulangan menggunakan `while` statement juga bisa dibuat pada satu baris. Jika ada beberapa pernyataan/statement dalam blok yang membentuk loop, dapat dipisahkan dengan titik koma `;` contoh :\n"
   ]
  },
  {
   "cell_type": "code",
   "execution_count": 34,
   "metadata": {},
   "outputs": [
    {
     "name": "stdout",
     "output_type": "stream",
     "text": [
      "4\n",
      "3\n",
      "2\n",
      "1\n",
      "0\n"
     ]
    }
   ],
   "source": [
    "n = 5\n",
    "while n > 0: n -= 1; print(n)"
   ]
  },
  {
   "cell_type": "markdown",
   "metadata": {},
   "source": [
    "### 1.2.6 Python \"For\" Loop\n",
    "\n",
    "**Definite iteration** atau perulangan/looping yang terhitung. Statement `for` digunakan untuk perulangan yang terhitung jelas. Ketika kita telah menentukan berapa banyak perulangan kode maka `for` adalah pilihan statement yang digunakan untuk perulangan/looping.\n",
    "\n",
    "Berbeda dengan mayoritas bahasa pemrograman lain, di dalam Python perulangan for lebih ke perulangan untuk memproses array / himpunan. Perulangan dengan menggunakan for memiliki sintaks seperti berikut:\n",
    "\n",
    "`for <var> in <iterable>:\n",
    "    <statement(s)>`\n",
    "    \n",
    "- `<var>` adalah variabel yang menampung nilai iterasi bisa didefinisikan seperti variabel biasanya.\n",
    "- `<iterable>` adalah kumpulan objek atau sebuah himpunan, misalnya sebuah `list` atau `tuple` dari sebuah data string atau integer. \n",
    "- `<statement(s)>` adalah perintah yang akan dieksekusi oleh python.\n",
    "\n",
    "Berikut ini adalah contoh perulangan/looping menggunakan `for` :"
   ]
  },
  {
   "cell_type": "code",
   "execution_count": 35,
   "metadata": {},
   "outputs": [
    {
     "name": "stdout",
     "output_type": "stream",
     "text": [
      "foo\n",
      "bar\n",
      "baz\n"
     ]
    }
   ],
   "source": [
    "a = ['foo', 'bar', 'baz']\n",
    "for i in a:\n",
    "    print(i)"
   ]
  },
  {
   "cell_type": "markdown",
   "metadata": {},
   "source": [
    "Contoh diatas pada baris 1 variabel a sebagai tipe data list, list ini terdiri dari 3 element. Menggunakan perulangan `for`, ditampilkan semua isi variabel a. Di dalam kasus perulangan/looping menggunakan statement `for`, variabel i dipakai untuk menyimpan isi dari element yang saat ini sedang di proses. Nama variabel i sendiri boleh bebas, fungsinya hanya sebagai variabel bantu.\n",
    "\n",
    "lalu bagaimana caranya apabila mau melakukan perulangan dari tipe data dictionary, perhatikan contoh dibawah :"
   ]
  },
  {
   "cell_type": "code",
   "execution_count": 36,
   "metadata": {},
   "outputs": [
    {
     "name": "stdout",
     "output_type": "stream",
     "text": [
      "foo\n",
      "bar\n",
      "baz\n"
     ]
    }
   ],
   "source": [
    "d = {'foo': 1, 'bar': 2, 'baz': 3}\n",
    "for k in d:\n",
    "    print(k)"
   ]
  },
  {
   "cell_type": "markdown",
   "metadata": {},
   "source": [
    "Seperti yang dapat kita lihat, ketika operasi loop untuk perulangan dalam tipe data dictionary, variabel pada loop ditugaskan untuk melakukan perulangan pada daftar data kunci pada tipe data dictionary.\n",
    "\n",
    "Untuk mengakses daftar data nilai dalam dictionary untuk perulangan, kita dapat menggunakan cara berikut:"
   ]
  },
  {
   "cell_type": "code",
   "execution_count": 37,
   "metadata": {},
   "outputs": [
    {
     "name": "stdout",
     "output_type": "stream",
     "text": [
      "1\n",
      "2\n",
      "3\n"
     ]
    }
   ],
   "source": [
    "#mengakses nilai menggunakan metode slicing\n",
    "for k in d:\n",
    "    print(d[k])"
   ]
  },
  {
   "cell_type": "code",
   "execution_count": 38,
   "metadata": {},
   "outputs": [
    {
     "name": "stdout",
     "output_type": "stream",
     "text": [
      "1\n",
      "2\n",
      "3\n"
     ]
    }
   ],
   "source": [
    "#mengakses nilai dengan mendeklarasikan <iterable> adalah value dari variabel\n",
    "for k in d.values():\n",
    "    print(k)"
   ]
  },
  {
   "cell_type": "markdown",
   "metadata": {},
   "source": [
    "Kita bisa juga melakukan looping untuk menampilkan seluruh data {key : value} dalam tipe data dictionary dengan cara :"
   ]
  },
  {
   "cell_type": "code",
   "execution_count": 39,
   "metadata": {},
   "outputs": [
    {
     "name": "stdout",
     "output_type": "stream",
     "text": [
      "foo : 1\n",
      "bar : 2\n",
      "baz : 3\n"
     ]
    }
   ],
   "source": [
    "#looping data {key : value} dari dictionary\n",
    "for k,v in d.items():\n",
    "    print(k, \":\", v)"
   ]
  },
  {
   "cell_type": "markdown",
   "metadata": {},
   "source": [
    "Struktur perulangan/looping di bahasa Python sepintas tidak memungkinkan kita untuk membuat perulangan list yang panjang, misalnya dari 1, 2, 3, dst. Namun ini bisa dibuat dengan bantuan fungsi atau function `range()`.\n",
    "\n",
    "Fungsi `range()` bisa dipakai untuk membuat deret angka, yang kemudian menjadi inputan ke dalam perulangan `for`. Berikut contoh penggunaannya:"
   ]
  },
  {
   "cell_type": "code",
   "execution_count": 40,
   "metadata": {},
   "outputs": [
    {
     "name": "stdout",
     "output_type": "stream",
     "text": [
      "0\n",
      "1\n",
      "2\n",
      "3\n",
      "4\n"
     ]
    }
   ],
   "source": [
    "for n in (0, 1, 2, 3, 4):\n",
    "    print(n)"
   ]
  },
  {
   "cell_type": "markdown",
   "metadata": {},
   "source": [
    "cara diatas tidak terlalu buruk ketika hanya ada beberapa angka. Tetapi jika jumlah datanya jauh lebih banyak, itu akan menjadi cukup menyulitkan.\n",
    "\n",
    "Python menyediakan opsi yang lebih baik dengan built in function `range()`. Fungsi `range()` dalam python mengembalikan nilai dari yang ditentukan dalam fungsi `range()` berupa bilangan bulat mulai nilai 0 tetapi tidak termasuk dengan nilai akhirnya yang ditentukan dalam fungsi, contoh :"
   ]
  },
  {
   "cell_type": "code",
   "execution_count": 41,
   "metadata": {},
   "outputs": [],
   "source": [
    "x = range(5)"
   ]
  },
  {
   "cell_type": "code",
   "execution_count": 42,
   "metadata": {},
   "outputs": [
    {
     "name": "stdout",
     "output_type": "stream",
     "text": [
      "0\n",
      "1\n",
      "2\n",
      "3\n",
      "4\n"
     ]
    }
   ],
   "source": [
    "for n in x:\n",
    "    print(n)"
   ]
  },
  {
   "cell_type": "markdown",
   "metadata": {},
   "source": [
    "`break` dan `continue` juga berlaku dalam perulangan menggunakan `for` sama seperti pada `while` loop. `break` mengakhiri looping sepenuhnya sedangkan continue akan menyebabkan program langsung melanjut ke step / interval berikutnya dan mengabaikan (skip) baris kode di bawahnya (yang satu blok).\n",
    "\n",
    "berikut contohnya :"
   ]
  },
  {
   "cell_type": "code",
   "execution_count": 43,
   "metadata": {},
   "outputs": [
    {
     "name": "stdout",
     "output_type": "stream",
     "text": [
      "foo\n"
     ]
    }
   ],
   "source": [
    "for  i in ['foo', 'bar', 'baz', 'qux']:\n",
    "    if 'b' in i:\n",
    "        break\n",
    "    print(i)"
   ]
  },
  {
   "cell_type": "code",
   "execution_count": 44,
   "metadata": {},
   "outputs": [
    {
     "name": "stdout",
     "output_type": "stream",
     "text": [
      "foo\n",
      "qux\n"
     ]
    }
   ],
   "source": [
    "for  i in ['foo', 'bar', 'baz', 'qux']:\n",
    "    if 'b' in i:\n",
    "        continue\n",
    "    print(i)"
   ]
  },
  {
   "cell_type": "markdown",
   "metadata": {},
   "source": [
    "`else` statement juga bisa digunakan dalam perulangan menggunakan `for`. fungsinya juga sama dimana statement `else` akan dieksekusi apabila looping selesai secara alami (tidak dihentikan oleh `break` statement). contoh :"
   ]
  },
  {
   "cell_type": "code",
   "execution_count": 45,
   "metadata": {},
   "outputs": [
    {
     "name": "stdout",
     "output_type": "stream",
     "text": [
      "foo\n",
      "bar\n",
      "baz\n",
      "qux\n",
      "Done.\n"
     ]
    }
   ],
   "source": [
    "for i in ['foo', 'bar', 'baz', 'qux']:\n",
    "    print(i)\n",
    "else:\n",
    "    print('Done.')  # akan dieksekusi"
   ]
  },
  {
   "cell_type": "code",
   "execution_count": 46,
   "metadata": {},
   "outputs": [
    {
     "name": "stdout",
     "output_type": "stream",
     "text": [
      "foo\n"
     ]
    }
   ],
   "source": [
    "for i in ['foo', 'bar', 'baz', 'qux']:\n",
    "    if i == 'bar':\n",
    "        break\n",
    "    print(i)\n",
    "else:\n",
    "    print('Done.')  # tidak akan dieksekusi"
   ]
  },
  {
   "cell_type": "markdown",
   "metadata": {},
   "source": [
    "### Contoh penggunaan kondisi (if, elif, else)"
   ]
  },
  {
   "cell_type": "code",
   "execution_count": 47,
   "metadata": {},
   "outputs": [
    {
     "name": "stdout",
     "output_type": "stream",
     "text": [
      "Ketikan temperatur yang ingin dikonversi, eg. 45F, 120C: 90C\n",
      "Temperaturnya adalah 194 derajat\n"
     ]
    }
   ],
   "source": [
    "temp = input(\"Ketikan temperatur yang ingin dikonversi, eg. 45F, 120C: \")\n",
    "degree = int(temp[:-1])\n",
    "i_convertion = temp[-1]\n",
    "\n",
    "if i_convertion == \"C\":\n",
    "    result = int(round((9*degree) / 5 + 32))\n",
    "elif i_convertion == \"F\":\n",
    "    result = int(round((degree - 32) * 5/9))\n",
    "else:\n",
    "    print(\"Masukan input yang benar\")\n",
    "    \n",
    "print(\"Temperaturnya adalah\", result, \"derajat\")"
   ]
  },
  {
   "cell_type": "code",
   "execution_count": null,
   "metadata": {},
   "outputs": [],
   "source": []
  }
 ],
 "metadata": {
  "kernelspec": {
   "display_name": "Python 3",
   "language": "python",
   "name": "python3"
  },
  "language_info": {
   "codemirror_mode": {
    "name": "ipython",
    "version": 3
   },
   "file_extension": ".py",
   "mimetype": "text/x-python",
   "name": "python",
   "nbconvert_exporter": "python",
   "pygments_lexer": "ipython3",
   "version": "3.7.4"
  }
 },
 "nbformat": 4,
 "nbformat_minor": 2
}
